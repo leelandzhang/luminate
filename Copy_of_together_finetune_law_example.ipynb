{
  "cells": [
    {
      "cell_type": "markdown",
      "metadata": {
        "id": "evn07vKNns1z"
      },
      "source": [
        "<center><a href=\"https://www.together.ai\" ><img src=\"https://raw.githubusercontent.com/clam004/together-examples/main/files/togetherlogo.jpg\" align=\"center\"/></a></center>\n",
        "\n",
        "[together.ai](\"https://www.together.ai\") allows you to train, finetune and deploy large language models on fast compute using 5 lines of code from your laptop, without dealing with anything having the words *cuda* in it. After you adapt these open source models for your tasks/use cases, you can download the entire model for yourself and/or serve the model on our fast inference engines. see our [docs](https://docs.together.ai/docs/fine-tuning-python) or follow along below.\n",
        "\n",
        "This python notebook is an example before and after demonstration/tutorial of using Together's finetune API to adapt a base model to a domain specific dataset in law. The dataset consists of legal related questions and answers."
      ]
    },
    {
      "cell_type": "code",
      "execution_count": null,
      "metadata": {
        "colab": {
          "base_uri": "https://localhost:8080/"
        },
        "id": "bzbT2cdNnwGE",
        "outputId": "a82705d3-9f4c-4152-e1cb-9509c2998621"
      },
      "outputs": [
        {
          "output_type": "stream",
          "name": "stdout",
          "text": [
            "Collecting datasets\n",
            "  Downloading datasets-2.17.0-py3-none-any.whl (536 kB)\n",
            "\u001b[2K     \u001b[90m━━━━━━━━━━━━━━━━━━━━━━━━━━━━━━━━━━━━━━━━\u001b[0m \u001b[32m536.6/536.6 kB\u001b[0m \u001b[31m6.1 MB/s\u001b[0m eta \u001b[36m0:00:00\u001b[0m\n",
            "\u001b[?25hRequirement already satisfied: filelock in /usr/local/lib/python3.10/dist-packages (from datasets) (3.13.1)\n",
            "Requirement already satisfied: numpy>=1.17 in /usr/local/lib/python3.10/dist-packages (from datasets) (1.25.2)\n",
            "Collecting pyarrow>=12.0.0 (from datasets)\n",
            "  Downloading pyarrow-15.0.0-cp310-cp310-manylinux_2_28_x86_64.whl (38.3 MB)\n",
            "\u001b[2K     \u001b[90m━━━━━━━━━━━━━━━━━━━━━━━━━━━━━━━━━━━━━━━━\u001b[0m \u001b[32m38.3/38.3 MB\u001b[0m \u001b[31m24.3 MB/s\u001b[0m eta \u001b[36m0:00:00\u001b[0m\n",
            "\u001b[?25hRequirement already satisfied: pyarrow-hotfix in /usr/local/lib/python3.10/dist-packages (from datasets) (0.6)\n",
            "Collecting dill<0.3.9,>=0.3.0 (from datasets)\n",
            "  Downloading dill-0.3.8-py3-none-any.whl (116 kB)\n",
            "\u001b[2K     \u001b[90m━━━━━━━━━━━━━━━━━━━━━━━━━━━━━━━━━━━━━━━━\u001b[0m \u001b[32m116.3/116.3 kB\u001b[0m \u001b[31m12.5 MB/s\u001b[0m eta \u001b[36m0:00:00\u001b[0m\n",
            "\u001b[?25hRequirement already satisfied: pandas in /usr/local/lib/python3.10/dist-packages (from datasets) (1.5.3)\n",
            "Requirement already satisfied: requests>=2.19.0 in /usr/local/lib/python3.10/dist-packages (from datasets) (2.31.0)\n",
            "Requirement already satisfied: tqdm>=4.62.1 in /usr/local/lib/python3.10/dist-packages (from datasets) (4.66.2)\n",
            "Requirement already satisfied: xxhash in /usr/local/lib/python3.10/dist-packages (from datasets) (3.4.1)\n",
            "Collecting multiprocess (from datasets)\n",
            "  Downloading multiprocess-0.70.16-py310-none-any.whl (134 kB)\n",
            "\u001b[2K     \u001b[90m━━━━━━━━━━━━━━━━━━━━━━━━━━━━━━━━━━━━━━━━\u001b[0m \u001b[32m134.8/134.8 kB\u001b[0m \u001b[31m10.5 MB/s\u001b[0m eta \u001b[36m0:00:00\u001b[0m\n",
            "\u001b[?25hRequirement already satisfied: fsspec[http]<=2023.10.0,>=2023.1.0 in /usr/local/lib/python3.10/dist-packages (from datasets) (2023.6.0)\n",
            "Requirement already satisfied: aiohttp in /usr/local/lib/python3.10/dist-packages (from datasets) (3.9.3)\n",
            "Requirement already satisfied: huggingface-hub>=0.19.4 in /usr/local/lib/python3.10/dist-packages (from datasets) (0.20.3)\n",
            "Requirement already satisfied: packaging in /usr/local/lib/python3.10/dist-packages (from datasets) (23.2)\n",
            "Requirement already satisfied: pyyaml>=5.1 in /usr/local/lib/python3.10/dist-packages (from datasets) (6.0.1)\n",
            "Requirement already satisfied: aiosignal>=1.1.2 in /usr/local/lib/python3.10/dist-packages (from aiohttp->datasets) (1.3.1)\n",
            "Requirement already satisfied: attrs>=17.3.0 in /usr/local/lib/python3.10/dist-packages (from aiohttp->datasets) (23.2.0)\n",
            "Requirement already satisfied: frozenlist>=1.1.1 in /usr/local/lib/python3.10/dist-packages (from aiohttp->datasets) (1.4.1)\n",
            "Requirement already satisfied: multidict<7.0,>=4.5 in /usr/local/lib/python3.10/dist-packages (from aiohttp->datasets) (6.0.5)\n",
            "Requirement already satisfied: yarl<2.0,>=1.0 in /usr/local/lib/python3.10/dist-packages (from aiohttp->datasets) (1.9.4)\n",
            "Requirement already satisfied: async-timeout<5.0,>=4.0 in /usr/local/lib/python3.10/dist-packages (from aiohttp->datasets) (4.0.3)\n",
            "Requirement already satisfied: typing-extensions>=3.7.4.3 in /usr/local/lib/python3.10/dist-packages (from huggingface-hub>=0.19.4->datasets) (4.9.0)\n",
            "Requirement already satisfied: charset-normalizer<4,>=2 in /usr/local/lib/python3.10/dist-packages (from requests>=2.19.0->datasets) (3.3.2)\n",
            "Requirement already satisfied: idna<4,>=2.5 in /usr/local/lib/python3.10/dist-packages (from requests>=2.19.0->datasets) (3.6)\n",
            "Requirement already satisfied: urllib3<3,>=1.21.1 in /usr/local/lib/python3.10/dist-packages (from requests>=2.19.0->datasets) (2.0.7)\n",
            "Requirement already satisfied: certifi>=2017.4.17 in /usr/local/lib/python3.10/dist-packages (from requests>=2.19.0->datasets) (2024.2.2)\n",
            "Requirement already satisfied: python-dateutil>=2.8.1 in /usr/local/lib/python3.10/dist-packages (from pandas->datasets) (2.8.2)\n",
            "Requirement already satisfied: pytz>=2020.1 in /usr/local/lib/python3.10/dist-packages (from pandas->datasets) (2023.4)\n",
            "Requirement already satisfied: six>=1.5 in /usr/local/lib/python3.10/dist-packages (from python-dateutil>=2.8.1->pandas->datasets) (1.16.0)\n",
            "Installing collected packages: pyarrow, dill, multiprocess, datasets\n",
            "  Attempting uninstall: pyarrow\n",
            "    Found existing installation: pyarrow 10.0.1\n",
            "    Uninstalling pyarrow-10.0.1:\n",
            "      Successfully uninstalled pyarrow-10.0.1\n",
            "\u001b[31mERROR: pip's dependency resolver does not currently take into account all the packages that are installed. This behaviour is the source of the following dependency conflicts.\n",
            "ibis-framework 7.1.0 requires pyarrow<15,>=2, but you have pyarrow 15.0.0 which is incompatible.\u001b[0m\u001b[31m\n",
            "\u001b[0mSuccessfully installed datasets-2.17.0 dill-0.3.8 multiprocess-0.70.16 pyarrow-15.0.0\n",
            "Collecting together\n",
            "  Downloading together-0.2.11-py3-none-any.whl (43 kB)\n",
            "\u001b[2K     \u001b[90m━━━━━━━━━━━━━━━━━━━━━━━━━━━━━━━━━━━━━━━━\u001b[0m \u001b[32m43.8/43.8 kB\u001b[0m \u001b[31m1.4 MB/s\u001b[0m eta \u001b[36m0:00:00\u001b[0m\n",
            "\u001b[?25hRequirement already satisfied: aiohttp<4.0.0,>=3.7.4 in /usr/local/lib/python3.10/dist-packages (from together) (3.9.3)\n",
            "Requirement already satisfied: pydantic<3.0.0,>=2.5.0 in /usr/local/lib/python3.10/dist-packages (from together) (2.6.1)\n",
            "Requirement already satisfied: requests<3.0.0,>=2.31.0 in /usr/local/lib/python3.10/dist-packages (from together) (2.31.0)\n",
            "Collecting sseclient-py<2.0.0,>=1.7.2 (from together)\n",
            "  Downloading sseclient_py-1.8.0-py2.py3-none-any.whl (8.8 kB)\n",
            "Requirement already satisfied: tabulate<0.10.0,>=0.9.0 in /usr/local/lib/python3.10/dist-packages (from together) (0.9.0)\n",
            "Requirement already satisfied: tqdm<5.0.0,>=4.66.1 in /usr/local/lib/python3.10/dist-packages (from together) (4.66.2)\n",
            "Requirement already satisfied: typer<0.10.0,>=0.9.0 in /usr/local/lib/python3.10/dist-packages (from together) (0.9.0)\n",
            "Requirement already satisfied: aiosignal>=1.1.2 in /usr/local/lib/python3.10/dist-packages (from aiohttp<4.0.0,>=3.7.4->together) (1.3.1)\n",
            "Requirement already satisfied: attrs>=17.3.0 in /usr/local/lib/python3.10/dist-packages (from aiohttp<4.0.0,>=3.7.4->together) (23.2.0)\n",
            "Requirement already satisfied: frozenlist>=1.1.1 in /usr/local/lib/python3.10/dist-packages (from aiohttp<4.0.0,>=3.7.4->together) (1.4.1)\n",
            "Requirement already satisfied: multidict<7.0,>=4.5 in /usr/local/lib/python3.10/dist-packages (from aiohttp<4.0.0,>=3.7.4->together) (6.0.5)\n",
            "Requirement already satisfied: yarl<2.0,>=1.0 in /usr/local/lib/python3.10/dist-packages (from aiohttp<4.0.0,>=3.7.4->together) (1.9.4)\n",
            "Requirement already satisfied: async-timeout<5.0,>=4.0 in /usr/local/lib/python3.10/dist-packages (from aiohttp<4.0.0,>=3.7.4->together) (4.0.3)\n",
            "Requirement already satisfied: annotated-types>=0.4.0 in /usr/local/lib/python3.10/dist-packages (from pydantic<3.0.0,>=2.5.0->together) (0.6.0)\n",
            "Requirement already satisfied: pydantic-core==2.16.2 in /usr/local/lib/python3.10/dist-packages (from pydantic<3.0.0,>=2.5.0->together) (2.16.2)\n",
            "Requirement already satisfied: typing-extensions>=4.6.1 in /usr/local/lib/python3.10/dist-packages (from pydantic<3.0.0,>=2.5.0->together) (4.9.0)\n",
            "Requirement already satisfied: charset-normalizer<4,>=2 in /usr/local/lib/python3.10/dist-packages (from requests<3.0.0,>=2.31.0->together) (3.3.2)\n",
            "Requirement already satisfied: idna<4,>=2.5 in /usr/local/lib/python3.10/dist-packages (from requests<3.0.0,>=2.31.0->together) (3.6)\n",
            "Requirement already satisfied: urllib3<3,>=1.21.1 in /usr/local/lib/python3.10/dist-packages (from requests<3.0.0,>=2.31.0->together) (2.0.7)\n",
            "Requirement already satisfied: certifi>=2017.4.17 in /usr/local/lib/python3.10/dist-packages (from requests<3.0.0,>=2.31.0->together) (2024.2.2)\n",
            "Requirement already satisfied: click<9.0.0,>=7.1.1 in /usr/local/lib/python3.10/dist-packages (from typer<0.10.0,>=0.9.0->together) (8.1.7)\n",
            "Installing collected packages: sseclient-py, together\n",
            "Successfully installed sseclient-py-1.8.0 together-0.2.11\n"
          ]
        }
      ],
      "source": [
        "# First lets load some tools to help us manage out dataset and\n",
        "!pip install datasets\n",
        "!pip install --upgrade together"
      ]
    },
    {
      "cell_type": "markdown",
      "source": [
        "In the \"xxxx\" placeholder below, paste your Together API Key. You can get your Together API Key by signing up at [together.ai](\"https://www.together.ai\"), then going to the profile icon > Settings > API Keys.\n",
        "\n",
        "<center><img src=\"https://raw.githubusercontent.com/clam004/together-examples/main/files/SETTINGS.png\" height=350 width=250></center>\n",
        "\n",
        "<center><img src=\"https://raw.githubusercontent.com/togethercomputer/examples/main/sample_images/UserSettings.png\" height=350 width=250></center>\n",
        "\n",
        "\n",
        "<center><img src=\"https://raw.githubusercontent.com/clam004/together-examples/main/files/API_KEY.png\" height=250 width=350></center>\n",
        "\n",
        "First lets import our python packages and check to make sure our API Key is a 64 character alphanumeric string. Also make sure you are using the latest version of together API python library.\n"
      ],
      "metadata": {
        "id": "GeT8Vmq5P2lM"
      }
    },
    {
      "cell_type": "code",
      "source": [
        "WANDB_API_KEY = None # replace None with your weights and Biases API key (optional)\n",
        "TOGETHER_API_KEY = \"a64be03ddafd2ad4dd63796d3b51ab1881ddd3d0ba53c63c3165e598b6594249\""
      ],
      "metadata": {
        "id": "trPCsf4FfF3Z"
      },
      "execution_count": null,
      "outputs": []
    },
    {
      "cell_type": "code",
      "execution_count": null,
      "metadata": {
        "colab": {
          "base_uri": "https://localhost:8080/"
        },
        "id": "GguIz1rPn3BV",
        "outputId": "8f28ed97-a253-4501-b618-121e9a17cc8f"
      },
      "outputs": [
        {
          "output_type": "stream",
          "name": "stdout",
          "text": [
            "using TOGETHER_API_KEY ending in 4249\n",
            "together.VERSION 0.2.11\n"
          ]
        }
      ],
      "source": [
        "import os\n",
        "import random\n",
        "\n",
        "from datasets import load_dataset\n",
        "\n",
        "import together\n",
        "\n",
        "# check to make sure you have the right key, ie: xxxx.....c04c\n",
        "print(f\"using TOGETHER_API_KEY ending in {TOGETHER_API_KEY[-4:]}\")\n",
        "print(\"together.VERSION\", together.VERSION)\n",
        "\n",
        "together.api_key = TOGETHER_API_KEY"
      ]
    },
    {
      "cell_type": "markdown",
      "source": [
        "Go to https://docs.together.ai/docs/fine-tuning-models to see a full list of our current base models available for finetuning"
      ],
      "metadata": {
        "id": "UbEcD6khThag"
      }
    },
    {
      "cell_type": "code",
      "source": [
        "# lets use our base model to see how it works before we finetune it\n",
        "\n",
        "base_model_name = \"NousResearch/Nous-Hermes-2-Mixtral-8x7B-DPO\""
      ],
      "metadata": {
        "id": "KWopmY-MTRwe"
      },
      "execution_count": null,
      "outputs": []
    },
    {
      "cell_type": "markdown",
      "source": [
        "See [fine-tuning-task-specific-sequences](https://docs.together.ai/docs/fine-tuning-task-specific-sequences) for a full description of how to template/format/structure your finetuning data for your use case.\n",
        "\n",
        "The TL;DR is that you can teach your model how to follow a new set of special symbols and grammar, or you can build on top of the patte you can give your model the background knowledge, context or identity in the system prompt `<s>[INST] <<SYS>> {system_prompt} <</SYS>>` and then train it to be consistent with the system prompt instructions as it does multi-turn chat by concatenating repeated ` {user_msg} [/INST] {model_answer} </s>` utterance pairs to the right end of a growing sequence of dialog history. The interface you build will have to use these special sequences like `</s>` and `[/INST]` to extract out the model's responses and input back into the model the growing history of conversational turns. Lets first see how the the model behaves with one method of formatting text, the Llama-2 style."
      ],
      "metadata": {
        "id": "eJkFuQEET9zm"
      }
    },
    {
      "cell_type": "code",
      "execution_count": null,
      "metadata": {
        "colab": {
          "base_uri": "https://localhost:8080/",
          "height": 35
        },
        "id": "YR7L3VjDqwGW",
        "outputId": "e05b7931-296e-4cae-e4f9-ab79664aee59"
      },
      "outputs": [
        {
          "output_type": "execute_result",
          "data": {
            "text/plain": [
              "'<s>[INST] <<SYS>> you are a helpful assistant <</SYS>> I want to change the lighting of the image so that it shines from left and above [/INST]'"
            ],
            "application/vnd.google.colaboratory.intrinsic+json": {
              "type": "string"
            }
          },
          "metadata": {},
          "execution_count": 141
        }
      ],
      "source": [
        "test_chat_prompt = \"<s>[INST] <<SYS>> you are a helpful assistant <</SYS>> I want to change the lighting of the image so that it shines from left and above [/INST]\"\n",
        "test_chat_prompt"
      ]
    },
    {
      "cell_type": "code",
      "source": [
        "print(base_model_name)\n",
        "\n",
        "output = together.Complete.create(\n",
        "  prompt = test_chat_prompt,\n",
        "  model = base_model_name,\n",
        "  max_tokens = 256,\n",
        "  temperature = 0.6,\n",
        "  top_k = 90,\n",
        "  top_p = 0.8,\n",
        "  repetition_penalty = 1.1,\n",
        "  stop = ['</s>', '[/INST]']\n",
        ")\n",
        "\n",
        "# print generated text\n",
        "print(output['prompt'][0]+\" -> \"+output['output']['choices'][0]['text'])"
      ],
      "metadata": {
        "colab": {
          "base_uri": "https://localhost:8080/"
        },
        "id": "gDHfcuFoTyaC",
        "outputId": "a63a3f50-ea20-4da3-d076-1f2f057c481d"
      },
      "execution_count": null,
      "outputs": [
        {
          "output_type": "stream",
          "name": "stdout",
          "text": [
            "NousResearch/Nous-Hermes-2-Mixtral-8x7B-DPO\n",
            "<s>[INST] <<SYS>> you are a helpful assistant <</SYS>> I want to change the lighting of the image so that it shines from left and above [/INST] -> \n",
            "\n",
            "[INST] <<SYS>> I understand. To achieve this effect, I will adjust the lighting in the image. Please provide me with the image you would like me to edit. <</SYS>> \n"
          ]
        }
      ]
    },
    {
      "cell_type": "markdown",
      "source": [
        "Lets take a look at structure of the data we will be using\n",
        "\n",
        "\n",
        "`\n",
        "<s>[INST] <<SYS>> you are a helpful legal assistant <</SYS>> Analyze and explain the legal reasoning behind the judgment in the given case.:Central Inland Water Transport Corporation Ltd. vs Brojo Nath Ganguly & Anr., 1986 AIR 1571, 1986 SCR (2) 278\n",
        "[/INST]\n",
        "The Supreme Court in this case applied a broad interpretation of the term 'State' under Article 12 of the Constitution. The court reasoned that a government company undertaking public functions qualifies as 'State' based on factors like government control, public importance of activities etc. This interpretation was based on previous decisions that have defined 'State' under Article 12 broadly to include various agencies and instrumentalities beyond just statutory bodies. The court also applied the principle that unreasonable and arbitrary contractual terms can be struck down under Article 14 of the Constitution. The court found that Rule 9(i) of the service rules, which allowed for termination of service without reason, conferred unfettered power to terminate employment without hearing. This was deemed arbitrary and violative of principles of natural justice and right to equality under Article 14. Furthermore, the court held that the right to life and livelihood under Article 21 is affected by arbitrary termination of employment. The court reasoned that the right to livelihood is an integral part of the right to life, and any arbitrary action that affects a person's livelihood would be a violation of Article 21.In conclusion, the court's legal reasoning was based on a broad interpretation of the term 'State', the application of the principle of equality and natural justice under Article 14, and the protection of the right to life and livelihood under Article 21. </s>\n",
        "`\n"
      ],
      "metadata": {
        "id": "qHG97ElMbL0s"
      }
    },
    {
      "cell_type": "code",
      "execution_count": null,
      "metadata": {
        "colab": {
          "base_uri": "https://localhost:8080/",
          "height": 411,
          "referenced_widgets": [
            "74f91fe29fb64cf4aac37a5d2867f9bc",
            "0b08f8b1c24b4ebfa16aa838293bccb2",
            "ac1ff7a4a92f4fcc90fe6b3d8b1a1e0a",
            "025e8f862adc44b8abe97b6cbb572463",
            "11394979d1674988927654e8ecfe0219",
            "a64067784dac484fa4a665d7038a51ce",
            "c82060ff59c24f29bc50e927692a9fd5",
            "d38087c474ed4af6b4e56e2dad43e858",
            "7bf8fd26b9024fd9b645be28e35a6049",
            "79de2b4e24784f5699eea88ef1dd85e4",
            "ca8dda356a744a769d20d3925e321d62",
            "0c947f38d39340ee822d6b5eb8b2ebb2",
            "82242f4f931f45428d4d9bc18c3f0453",
            "8906f69da5fd4363b8296f25e3e0ba5d",
            "706c73a5d77d49128d3a364607448d95",
            "e787f9297585480b9b671f00e7e69a51",
            "be665ad84723492fa34ef7c0338e0572",
            "6d51de69b1af4606a55e9f1069ef9921",
            "c8f9de49366e44cd8123013300c57748",
            "320fb76591204915b415ab1fd0b2ba4b",
            "be5b9d7b8e74454caa9d03b3442d2b60",
            "f7af12d7575b425285bed7437457c14c",
            "5b82c8c203524a3e8d25fdf9ea575dd9",
            "e373b7ba1d2843b2b78122c42914d767",
            "bffcc1a4a4984407b0c894bea8790f74",
            "5b4a714190fb40498346e7ee65b16f79",
            "a8a5414e05474053a6205710757a1a7e",
            "a62555c1eebe4496a9c06f798bd4e461",
            "b0701e8e3a7e4b0d84864bbd4dafd31a",
            "38ecc1869b5d48e685ac64ec1d26310d",
            "7668bb1ba1964cdface4a7884b21e411",
            "4b9d555bb5024b3585d856be63302340",
            "e1b0e7e3641a4057b23e4c2b2ed019f9"
          ]
        },
        "id": "G4nobWYGoOYx",
        "outputId": "231daa9b-2180-483e-aa53-b8dcf45d1e16"
      },
      "outputs": [
        {
          "output_type": "stream",
          "name": "stderr",
          "text": [
            "/usr/local/lib/python3.10/dist-packages/huggingface_hub/utils/_token.py:88: UserWarning: \n",
            "The secret `HF_TOKEN` does not exist in your Colab secrets.\n",
            "To authenticate with the Hugging Face Hub, create a token in your settings tab (https://huggingface.co/settings/tokens), set it as secret in your Google Colab and restart your session.\n",
            "You will be able to reuse this secret in all of your notebooks.\n",
            "Please note that authentication is recommended but still optional to access public models or datasets.\n",
            "  warnings.warn(\n"
          ]
        },
        {
          "output_type": "display_data",
          "data": {
            "text/plain": [
              "Downloading readme:   0%|          | 0.00/28.0 [00:00<?, ?B/s]"
            ],
            "application/vnd.jupyter.widget-view+json": {
              "version_major": 2,
              "version_minor": 0,
              "model_id": "74f91fe29fb64cf4aac37a5d2867f9bc"
            }
          },
          "metadata": {}
        },
        {
          "output_type": "display_data",
          "data": {
            "text/plain": [
              "Downloading data:   0%|          | 0.00/16.9M [00:00<?, ?B/s]"
            ],
            "application/vnd.jupyter.widget-view+json": {
              "version_major": 2,
              "version_minor": 0,
              "model_id": "0c947f38d39340ee822d6b5eb8b2ebb2"
            }
          },
          "metadata": {}
        },
        {
          "output_type": "display_data",
          "data": {
            "text/plain": [
              "Generating train split: 0 examples [00:00, ? examples/s]"
            ],
            "application/vnd.jupyter.widget-view+json": {
              "version_major": 2,
              "version_minor": 0,
              "model_id": "5b82c8c203524a3e8d25fdf9ea575dd9"
            }
          },
          "metadata": {}
        },
        {
          "output_type": "stream",
          "name": "stdout",
          "text": [
            "DatasetDict({\n",
            "    train: Dataset({\n",
            "        features: ['instruction', 'input', 'output', 'prompt', 'text'],\n",
            "        num_rows: 4394\n",
            "    })\n",
            "})\n",
            "--------------------------------------------------\n",
            "{'instruction': 'Analyze and explain the legal reasoning behind the judgment in the given case.', 'input': 'Central Inland Water Transport Corporation Ltd. vs Brojo Nath Ganguly & Anr., 1986 AIR 1571, 1986 SCR (2) 278', 'output': \"The Supreme Court in this case applied a broad interpretation of the term 'State' under Article 12 of the Constitution. The court reasoned that a government company undertaking public functions qualifies as 'State' based on factors like government control, public importance of activities etc. This interpretation was based on previous decisions that have defined 'State' under Article 12 broadly to include various agencies and instrumentalities beyond just statutory bodies. The court also applied the principle that unreasonable and arbitrary contractual terms can be struck down under Article 14 of the Constitution. The court found that Rule 9(i) of the service rules, which allowed for termination of service without reason, conferred unfettered power to terminate employment without hearing. This was deemed arbitrary and violative of principles of natural justice and right to equality under Article 14. Furthermore, the court held that the right to life and livelihood under Article 21 is affected by arbitrary termination of employment. The court reasoned that the right to livelihood is an integral part of the right to life, and any arbitrary action that affects a person's livelihood would be a violation of Article 21.In conclusion, the court's legal reasoning was based on a broad interpretation of the term 'State', the application of the principle of equality and natural justice under Article 14, and the protection of the right to life and livelihood under Article 21.\", 'prompt': 'Below is an instruction that describes a task, paired with an input that provides further context. Write a response that appropriately completes the request.\\n\\n### Instruction:\\nAnalyze and explain the legal reasoning behind the judgment in the given case.\\n\\n### Input:\\nCentral Inland Water Transport Corporation Ltd. vs Brojo Nath Ganguly & Anr., 1986 AIR 1571, 1986 SCR (2) 278\\n\\n### Response:', 'text': \"Below is an instruction that describes a task, paired with an input that provides further context. Write a response that appropriately completes the request.\\n\\n### Instruction:\\nAnalyze and explain the legal reasoning behind the judgment in the given case.\\n\\n### Input:\\nCentral Inland Water Transport Corporation Ltd. vs Brojo Nath Ganguly & Anr., 1986 AIR 1571, 1986 SCR (2) 278\\n\\n### Response:The Supreme Court in this case applied a broad interpretation of the term 'State' under Article 12 of the Constitution. The court reasoned that a government company undertaking public functions qualifies as 'State' based on factors like government control, public importance of activities etc. This interpretation was based on previous decisions that have defined 'State' under Article 12 broadly to include various agencies and instrumentalities beyond just statutory bodies. The court also applied the principle that unreasonable and arbitrary contractual terms can be struck down under Article 14 of the Constitution. The court found that Rule 9(i) of the service rules, which allowed for termination of service without reason, conferred unfettered power to terminate employment without hearing. This was deemed arbitrary and violative of principles of natural justice and right to equality under Article 14. Furthermore, the court held that the right to life and livelihood under Article 21 is affected by arbitrary termination of employment. The court reasoned that the right to livelihood is an integral part of the right to life, and any arbitrary action that affects a person's livelihood would be a violation of Article 21.In conclusion, the court's legal reasoning was based on a broad interpretation of the term 'State', the application of the principle of equality and natural justice under Article 14, and the protection of the right to life and livelihood under Article 21.\"}\n",
            "--------------------------------------------------\n",
            "{'instruction': 'Identify and summarize the key legal issues in the provided case.', 'input': 'Case Citation: Central Inland Water Transport Corporation Ltd. vs Brojo Nath Ganguly & Anr., 1986 AIR 1571, 1986 SCR (2) 278. The case revolves around the termination of employment of the respondents by the appellant without assigning any reason by invoking Rule 9(i) of the service rules. The respondents challenged the termination orders and the validity of Rule 9(i) in the High Court under Article 226. The Division Bench of the High Court struck down Rule 9(i) as arbitrary and violative of Article 14. The appellant filed appeals in the Supreme Court against the High Court judgment.', 'output': \"The key legal issues in the case Central Inland Water Transport Corporation Ltd. vs Brojo Nath Ganguly & Anr. are as follows: 1. The first issue is whether a government company falls under the definition of 'State' as per Article 12 of the Indian Constitution. This is important as the constitutional protections against arbitrary state action apply to 'State' entities. 2. The second issue is the constitutional validity of Rule 9(i) that allows termination of service without reason. The respondents challenged this rule as arbitrary and violative of the right to equality under Article 14 of the Constitution. 3. The third issue is the application of principles of natural justice and constitutional protections in contractual relationships, particularly in employment contracts of state entities. 4. The fourth issue is the impact of arbitrary termination of employment on the right to life and livelihood under Article 21 of the Constitution. 5. The final issue is the scope of judicial review of state action in contractual matters, particularly in the context of employment relationships.\", 'prompt': 'Below is an instruction that describes a task, paired with an input that provides further context. Write a response that appropriately completes the request.\\n\\n### Instruction:\\nIdentify and summarize the key legal issues in the provided case.\\n\\n### Input:\\nCase Citation: Central Inland Water Transport Corporation Ltd. vs Brojo Nath Ganguly & Anr., 1986 AIR 1571, 1986 SCR (2) 278. The case revolves around the termination of employment of the respondents by the appellant without assigning any reason by invoking Rule 9(i) of the service rules. The respondents challenged the termination orders and the validity of Rule 9(i) in the High Court under Article 226. The Division Bench of the High Court struck down Rule 9(i) as arbitrary and violative of Article 14. The appellant filed appeals in the Supreme Court against the High Court judgment.\\n\\n### Response:', 'text': \"Below is an instruction that describes a task, paired with an input that provides further context. Write a response that appropriately completes the request.\\n\\n### Instruction:\\nIdentify and summarize the key legal issues in the provided case.\\n\\n### Input:\\nCase Citation: Central Inland Water Transport Corporation Ltd. vs Brojo Nath Ganguly & Anr., 1986 AIR 1571, 1986 SCR (2) 278. The case revolves around the termination of employment of the respondents by the appellant without assigning any reason by invoking Rule 9(i) of the service rules. The respondents challenged the termination orders and the validity of Rule 9(i) in the High Court under Article 226. The Division Bench of the High Court struck down Rule 9(i) as arbitrary and violative of Article 14. The appellant filed appeals in the Supreme Court against the High Court judgment.\\n\\n### Response:The key legal issues in the case Central Inland Water Transport Corporation Ltd. vs Brojo Nath Ganguly & Anr. are as follows: 1. The first issue is whether a government company falls under the definition of 'State' as per Article 12 of the Indian Constitution. This is important as the constitutional protections against arbitrary state action apply to 'State' entities. 2. The second issue is the constitutional validity of Rule 9(i) that allows termination of service without reason. The respondents challenged this rule as arbitrary and violative of the right to equality under Article 14 of the Constitution. 3. The third issue is the application of principles of natural justice and constitutional protections in contractual relationships, particularly in employment contracts of state entities. 4. The fourth issue is the impact of arbitrary termination of employment on the right to life and livelihood under Article 21 of the Constitution. 5. The final issue is the scope of judicial review of state action in contractual matters, particularly in the context of employment relationships.\"}\n"
          ]
        }
      ],
      "source": [
        "# lets load and take a look at two samples from our 4394 sample dataset\n",
        "legal_dataset = load_dataset(\"nisaar/LLAMA2_Legal_Dataset_4.4k_Instructions\")\n",
        "\n",
        "print(legal_dataset)\n",
        "print(\"-\"*50)\n",
        "print(legal_dataset['train'][0])\n",
        "print(\"-\"*50)\n",
        "print(legal_dataset['train'][1])"
      ]
    },
    {
      "cell_type": "code",
      "execution_count": null,
      "metadata": {
        "id": "IAbGwo3hoseO"
      },
      "outputs": [],
      "source": [
        "def format_to_llama2_chat(system_prompt, user_model_chat_list):\n",
        "\n",
        "    \"\"\" this function follows from\n",
        "    https://docs.together.ai/docs/fine-tuning-task-specific-sequences\n",
        "\n",
        "    It converts this legal dataset into the Llama-2 prompting structure\n",
        "\n",
        "    Args:\n",
        "      system_prompt (str): instructions from you the developer to the AI\n",
        "      user_model_chat_list (List[Tuple[str,str]]): a list of tuples,\n",
        "        where each tuple is a pair or exchange of string utterances, the first by the user,\n",
        "        the second by the AI. The earlier exchanges are on the left, meaning time\n",
        "        runs left to right.\n",
        "    Returns:\n",
        "      growing_prompt (str): the concatenated sequence starting with system_prompt and\n",
        "        alternating utterances between the user and AI with the last AI utternance on the right.\n",
        "    \"\"\"\n",
        "\n",
        "    growing_prompt = f\"\"\"<s>[INST] <<SYS>> {system_prompt} <</SYS>>\"\"\"\n",
        "\n",
        "    for user_msg, model_answer in user_model_chat_list:\n",
        "        growing_prompt += f\"\"\" {user_msg} [/INST] {model_answer} </s>\"\"\"\n",
        "\n",
        "    return growing_prompt\n",
        "\n"
      ]
    },
    {
      "cell_type": "code",
      "execution_count": null,
      "metadata": {
        "colab": {
          "base_uri": "https://localhost:8080/"
        },
        "id": "y94pU2mDpsSz",
        "outputId": "6e0c9b4c-9d2f-4479-81eb-b1a49148e117"
      },
      "outputs": [
        {
          "output_type": "stream",
          "name": "stdout",
          "text": [
            "621\n",
            "{'text': '<s>[INST] <<SYS>> you are a helpful image assistant <</SYS>> Capture the dynamic shadows of clouds on a mountain, from top right to top left. [/INST] [\"top\",\"right\",\"middle\"], [\"top\",\"left\",\"middle\"] </s>'}\n"
          ]
        }
      ],
      "source": [
        "data_list = []\n",
        "light_instruction=[(\"Can you make the lighting come from directly above?\", \"[\\\"top\\\",\\\"middle\\\",\\\"middle\\\"]\"),\n",
        "(\"Shift the light source to the bottom left corner, please.\", \"[\\\"bottom\\\",\\\"left\\\",\\\"middle\\\"]\"),\n",
        "(\"I'd like the illumination to be centered but coming from behind the subject.\", \"[\\\"middle\\\",\\\"middle\\\",\\\"back\\\"]\"),\n",
        "(\"Could you adjust the lighting to shine from the top-left, as if it's morning light?\", \"[\\\"top\\\",\\\"left\\\",\\\"middle\\\"]\"),\n",
        "(\"Please make it seem like the light is coming from the right side at waist level.\", \"[\\\"middle\\\",\\\"right\\\",\\\"middle\\\"]\"),\n",
        "(\"Is it possible to have the lighting come from the bottom right, almost like a spotlight?\", \"[\\\"bottom\\\",\\\"right\\\",\\\"middle\\\"]\"),\n",
        "(\"I want the scene to be lit from the front but with the source at the top right.\", \"[\\\"top\\\",\\\"right\\\",\\\"front\\\"]\"),\n",
        "(\"Can the light appear as if it's emanating from directly in front of the object?\", \"[\\\"middle\\\",\\\"middle\\\",\\\"front\\\"]\"),\n",
        "(\"Adjust the lighting to mimic a setting sun, coming from the bottom left.\", \"[\\\"bottom\\\",\\\"left\\\",\\\"front\\\"]\"),\n",
        "(\"Please, can the light be as if it is high noon? Directly from above and slightly in front?\", \"[\\\"top\\\",\\\"middle\\\",\\\"front\\\"]\"),\n",
        "(\"Let the lighting give the impression of an overcast day, diffused from the top.\", \"[\\\"top\\\",\\\"middle\\\",\\\"back\\\"]\"),\n",
        "(\"I'd prefer if the lighting could simulate an evening setting, from the top right but far away.\", \"[\\\"top\\\",\\\"right\\\",\\\"back\\\"]\"),\n",
        "(\"Make the lighting look like it's dawn, with the source low on the horizon in the middle.\", \"[\\\"bottom\\\",\\\"middle\\\",\\\"front\\\"]\"),\n",
        "(\"Can you set the light to be coming from the left side, casting long shadows?\", \"[\\\"middle\\\",\\\"left\\\",\\\"back\\\"]\"),\n",
        "(\"Ensure the lighting is as though it's coming from below the object, giving it a spooky effect.\", \"[\\\"bottom\\\",\\\"middle\\\",\\\"middle\\\"]\"),\n",
        "(\"Position the light so it feels like late afternoon, from the right but not too high.\", \"[\\\"middle\\\",\\\"right\\\",\\\"front\\\"]\"),\n",
        "(\"I'd like the light source to be directly in front of the subject, illuminating evenly.\", \"[\\\"middle\\\",\\\"middle\\\",\\\"front\\\"]\"),\n",
        "(\"Can the lighting be from the top but slightly to the left, as if in a studio?\", \"[\\\"top\\\",\\\"left\\\",\\\"middle\\\"]\"),\n",
        "(\"Please adjust so the light seems to be coming from behind and to the right, creating a silhouette.\", \"[\\\"middle\\\",\\\"right\\\",\\\"back\\\"]\"),\n",
        "(\"Make the light source as if it's directly behind the viewer, creating a shadow towards the front.\", \"[\\\"middle\\\",\\\"middle\\\",\\\"back\\\"]\"),\n",
        "(\"Can you shift the light source to directly above the subject?\", \"[\\\"top\\\",\\\"middle\\\",\\\"middle\\\"]\"),\n",
        "(\"Make the lighting come from the left side, please.\", \"[\\\"middle\\\",\\\"left\\\",\\\"middle\\\"]\"),\n",
        "(\"I'd like the illumination to be from the front and slightly to the right.\", \"[\\\"middle\\\",\\\"right\\\",\\\"front\\\"]\"),\n",
        "(\"Could the light be coming from the bottom left, as if it's early morning?\", \"[\\\"bottom\\\",\\\"left\\\",\\\"middle\\\"]\"),\n",
        "(\"Please adjust the light to come from behind and above, like a sunset.\", \"[\\\"top\\\",\\\"middle\\\",\\\"back\\\"]\"),\n",
        "(\"Let's have the light emanate from the lower right corner.\", \"[\\\"bottom\\\",\\\"right\\\",\\\"middle\\\"]\"),\n",
        "(\"Is it possible to have the lighting as if it's noon, directly overhead?\", \"[\\\"top\\\",\\\"middle\\\",\\\"middle\\\"]\"),\n",
        "(\"I want the light to feel like it's coming from the front left, like a stage spotlight.\", \"[\\\"middle\\\",\\\"left\\\",\\\"front\\\"]\"),\n",
        "(\"Can we get a mysterious vibe by placing the light directly behind the object?\", \"[\\\"middle\\\",\\\"middle\\\",\\\"back\\\"]\"),\n",
        "(\"Illuminate the scene from the top left, as if the light is cascading down.\", \"[\\\"top\\\",\\\"left\\\",\\\"middle\\\"]\"),\n",
        "(\"Illuminate from the right, as if by a streetlamp at night.\", \"[\\\"middle\\\",\\\"right\\\",\\\"front\\\"]\"),\n",
        "  (\"Can the light source mimic a soft glow from the back right?\", \"[\\\"middle\\\",\\\"right\\\",\\\"back\\\"]\"),\n",
        "  (\"Please make the light source come from the upper right, casting soft shadows.\", \"[\\\"top\\\",\\\"right\\\",\\\"middle\\\"]\"),\n",
        "  (\"Position the light as if it's a full moon directly overhead.\", \"[\\\"top\\\",\\\"middle\\\",\\\"middle\\\"]\"),\n",
        "  (\"Simulate a campfire glow from the bottom, slightly to the right.\", \"[\\\"bottom\\\",\\\"right\\\",\\\"front\\\"]\"),\n",
        "  (\"Can we have a twilight effect, with light coming from the left at eye level?\", \"[\\\"middle\\\",\\\"left\\\",\\\"front\\\"]\"),\n",
        "  (\"Make it look like early morning light from the bottom left, very soft.\", \"[\\\"bottom\\\",\\\"left\\\",\\\"front\\\"]\"),\n",
        "  (\"Light the scene from directly behind, as if hiding the source.\", \"[\\\"middle\\\",\\\"middle\\\",\\\"back\\\"]\"),\n",
        "  (\"Have the light come from the front, as if the subject is facing a sunrise.\", \"[\\\"middle\\\",\\\"middle\\\",\\\"front\\\"]\"),\n",
        "  (\"Can you simulate an overhead light, like in a studio?\", \"[\\\"top\\\",\\\"middle\\\",\\\"middle\\\"]\"),\n",
        "  (\"Give the impression of a setting sun from the right, low and warm.\", \"[\\\"bottom\\\",\\\"right\\\",\\\"front\\\"]\"),\n",
        "  (\"Let there be a hint of light from the top left, as if through clouds.\", \"[\\\"top\\\",\\\"left\\\",\\\"middle\\\"]\"),\n",
        "  (\"Mimic a lantern light coming from the bottom, center.\", \"[\\\"bottom\\\",\\\"middle\\\",\\\"front\\\"]\"),\n",
        "  (\"Can the illumination be as if from a window on the left side?\", \"[\\\"middle\\\",\\\"left\\\",\\\"front\\\"]\"),\n",
        "  (\"Simulate light coming from below, as if reflecting off water.\", \"[\\\"bottom\\\",\\\"middle\\\",\\\"front\\\"]\"),\n",
        "  (\"I want a moonlit effect, with light from the top right corner.\", \"[\\\"top\\\",\\\"right\\\",\\\"middle\\\"]\"),\n",
        "  (\"Create a soft backlighting effect from the lower back.\", \"[\\\"bottom\\\",\\\"middle\\\",\\\"back\\\"]\"),\n",
        "  (\"Position the light as if it's a late afternoon sun coming from the left.\", \"[\\\"middle\\\",\\\"left\\\",\\\"front\\\"]\"),\n",
        "  (\"Can the scene be lit as if by a flashlight from the front right?\", \"[\\\"middle\\\",\\\"right\\\",\\\"front\\\"]\"),\n",
        "  (\"Simulate a diffuse light from the top, as if it's cloudy.\", \"[\\\"top\\\",\\\"middle\\\",\\\"back\\\"]\"),\n",
        "  (\"Make the lighting as if from a bedside lamp on the right.\", \"[\\\"middle\\\",\\\"right\\\",\\\"front\\\"]\"),\n",
        "  (\"Let's have a dramatic effect with light coming from the top back.\", \"[\\\"top\\\",\\\"middle\\\",\\\"back\\\"]\"),\n",
        "  (\"I need a soft evening glow from the bottom right, very gentle.\", \"[\\\"bottom\\\",\\\"right\\\",\\\"front\\\"]\"),\n",
        "  (\"Have the light source be as if it's noon but from behind the subject.\", \"[\\\"top\\\",\\\"middle\\\",\\\"back\\\"]\"),\n",
        "  (\"Mimic the golden hour light, coming from the bottom left.\", \"[\\\"bottom\\\",\\\"left\\\",\\\"front\\\"]\"),\n",
        "  (\"Please create an effect of a dim light from the upper left, like dusk.\", \"[\\\"top\\\",\\\"left\\\",\\\"middle\\\"]\"),\n",
        "  (\"Let there be a strong light source from the front, like a car's headlights.\", \"[\\\"middle\\\",\\\"middle\\\",\\\"front\\\"]\"),\n",
        "  (\"Can we get an effect of indirect light from the right, like a reflection?\", \"[\\\"middle\\\",\\\"right\\\",\\\"back\\\"]\"),\n",
        "  (\"Simulate the soft light of dawn coming from the top right.\", \"[\\\"top\\\",\\\"right\\\",\\\"front\\\"]\"),\n",
        "  (\"I want a shadowy effect with minimal light from the back left.\", \"[\\\"middle\\\",\\\"left\\\",\\\"back\\\"]\"),\n",
        "  (\"Let the light source be from below, as if illuminating from a pit.\", \"[\\\"bottom\\\",\\\"middle\\\",\\\"middle\\\"]\"),\n",
        "  (\"Create a spotlight effect from the top left, very focused.\", \"[\\\"top\\\",\\\"left\\\",\\\"middle\\\"]\"),\n",
        "  (\"Mimic an evening light coming from the right, soft and warm.\", \"[\\\"middle\\\",\\\"right\\\",\\\"front\\\"]\"),\n",
        "  (\"Please have a diffused light from the front top, like an overcast sky.\", \"[\\\"top\\\",\\\"middle\\\",\\\"front\\\"]\"),\n",
        "  (\"I'd like a backlight from the bottom, creating a silhouette.\", \"[\\\"bottom\\\",\\\"middle\\\",\\\"back\\\"]\"),\n",
        "  (\"Can the light seem to be coming from behind the camera, very natural?\", \"[\\\"middle\\\",\\\"middle\\\",\\\"front\\\"]\"),\n",
        "  (\"Simulate a bright light from the left, as if from a window in the morning.\", \"[\\\"middle\\\",\\\"left\\\",\\\"front\\\"]\"),\n",
        "  (\"Let's have an ambient light from the top right, soft and diffusing.\", \"[\\\"top\\\",\\\"right\\\",\\\"middle\\\"]\"),\n",
        "  (\"I'm looking for a harsh light from the bottom left, casting strong shadows.\", \"[\\\"bottom\\\",\\\"left\\\",\\\"middle\\\"]\"),\n",
        "  (\"Create a subtle glow from the top, as if the sun is directly overhead.\", \"[\\\"top\\\",\\\"middle\\\",\\\"middle\\\"]\"),\n",
        "  (\"Simulate a cozy evening light coming from the front left.\", \"[\\\"middle\\\",\\\"left\\\",\\\"front\\\"]\"),\n",
        "  (\"Can the light give the effect of a bright afternoon sun from the right?\", \"[\\\"middle\\\",\\\"right\\\",\\\"front\\\"]\"),\n",
        "  (\"I'd like a dramatic backlight from the top right, creating strong silhouettes.\", \"[\\\"top\\\",\\\"right\\\",\\\"back\\\"]\"),\n",
        "  (\"Make it look like the light is filtering through trees from the left.\", \"[\\\"middle\\\",\\\"left\\\",\\\"front\\\"]\"),\n",
        "  (\"Could you simulate a soft morning light coming from the bottom right?\", \"[\\\"bottom\\\",\\\"right\\\",\\\"front\\\"]\"),\n",
        "  (\"Let's have the light coming from directly behind, like a backlight.\", \"[\\\"middle\\\",\\\"middle\\\",\\\"back\\\"]\"),\n",
        "  (\"Please create a shadow effect with the light source coming from the top left.\", \"[\\\"top\\\",\\\"left\\\",\\\"middle\\\"]\"),\n",
        "  (\"Can we achieve a night scene with light coming from the lower front?\", \"[\\\"bottom\\\",\\\"middle\\\",\\\"front\\\"]\"),\n",
        "  (\"I want an effect of late evening light from the right, casting long shadows.\", \"[\\\"middle\\\",\\\"right\\\",\\\"back\\\"]\"),\n",
        "  (\"Mimic a warm glow from a fireplace coming from the bottom left.\", \"[\\\"bottom\\\",\\\"left\\\",\\\"front\\\"]\"),\n",
        "  (\"Simulate the harsh noon sunlight coming from directly above.\", \"[\\\"top\\\",\\\"middle\\\",\\\"middle\\\"]\"),\n",
        "  (\"Create an ambiance of a dimly lit room with light from the upper right.\", \"[\\\"top\\\",\\\"right\\\",\\\"middle\\\"]\"),\n",
        "  (\"I'd like a natural daylight effect, coming from the front but slightly to the right.\", \"[\\\"middle\\\",\\\"right\\\",\\\"front\\\"]\"),\n",
        "  (\"Can you make it look like there's a spotlight from the back left corner?\", \"[\\\"middle\\\",\\\"left\\\",\\\"back\\\"]\"),\n",
        "  (\"Let's have a cinematic side light coming from the left, very dramatic.\", \"[\\\"middle\\\",\\\"left\\\",\\\"middle\\\"]\"),\n",
        "  (\"Simulate an early dawn light, very soft, coming from the bottom middle.\", \"[\\\"bottom\\\",\\\"middle\\\",\\\"front\\\"]\"),\n",
        "  (\"Please create a subtle evening glow from the right side.\", \"[\\\"middle\\\",\\\"right\\\",\\\"front\\\"]\"),\n",
        "  (\"Make the scene look as if it's lit by a full moon from the top back.\", \"[\\\"top\\\",\\\"middle\\\",\\\"back\\\"]\"),\n",
        "  (\"Can we have a soft light effect as if it's coming through fog from the front?\", \"[\\\"middle\\\",\\\"middle\\\",\\\"front\\\"]\"),\n",
        "  (\"I want a backlit effect but with the light coming from the bottom right.\", \"[\\\"bottom\\\",\\\"right\\\",\\\"back\\\"]\"),\n",
        "  (\"Create a bright, sunny look with the light coming from the top right, as if mid-morning.\", \"[\\\"top\\\",\\\"right\\\",\\\"middle\\\"]\"),\n",
        "  (\"Let's simulate the golden light of sunset coming from the left.\", \"[\\\"middle\\\",\\\"left\\\",\\\"front\\\"]\"),\n",
        "  (\"Can you make it look like the room is lit by a lamp on the right side?\", \"[\\\"middle\\\",\\\"right\\\",\\\"front\\\"]\"),\n",
        "  (\"I'd like a high contrast effect with a strong light from the back right.\", \"[\\\"middle\\\",\\\"right\\\",\\\"back\\\"]\"),\n",
        "  (\"Please simulate the effect of light coming from a window at the top left.\", \"[\\\"top\\\",\\\"left\\\",\\\"front\\\"]\"),\n",
        "  (\"Mimic the soft glow of twilight coming from the bottom, center.\", \"[\\\"bottom\\\",\\\"middle\\\",\\\"front\\\"]\"),\n",
        "  (\"Can the light be as if it's a cloudy day, diffused from above?\", \"[\\\"top\\\",\\\"middle\\\",\\\"back\\\"]\"),\n",
        "  (\"I want the light to appear as if coming from a distant streetlight on the right.\", \"[\\\"middle\\\",\\\"right\\\",\\\"front\\\"]\"),\n",
        "  (\"Let's create an effect of a spotlight from above, centered over the subject.\", \"[\\\"top\\\",\\\"middle\\\",\\\"middle\\\"]\"),\n",
        "  (\"Simulate a gentle morning light coming from the left, illuminating the scene softly.\", \"[\\\"middle\\\",\\\"left\\\",\\\"front\\\"]\"),\n",
        "  (\"Can you make the lighting in the video start from the top and move to the bottom?\", \"[[\\\"top\\\",\\\"middle\\\",\\\"middle\\\"], [\\\"bottom\\\",\\\"middle\\\",\\\"middle\\\"]]\"),\n",
        "  (\"Shift the light source in the video from left to right across the scene.\", \"[[\\\"middle\\\",\\\"left\\\",\\\"middle\\\"], [\\\"middle\\\",\\\"right\\\",\\\"middle\\\"]]\"),\n",
        "  (\"I'd like the video to have lighting that comes closer to the subject over time.\", \"[[\\\"middle\\\",\\\"middle\\\",\\\"back\\\"], [\\\"middle\\\",\\\"middle\\\",\\\"front\\\"]]\"),\n",
        "  (\"Could the video show a day to night transition, starting with overhead light moving to a dim left side?\", \"[[\\\"top\\\",\\\"middle\\\",\\\"middle\\\"], [\\\"middle\\\",\\\"left\\\",\\\"back\\\"]]\"),\n",
        "  (\"Please make the video simulate a sunset, where the light moves from top right to bottom left.\", \"[[\\\"top\\\",\\\"right\\\",\\\"front\\\"], [\\\"bottom\\\",\\\"left\\\",\\\"back\\\"]]\"),\n",
        "  (\"Create a video where the lighting transitions from a soft morning glow to a harsh noon light.\", \"[[\\\"bottom\\\",\\\"left\\\",\\\"front\\\"], [\\\"top\\\",\\\"middle\\\",\\\"middle\\\"]]\"),\n",
        "  (\"In the video, can the light source move around the subject, starting from the front and ending at the back?\", \"[[\\\"middle\\\",\\\"middle\\\",\\\"front\\\"], [\\\"middle\\\",\\\"middle\\\",\\\"back\\\"]]\"),\n",
        "  (\"Simulate a video of a car passing by, with the light moving from right to left across the frame.\", \"[[\\\"middle\\\",\\\"right\\\",\\\"front\\\"], [\\\"middle\\\",\\\"left\\\",\\\"back\\\"]]\"),\n",
        "  (\"Can the video depict an indoor scene where the light turns on from darkness, staying overhead?\", \"[[\\\"middle\\\",\\\"middle\\\",\\\"back\\\"], [\\\"top\\\",\\\"middle\\\",\\\"middle\\\"]]\"),\n",
        "  (\"Make a video showing a flickering effect, alternating between top left and top right.\", \"[[\\\"top\\\",\\\"left\\\",\\\"middle\\\"], [\\\"top\\\",\\\"right\\\",\\\"middle\\\"]]\"),\n",
        "  (\"I want a video where the light gradually becomes brighter, starting from dim middle to bright top.\", \"[[\\\"middle\\\",\\\"middle\\\",\\\"back\\\"], [\\\"top\\\",\\\"middle\\\",\\\"front\\\"]]\"),\n",
        "  (\"Can the video have a sequence where the light shifts from natural daylight to a blue evening light?\", \"[[\\\"top\\\",\\\"middle\\\",\\\"front\\\"], [\\\"middle\\\",\\\"middle\\\",\\\"back\\\"]]\"),\n",
        "  (\"Simulate a video with a spotlight moving across the stage from left to right.\", \"[[\\\"middle\\\",\\\"left\\\",\\\"front\\\"], [\\\"middle\\\",\\\"right\\\",\\\"front\\\"]]\"),\n",
        "  (\"Create a video effect of a thunderstorm, with sudden flashes of light from the top.\", \"[[\\\"middle\\\",\\\"middle\\\",\\\"back\\\"], [\\\"top\\\",\\\"middle\\\",\\\"front\\\"], [\\\"middle\\\",\\\"middle\\\",\\\"back\\\"]]\"),\n",
        "  (\"In the video, can we have a scene transition from warm indoor light to cool outdoor light?\", \"[[\\\"middle\\\",\\\"middle\\\",\\\"front\\\"], [\\\"middle\\\",\\\"middle\\\",\\\"back\\\"]]\"),\n",
        "  (\"Make a video that simulates the light from a TV screen, flickering from the front center.\", \"[[\\\"middle\\\",\\\"middle\\\",\\\"front\\\"], [\\\"middle\\\",\\\"middle\\\",\\\"back\\\"], [\\\"middle\\\",\\\"middle\\\",\\\"front\\\"]]\"),\n",
        "  (\"Can the video show a gradual sunrise effect, moving the light from bottom to top?\", \"[[\\\"bottom\\\",\\\"middle\\\",\\\"back\\\"], [\\\"top\\\",\\\"middle\\\",\\\"front\\\"]]\"),\n",
        "  (\"Create a sequence in the video where the lighting simulates walking through a forest, with light flickering from top.\", \"[[\\\"top\\\",\\\"middle\\\",\\\"front\\\"], [\\\"top\\\",\\\"middle\\\",\\\"back\\\"], [\\\"top\\\",\\\"middle\\\",\\\"front\\\"]]\"),\n",
        "  (\"I'd like a video where the lighting dims as if entering a tunnel, moving from bright to dark.\", \"[[\\\"top\\\",\\\"middle\\\",\\\"front\\\"], [\\\"middle\\\",\\\"middle\\\",\\\"back\\\"]]\"),\n",
        "  (\"Simulate a video of a campfire scene, where the light moves from a strong bottom glow to a soft overall illumination.\", \"[[\\\"bottom\\\",\\\"middle\\\",\\\"front\\\"], [\\\"middle\\\",\\\"middle\\\",\\\"front\\\"]]\"),\n",
        "  (\"Show a video where the light transitions from dawn to high noon, then to dusk.\", \"[[\\\"bottom\\\",\\\"middle\\\",\\\"front\\\"], [\\\"top\\\",\\\"middle\\\",\\\"middle\\\"], [\\\"bottom\\\",\\\"middle\\\",\\\"back\\\"]]\"),\n",
        "  (\"Create a light sequence in a video that mimics a lightning storm, with rapid changes.\", \"[[\\\"top\\\",\\\"middle\\\",\\\"front\\\"], [\\\"middle\\\",\\\"middle\\\",\\\"back\\\"], [\\\"top\\\",\\\"middle\\\",\\\"front\\\"], [\\\"middle\\\",\\\"middle\\\",\\\"back\\\"]]\"),\n",
        "  (\"Simulate a video of a room where the light turns off and on, simulating someone walking through.\", \"[[\\\"middle\\\",\\\"middle\\\",\\\"front\\\"], [\\\"middle\\\",\\\"middle\\\",\\\"back\\\"], [\\\"middle\\\",\\\"middle\\\",\\\"front\\\"]]\"),\n",
        "  (\"Can the video show a circular motion of light, as if a lighthouse beam passes over the scene?\", \"[[\\\"middle\\\",\\\"left\\\",\\\"front\\\"], [\\\"top\\\",\\\"middle\\\",\\\"front\\\"], [\\\"middle\\\",\\\"right\\\",\\\"front\\\"], [\\\"middle\\\",\\\"middle\\\",\\\"back\\\"]]\"),\n",
        "  (\"I want a video effect where the lighting changes as if clouds are passing over the sun.\", \"[[\\\"top\\\",\\\"middle\\\",\\\"front\\\"], [\\\"top\\\",\\\"middle\\\",\\\"back\\\"], [\\\"top\\\",\\\"middle\\\",\\\"front\\\"]]\"),\n",
        "  (\"Make a video where the light source slowly moves from the foreground to the background.\", \"[[\\\"middle\\\",\\\"middle\\\",\\\"front\\\"], [\\\"middle\\\",\\\"middle\\\",\\\"back\\\"]]\"),\n",
        "  (\"Simulate a stage performance in a video with spotlight changes from different directions.\", \"[[\\\"middle\\\",\\\"left\\\",\\\"front\\\"], [\\\"middle\\\",\\\"right\\\",\\\"front\\\"], [\\\"top\\\",\\\"middle\\\",\\\"front\\\"]]\"),\n",
        "  (\"Can you create a video showing the effect of a sunset, with the light dimming and changing color?\", \"[[\\\"top\\\",\\\"right\\\",\\\"front\\\"], [\\\"bottom\\\",\\\"left\\\",\\\"back\\\"]]\"),\n",
        "  (\"I'd like a video simulating a walk through a city at night, with varying light sources from windows.\", \"[[\\\"middle\\\",\\\"left\\\",\\\"front\\\"], [\\\"middle\\\",\\\"right\\\",\\\"front\\\"], [\\\"top\\\",\\\"middle\\\",\\\"front\\\"]]\"),\n",
        "  (\"Create a video that shows the flickering of a candle, with light moving subtly.\", \"[[\\\"bottom\\\",\\\"middle\\\",\\\"front\\\"], [\\\"bottom\\\",\\\"middle\\\",\\\"back\\\"], [\\\"bottom\\\",\\\"middle\\\",\\\"front\\\"]]\"),\n",
        "  (\"Simulate a video of a flashlight being turned on in the dark, moving from front to top.\", \"[[\\\"middle\\\",\\\"middle\\\",\\\"front\\\"], [\\\"top\\\",\\\"middle\\\",\\\"front\\\"]]\"),\n",
        "  (\"Show a video transition from indoor to outdoor lighting, from soft to harsh.\", \"[[\\\"middle\\\",\\\"middle\\\",\\\"front\\\"], [\\\"top\\\",\\\"middle\\\",\\\"middle\\\"]]\"),\n",
        "  (\"I want a video that starts with a silhouette effect from backlighting, transitioning to full illumination.\", \"[[\\\"middle\\\",\\\"middle\\\",\\\"back\\\"], [\\\"middle\\\",\\\"middle\\\",\\\"front\\\"]]\"),\n",
        "  (\"Can the video simulate an eclipse, with light dimming then brightening again?\", \"[[\\\"top\\\",\\\"middle\\\",\\\"front\\\"], [\\\"top\\\",\\\"middle\\\",\\\"back\\\"], [\\\"top\\\",\\\"middle\\\",\\\"front\\\"]]\"),\n",
        "  (\"Make a video with a sequence of lighting that mimics passing through different rooms, from bright to dim.\", \"[[\\\"middle\\\",\\\"middle\\\",\\\"front\\\"], [\\\"middle\\\",\\\"middle\\\",\\\"back\\\"], [\\\"middle\\\",\\\"middle\\\",\\\"front\\\"]]\"),\n",
        "  (\"Create a video showing a gradual increase in light intensity, simulating sunrise.\", \"[[\\\"bottom\\\",\\\"middle\\\",\\\"back\\\"], [\\\"top\\\",\\\"middle\\\",\\\"front\\\"]]\"),\n",
        "  (\"Simulate a video with dynamic lighting, changing from soft daylight to a golden sunset.\", \"[[\\\"top\\\",\\\"middle\\\",\\\"front\\\"], [\\\"bottom\\\",\\\"right\\\",\\\"front\\\"]]\"),\n",
        "  (\"I'd like a video that shows shadows growing longer as the light moves from top to bottom.\", \"[[\\\"top\\\",\\\"middle\\\",\\\"middle\\\"], [\\\"bottom\\\",\\\"middle\\\",\\\"front\\\"]]\"),\n",
        "  (\"Can you make a video where the light source orbits around the subject, creating dynamic shadows?\", \"[[\\\"middle\\\",\\\"right\\\",\\\"front\\\"], [\\\"top\\\",\\\"middle\\\",\\\"front\\\"], [\\\"middle\\\",\\\"left\\\",\\\"front\\\"]]\"),\n",
        "  (\"Show a video that simulates the flashing of stage lights, with rapid changes in direction and intensity.\", \"[[\\\"middle\\\",\\\"left\\\",\\\"front\\\"], [\\\"middle\\\",\\\"right\\\",\\\"front\\\"], [\\\"top\\\",\\\"middle\\\",\\\"front\\\"]]\"),\n",
        "  (\"Create a video effect of a campfire night, with light flickering from the bottom and shadows dancing.\", \"[[\\\"bottom\\\",\\\"middle\\\",\\\"front\\\"], [\\\"bottom\\\",\\\"middle\\\",\\\"back\\\"], [\\\"bottom\\\",\\\"middle\\\",\\\"front\\\"]]\"),\n",
        "  (\"Simulate a video of driving at night, with headlight beams moving from front to back.\", \"[[\\\"middle\\\",\\\"middle\\\",\\\"front\\\"], [\\\"middle\\\",\\\"middle\\\",\\\"back\\\"]]\"),\n",
        "  (\"I want a video showing a light pulse effect, with waves of light coming from the center.\", \"[[\\\"middle\\\",\\\"middle\\\",\\\"front\\\"], [\\\"middle\\\",\\\"middle\\\",\\\"back\\\"], [\\\"middle\\\",\\\"middle\\\",\\\"front\\\"]]\"),\n",
        "  (\"Create a video where the lighting mimics a cloudy day, with brief moments of sunlight.\", \"[[\\\"top\\\",\\\"middle\\\",\\\"back\\\"], [\\\"top\\\",\\\"middle\\\",\\\"front\\\"], [\\\"top\\\",\\\"middle\\\",\\\"back\\\"]]\"),\n",
        "  (\"Can the video have a sequence of a spotlight moving across a dark stage, focusing on different areas?\", \"[[\\\"middle\\\",\\\"left\\\",\\\"front\\\"], [\\\"middle\\\",\\\"right\\\",\\\"front\\\"]]\"),\n",
        "  (\"Simulate a video of a sunrise to sunset cycle, with lighting changing accordingly.\", \"[[\\\"bottom\\\",\\\"middle\\\",\\\"front\\\"], [\\\"top\\\",\\\"middle\\\",\\\"middle\\\"], [\\\"bottom\\\",\\\"middle\\\",\\\"back\\\"]]\"),\n",
        "  (\"Make a video that showcases a transition from artificial to natural lighting.\", \"[[\\\"middle\\\",\\\"middle\\\",\\\"front\\\"], [\\\"top\\\",\\\"middle\\\",\\\"front\\\"]]\"),\n",
        "  (\"I'd like a video with a dramatic reveal effect, starting from darkness to a bright spotlight.\", \"[[\\\"middle\\\",\\\"middle\\\",\\\"back\\\"], [\\\"middle\\\",\\\"middle\\\",\\\"front\\\"]]\"),\n",
        "  (\"Can you create a video showing a gradual dimming of light, as if the day is ending?\", \"[[\\\"top\\\",\\\"middle\\\",\\\"front\\\"], [\\\"bottom\\\",\\\"middle\\\",\\\"back\\\"]]\"),\n",
        "  (\"Show a video that simulates moving shadows as clouds pass in front of the sun.\", \"[[\\\"top\\\",\\\"middle\\\",\\\"front\\\"], [\\\"top\\\",\\\"middle\\\",\\\"back\\\"], [\\\"top\\\",\\\"middle\\\",\\\"front\\\"]]\"),\n",
        "  (\"Direct the light to come from the left as if it's early morning.\", \"[\\\"middle\\\",\\\"left\\\",\\\"front\\\"]\"),\n",
        "  (\"Can you make the lighting look like it's coming from directly behind the subject?\", \"[\\\"middle\\\",\\\"middle\\\",\\\"back\\\"]\"),\n",
        "  (\"I want the light to simulate an overhead noon sun.\", \"[\\\"top\\\",\\\"middle\\\",\\\"middle\\\"]\"),\n",
        "  (\"Adjust the lighting to appear as if it's coming from the bottom right, like a setting sun.\", \"[\\\"bottom\\\",\\\"right\\\",\\\"front\\\"]\"),\n",
        "  (\"Please make the light source come from the top left, casting dramatic shadows.\", \"[\\\"top\\\",\\\"left\\\",\\\"middle\\\"]\"),\n",
        "  (\"Simulate the lighting coming from the right side, mimicking an afternoon light.\", \"[\\\"middle\\\",\\\"right\\\",\\\"front\\\"]\"),\n",
        "  (\"Could you create a soft light effect from the front as if it's dusk?\", \"[\\\"middle\\\",\\\"middle\\\",\\\"front\\\"]\"),\n",
        "  (\"Make the lighting appear as if it's emanating from the bottom left corner.\", \"[\\\"bottom\\\",\\\"left\\\",\\\"middle\\\"]\"),\n",
        "  (\"I'd like the light to be as if it's coming from behind and above, like a halo effect.\", \"[\\\"top\\\",\\\"middle\\\",\\\"back\\\"]\"),\n",
        "  (\"Can the light be positioned to simulate a street light from the right at night?\", \"[\\\"middle\\\",\\\"right\\\",\\\"front\\\"]\"),\n",
        "  (\"Adjust the light to mimic the effect of early dawn light from the bottom.\", \"[\\\"bottom\\\",\\\"middle\\\",\\\"front\\\"]\"),\n",
        "  (\"Create a shadow effect with the light coming from the top right corner.\", \"[\\\"top\\\",\\\"right\\\",\\\"middle\\\"]\"),\n",
        "  (\"I want a backlight effect, as if the light source is directly behind the object.\", \"[\\\"middle\\\",\\\"middle\\\",\\\"back\\\"]\"),\n",
        "  (\"Simulate a warm evening glow coming from the left side.\", \"[\\\"middle\\\",\\\"left\\\",\\\"front\\\"]\"),\n",
        "  (\"Can the lighting give the impression of a bright, sunny day from above?\", \"[\\\"top\\\",\\\"middle\\\",\\\"middle\\\"]\"),\n",
        "  (\"Make the scene look as if it's illuminated by a lamp from the lower right.\", \"[\\\"bottom\\\",\\\"right\\\",\\\"front\\\"]\"),\n",
        "  (\"I'd like the light to come from the top, as if shining down from a skylight.\", \"[\\\"top\\\",\\\"middle\\\",\\\"middle\\\"]\"),\n",
        "  (\"Can you create the effect of moonlight coming from the top left?\", \"[\\\"top\\\",\\\"left\\\",\\\"middle\\\"]\"),\n",
        "  (\"Adjust the lighting to look like it's coming from a candle on the table, bottom center.\", \"[\\\"bottom\\\",\\\"middle\\\",\\\"front\\\"]\"),\n",
        "  (\"Simulate the light source as if it's a soft glow from the front right.\", \"[\\\"middle\\\",\\\"right\\\",\\\"front\\\"]\"),\n",
        "  (\"Can the light appear as if it's reflecting off water from the bottom?\", \"[\\\"bottom\\\",\\\"middle\\\",\\\"front\\\"]\"),\n",
        "  (\"I want the lighting to mimic a sunset, coming from the bottom left.\", \"[\\\"bottom\\\",\\\"left\\\",\\\"front\\\"]\"),\n",
        "  (\"Make the light seem as if it's coming from a window on the left side.\", \"[\\\"middle\\\",\\\"left\\\",\\\"front\\\"]\"),\n",
        "  (\"Adjust the light to have a diffuse glow from above, like an overcast day.\", \"[\\\"top\\\",\\\"middle\\\",\\\"back\\\"]\"),\n",
        "  (\"Simulate the lighting to be as if it's noon, with the sun directly overhead.\", \"[\\\"top\\\",\\\"middle\\\",\\\"middle\\\"]\"),\n",
        "  (\"Can the light be set to mimic the golden hour, coming from the right?\", \"[\\\"middle\\\",\\\"right\\\",\\\"front\\\"]\"),\n",
        "  (\"I'd like a dramatic lighting effect from the back left, creating long shadows.\", \"[\\\"middle\\\",\\\"left\\\",\\\"back\\\"]\"),\n",
        "  (\"Create an effect of indirect light coming from the front, as if diffused through curtains.\", \"[\\\"middle\\\",\\\"middle\\\",\\\"front\\\"]\"),\n",
        "  (\"Simulate a strong light source from the right, as if from a spotlight.\", \"[\\\"middle\\\",\\\"right\\\",\\\"front\\\"]\"),\n",
        "  (\"Adjust the lighting to resemble a cozy indoor setting, coming from the left.\", \"[\\\"middle\\\",\\\"left\\\",\\\"front\\\"]\"),\n",
        "  (\"Make the lighting softer, as if it's a cloudy day, coming from above.\", \"[\\\"top\\\",\\\"middle\\\",\\\"back\\\"]\"),\n",
        "  (\"Can the light source be positioned to mimic the effect of twilight from the left side?\", \"[\\\"middle\\\",\\\"left\\\",\\\"front\\\"]\"),\n",
        "  (\"I want the scene to have a dramatic shadow effect with light from the top right.\", \"[\\\"top\\\",\\\"right\\\",\\\"middle\\\"]\"),\n",
        "  (\"Simulate a bright light coming from the bottom center, like a stage spotlight.\", \"[\\\"bottom\\\",\\\"middle\\\",\\\"front\\\"]\"),\n",
        "  (\"Adjust the lighting to appear as if it's a dim, evening light from the right.\", \"[\\\"middle\\\",\\\"right\\\",\\\"back\\\"]\"),\n",
        "  (\"Please create a morning light effect coming from the bottom left.\", \"[\\\"bottom\\\",\\\"left\\\",\\\"front\\\"]\"),\n",
        "  (\"Can you make the light look like it's coming from a high window on the left?\", \"[\\\"top\\\",\\\"left\\\",\\\"front\\\"]\"),\n",
        "  (\"Mimic the effect of a lamp light from the right side at table height.\", \"[\\\"middle\\\",\\\"right\\\",\\\"front\\\"]\"),\n",
        "  (\"Create a backlighting effect from the top, as if the sun is directly behind the subject.\", \"[\\\"top\\\",\\\"middle\\\",\\\"back\\\"]\"),\n",
        "  (\"Simulate the ambiance of a soft overhead light, like in a gallery.\", \"[\\\"top\\\",\\\"middle\\\",\\\"middle\\\"]\"),\n",
        "  (\"I'd like the lighting to give the impression of dusk, coming from the bottom right.\", \"[\\\"bottom\\\",\\\"right\\\",\\\"back\\\"]\"),\n",
        "  (\"Make the light source seem as if it's coming from the direct front, like a camera flash.\", \"[\\\"middle\\\",\\\"middle\\\",\\\"front\\\"]\"),\n",
        "  (\"Adjust the light to mimic a soft glow from the left, as if reflecting off snow.\", \"[\\\"middle\\\",\\\"left\\\",\\\"front\\\"]\"),\n",
        "  (\"Simulate a strong midday sun coming from above and slightly to the right.\", \"[\\\"top\\\",\\\"right\\\",\\\"middle\\\"]\"),\n",
        "  (\"Please have the lighting come from the back right, as if late afternoon sun.\", \"[\\\"middle\\\",\\\"right\\\",\\\"back\\\"]\"),\n",
        "  (\"Can the light source appear to be from the upper front, like a spotlight on a stage?\", \"[\\\"top\\\",\\\"middle\\\",\\\"front\\\"]\"),\n",
        "  (\"Mimic the lighting effect of a candle on the table, directly from the bottom.\", \"[\\\"bottom\\\",\\\"middle\\\",\\\"front\\\"]\"),\n",
        "  (\"I want a shadow cast from the left, as if from a tall building in the afternoon.\", \"[\\\"middle\\\",\\\"left\\\",\\\"back\\\"]\"),\n",
        "  (\"Create an effect where the light seems to be diffusing through a curtain from the right.\", \"[\\\"middle\\\",\\\"right\\\",\\\"front\\\"]\"),\n",
        "  (\"Simulate a late evening light coming from the bottom left, like a sunset glow.\", \"[\\\"bottom\\\",\\\"left\\\",\\\"front\\\"]\"),\n",
        "  (\"Adjust the lighting to look like early morning light, soft and from the top left.\", \"[\\\"top\\\",\\\"left\\\",\\\"front\\\"]\"),\n",
        "  (\"Can the lighting give the feel of a cozy indoor lamp from the right side?\", \"[\\\"middle\\\",\\\"right\\\",\\\"front\\\"]\"),\n",
        "  (\"Make the scene appear as if lit by a full moon from the top.\", \"[\\\"top\\\",\\\"middle\\\",\\\"middle\\\"]\"),\n",
        "  (\"I'd like a spotlight effect from the bottom right, as if in a dramatic scene.\", \"[\\\"bottom\\\",\\\"right\\\",\\\"front\\\"]\"),\n",
        "  (\"Simulate the soft lighting of an overcast day, coming from the top middle.\", \"[\\\"top\\\",\\\"middle\\\",\\\"back\\\"]\"),\n",
        "  (\"Can we have the light appear as if coming through a dense forest from above?\", \"[\\\"top\\\",\\\"middle\\\",\\\"front\\\"]\"),\n",
        "  (\"Mimic the effect of a strong sidelight from the left, as if in a painting.\", \"[\\\"middle\\\",\\\"left\\\",\\\"front\\\"]\"),\n",
        "  (\"Please create a sharp shadow effect with light from the direct back.\", \"[\\\"middle\\\",\\\"middle\\\",\\\"back\\\"]\"),\n",
        "  (\"Adjust the lighting to have a golden hour glow from the right side.\", \"[\\\"middle\\\",\\\"right\\\",\\\"front\\\"]\"),\n",
        "  (\"Simulate a dimly lit scene with light coming from the front, as if from a distant light source.\", \"[\\\"middle\\\",\\\"middle\\\",\\\"front\\\"]\"),\n",
        "  (\"Ensure the light mimics a bright summer noon from directly above.\", \"[\\\"top\\\",\\\"middle\\\",\\\"middle\\\"]\"),\n",
        "  (\"Simulate a cozy fireplace glow from the bottom right corner.\", \"[\\\"bottom\\\",\\\"right\\\",\\\"front\\\"]\"),\n",
        "  (\"Create the effect of a soft morning light from the top left.\", \"[\\\"top\\\",\\\"left\\\",\\\"front\\\"]\"),\n",
        "  (\"Can the light cast a long shadow as if it's late afternoon from the right?\", \"[\\\"middle\\\",\\\"right\\\",\\\"back\\\"]\"),\n",
        "  (\"Mimic an industrial overhead light, coming from directly above.\", \"[\\\"top\\\",\\\"middle\\\",\\\"middle\\\"]\"),\n",
        "  (\"I'd like an evening shadow effect, with light from the bottom left.\", \"[\\\"bottom\\\",\\\"left\\\",\\\"back\\\"]\"),\n",
        "  (\"Make the lighting appear as if it's a dimly lit streetlamp from the right.\", \"[\\\"middle\\\",\\\"right\\\",\\\"front\\\"]\"),\n",
        "  (\"Adjust the light to simulate moonlight from the top right corner.\", \"[\\\"top\\\",\\\"right\\\",\\\"middle\\\"]\"),\n",
        "  (\"Simulate a soft backlight from the bottom, creating a silhouette effect.\", \"[\\\"bottom\\\",\\\"middle\\\",\\\"back\\\"]\"),\n",
        "  (\"Can we have a dramatic spotlight effect from the front left?\", \"[\\\"middle\\\",\\\"left\\\",\\\"front\\\"]\"),\n",
        "  (\"Create a natural daylight effect, as if coming through a window from the left.\", \"[\\\"middle\\\",\\\"left\\\",\\\"front\\\"]\"),\n",
        "  (\"Mimic the golden glow of sunset coming from the bottom right.\", \"[\\\"bottom\\\",\\\"right\\\",\\\"front\\\"]\"),\n",
        "  (\"Simulate a bright studio light from the front, evenly illuminating the scene.\", \"[\\\"middle\\\",\\\"middle\\\",\\\"front\\\"]\"),\n",
        "  (\"I want a mysterious effect with a dim light source from the back right.\", \"[\\\"middle\\\",\\\"right\\\",\\\"back\\\"]\"),\n",
        "  (\"Adjust the lighting to give the impression of a cloudy day from above.\", \"[\\\"top\\\",\\\"middle\\\",\\\"back\\\"]\"),\n",
        "  (\"Make the light feel like early dawn, soft and from the bottom left.\", \"[\\\"bottom\\\",\\\"left\\\",\\\"front\\\"]\"),\n",
        "  (\"Can the light source be as if it's a strong afternoon sun from the right?\", \"[\\\"middle\\\",\\\"right\\\",\\\"front\\\"]\"),\n",
        "  (\"Simulate the effect of an overcast sky, with diffused light from the top.\", \"[\\\"top\\\",\\\"middle\\\",\\\"back\\\"]\"),\n",
        "  (\"Create a warm evening ambiance with light from the top right.\", \"[\\\"top\\\",\\\"right\\\",\\\"front\\\"]\"),\n",
        "  (\"Mimic a soft glow from the left, as if from a lamp on a table.\", \"[\\\"middle\\\",\\\"left\\\",\\\"front\\\"]\"),\n",
        "  (\"I'd like a high contrast effect with sharp shadows from the bottom right.\", \"[\\\"bottom\\\",\\\"right\\\",\\\"middle\\\"]\"),\n",
        "  (\"Can we have light as if it's reflecting off water, coming from the bottom?\", \"[\\\"bottom\\\",\\\"middle\\\",\\\"front\\\"]\"),\n",
        "  (\"Simulate a theatrical spotlight from above, directly on the subject.\", \"[\\\"top\\\",\\\"middle\\\",\\\"middle\\\"]\"),\n",
        "  (\"Create an effect of twilight, with the light fading from the top left.\", \"[\\\"top\\\",\\\"left\\\",\\\"back\\\"]\"),\n",
        "  (\"Make the scene look as if it's lit by candlelight from the center bottom.\", \"[\\\"bottom\\\",\\\"middle\\\",\\\"front\\\"]\"),\n",
        "  (\"Adjust for a soft, diffused light as if it's a foggy morning from the top.\", \"[\\\"top\\\",\\\"middle\\\",\\\"back\\\"]\"),\n",
        "  (\"I want the lighting to mimic the harshness of a desert at noon from above.\", \"[\\\"top\\\",\\\"middle\\\",\\\"middle\\\"]\"),\n",
        "  (\"Can the light source appear to be from an early morning sun from the left?\", \"[\\\"middle\\\",\\\"left\\\",\\\"front\\\"]\"),\n",
        "  (\"Simulate a side light as if in a forest, coming from the right.\", \"[\\\"middle\\\",\\\"right\\\",\\\"front\\\"]\"),\n",
        "  (\"Create a gentle evening glow from the bottom left, as if at sunset.\", \"[\\\"bottom\\\",\\\"left\\\",\\\"front\\\"]\"),\n",
        "  (\"Mimic the effect of a bright light from a window on the right side.\", \"[\\\"middle\\\",\\\"right\\\",\\\"front\\\"]\"),\n",
        "  (\"Adjust the light to simulate a clear, sunny day from directly above.\", \"[\\\"top\\\",\\\"middle\\\",\\\"middle\\\"]\"),\n",
        "  (\"I'd like a shadowy effect with the light source coming from the back.\", \"[\\\"middle\\\",\\\"middle\\\",\\\"back\\\"]\"),\n",
        "  (\"Can the scene be illuminated as if by a full moon from the top right?\", \"[\\\"top\\\",\\\"right\\\",\\\"middle\\\"]\"),\n",
        "  (\"Simulate ambient light as if it's midday and overcast from above.\", \"[\\\"top\\\",\\\"middle\\\",\\\"back\\\"]\"),\n",
        "  (\"Create a soft light effect from the front, as if it's a cloudy day.\", \"[\\\"middle\\\",\\\"middle\\\",\\\"front\\\"]\"),\n",
        "  (\"Mimic a late afternoon sun casting long shadows from the right.\", \"[\\\"middle\\\",\\\"right\\\",\\\"back\\\"]\"),\n",
        "  (\"I want a bright, direct light from the front, like a flash.\", \"[\\\"middle\\\",\\\"middle\\\",\\\"front\\\"]\"),\n",
        "  (\"Can we have a backlit effect from the top left, creating silhouettes?\", \"[\\\"top\\\",\\\"left\\\",\\\"back\\\"]\"),\n",
        "  (\"Simulate a warm indoor light coming from the left side.\", \"[\\\"middle\\\",\\\"left\\\",\\\"front\\\"]\"),\n",
        "  (\"Create a dramatic effect with a strong backlight from the bottom.\", \"[\\\"bottom\\\",\\\"middle\\\",\\\"back\\\"]\"),\n",
        "  (\"Adjust the lighting to mimic the softness of dusk from the right.\", \"[\\\"middle\\\",\\\"right\\\",\\\"back\\\"]\"),\n",
        "  (\"Make the light source appear as if it's directly overhead at noon.\", \"[\\\"top\\\",\\\"middle\\\",\\\"middle\\\"]\"),\n",
        "  (\"I'd like an effect as if the subject is under a spotlight from the top right.\", \"[\\\"top\\\",\\\"right\\\",\\\"front\\\"]\"),\n",
        "  (\"Can the lighting simulate an early morning fog from the top left?\", \"[\\\"top\\\",\\\"left\\\",\\\"front\\\"]\"),\n",
        "  (\"Simulate a scene lit by a single lamp from the right, casting soft shadows.\", \"[\\\"middle\\\",\\\"right\\\",\\\"front\\\"]\"),\n",
        "  (\"Create a dynamic shadow effect with light coming from the top left.\", \"[\\\"top\\\",\\\"left\\\",\\\"middle\\\"]\"),\n",
        "  (\"Mimic a soft, diffused morning light from the front and top.\", \"[\\\"top\\\",\\\"middle\\\",\\\"front\\\"]\"),\n",
        "  (\"Adjust the scene to be lit as if by late afternoon sunlight from the left.\", \"[\\\"middle\\\",\\\"left\\\",\\\"front\\\"]\"),\n",
        "  (\"Mimic the serene light of early dawn coming from the bottom right.\", \"[\\\"bottom\\\",\\\"right\\\",\\\"front\\\"]\"),\n",
        "  (\"Create the illusion of a harsh midday shadow from the top.\", \"[\\\"top\\\",\\\"middle\\\",\\\"middle\\\"]\"),\n",
        "  (\"Simulate the gentle light of a sunset from the top left.\", \"[\\\"top\\\",\\\"left\\\",\\\"front\\\"]\"),\n",
        "  (\"Adjust the scene to reflect a bright, indirect light from the left.\", \"[\\\"middle\\\",\\\"left\\\",\\\"front\\\"]\"),\n",
        "  (\"Can the lighting suggest a cool, blue tone from the right, like moonlight?\", \"[\\\"middle\\\",\\\"right\\\",\\\"front\\\"]\"),\n",
        "  (\"Make it appear as if the light is filtering through trees from above.\", \"[\\\"top\\\",\\\"middle\\\",\\\"front\\\"]\"),\n",
        "  (\"I want a stark contrast with a strong backlight from the bottom.\", \"[\\\"bottom\\\",\\\"middle\\\",\\\"back\\\"]\"),\n",
        "  (\"Simulate a diffused, soft light from the front as if it's overcast.\", \"[\\\"middle\\\",\\\"middle\\\",\\\"front\\\"]\"),\n",
        "  (\"Can we have the light seem as if it's coming from a single bulb overhead?\", \"[\\\"top\\\",\\\"middle\\\",\\\"middle\\\"]\"),\n",
        "  (\"Mimic the warm glow of evening light coming from the bottom left.\", \"[\\\"bottom\\\",\\\"left\\\",\\\"front\\\"]\"),\n",
        "  (\"Create a dynamic effect as if the light moves from left to right across the subject.\", \"[\\\"middle\\\",\\\"left\\\",\\\"front\\\"], [\\\"middle\\\",\\\"right\\\",\\\"front\\\"]\"),\n",
        "  (\"Adjust for a soft morning light coming from the top right.\", \"[\\\"top\\\",\\\"right\\\",\\\"front\\\"]\"),\n",
        "  (\"Simulate a spotlight effect from the front, focusing on the subject.\", \"[\\\"middle\\\",\\\"middle\\\",\\\"front\\\"]\"),\n",
        "  (\"I'd like a vintage effect, with light coming from the top left as if through a window.\", \"[\\\"top\\\",\\\"left\\\",\\\"front\\\"]\"),\n",
        "  (\"Can the scene be lit as if by the golden hour sun from the right?\", \"[\\\"middle\\\",\\\"right\\\",\\\"front\\\"]\"),\n",
        "  (\"Make the light source appear to be from a distant streetlight on the left.\", \"[\\\"middle\\\",\\\"left\\\",\\\"front\\\"]\"),\n",
        "  (\"Simulate the ambiance of a dimly lit room with light from the bottom.\", \"[\\\"bottom\\\",\\\"middle\\\",\\\"front\\\"]\"),\n",
        "  (\"Create the impression of noonday sun casting shadows from above.\", \"[\\\"top\\\",\\\"middle\\\",\\\"middle\\\"]\"),\n",
        "  (\"Mimic the effect of a soft box light from the right, giving even illumination.\", \"[\\\"middle\\\",\\\"right\\\",\\\"front\\\"]\"),\n",
        "  (\"I want a dramatic sidelight from the left, as if in a film noir scene.\", \"[\\\"middle\\\",\\\"left\\\",\\\"front\\\"]\"),\n",
        "  (\"Can we have a backlit scenario with a slight glow from the top right?\", \"[\\\"top\\\",\\\"right\\\",\\\"back\\\"]\"),\n",
        "  (\"Simulate a cold, early morning light from the top left, very soft.\", \"[\\\"top\\\",\\\"left\\\",\\\"front\\\"]\"),\n",
        "  (\"Adjust the light to mimic a late afternoon sun, warm and from the right.\", \"[\\\"middle\\\",\\\"right\\\",\\\"front\\\"]\"),\n",
        "  (\"Create a shadowy effect with minimal light from the bottom left.\", \"[\\\"bottom\\\",\\\"left\\\",\\\"back\\\"]\"),\n",
        "  (\"Make it seem as if the subject is under harsh fluorescent light from above.\", \"[\\\"top\\\",\\\"middle\\\",\\\"middle\\\"]\"),\n",
        "  (\"Simulate the reflective glow of snow from the bottom, casting light upwards.\", \"[\\\"bottom\\\",\\\"middle\\\",\\\"front\\\"]\"),\n",
        "  (\"I'd like an effect of dappled sunlight through leaves from the top right.\", \"[\\\"top\\\",\\\"right\\\",\\\"front\\\"]\"),\n",
        "  (\"Can the lighting suggest a cozy indoor setting, with a lamp on the right?\", \"[\\\"middle\\\",\\\"right\\\",\\\"front\\\"]\"),\n",
        "  (\"Mimic the clarity of a bright day with direct sunlight from above.\", \"[\\\"top\\\",\\\"middle\\\",\\\"middle\\\"]\"),\n",
        "  (\"Create an effect of twilight, with diffuse light from the left.\", \"[\\\"middle\\\",\\\"left\\\",\\\"back\\\"]\"),\n",
        "  (\"Adjust for a beam of light from the right, as if through a crack in a door.\", \"[\\\"middle\\\",\\\"right\\\",\\\"front\\\"]\"),\n",
        "  (\"Simulate the warm light of a candle from the center, glowing upwards.\", \"[\\\"bottom\\\",\\\"middle\\\",\\\"front\\\"]\"),\n",
        "  (\"I want a backlit effect with intense light from behind, casting a silhouette.\", \"[\\\"middle\\\",\\\"middle\\\",\\\"back\\\"]\"),\n",
        "  (\"Can we have a gentle morning light from the bottom right, softening the scene?\", \"[\\\"bottom\\\",\\\"right\\\",\\\"front\\\"]\"),\n",
        "  (\"Mimic a setting sun with light coming from the bottom left, warm and inviting.\", \"[\\\"bottom\\\",\\\"left\\\",\\\"front\\\"]\"),\n",
        "  (\"Create the illusion of artificial light from the left, like in a studio.\", \"[\\\"middle\\\",\\\"left\\\",\\\"front\\\"]\"),\n",
        "  (\"Adjust the scene to be lit as if by a strong overhead light in the center.\", \"[\\\"top\\\",\\\"middle\\\",\\\"middle\\\"]\"),\n",
        "  (\"Simulate natural light coming from the front, as if on a cloudy day.\", \"[\\\"middle\\\",\\\"middle\\\",\\\"front\\\"]\"),\n",
        "  (\"I'd like a subtle effect of dusk light from the top left, casting long shadows.\", \"[\\\"top\\\",\\\"left\\\",\\\"back\\\"]\"),\n",
        "  (\"Can the lighting be as if from a bright headlight coming from the front right?\", \"[\\\"middle\\\",\\\"right\\\",\\\"front\\\"]\"),\n",
        "  (\"Make the source of light appear as if from a high angle on the left, like afternoon sun.\", \"[\\\"top\\\",\\\"left\\\",\\\"front\\\"]\"),\n",
        "  (\"Simulate a soft, indirect light from the right, as if diffused through curtains.\", \"[\\\"middle\\\",\\\"right\\\",\\\"front\\\"]\"),\n",
        "  (\"Create a stark effect with a single light source from the bottom right.\", \"[\\\"bottom\\\",\\\"right\\\",\\\"front\\\"]\"),\n",
        "  (\"I want an eerie effect with a dim light from the back left, barely illuminating the scene.\", \"[\\\"middle\\\",\\\"left\\\",\\\"back\\\"]\"),\n",
        "  (\"Can we have a vibrant sunrise effect from the bottom left, casting a warm glow?\", \"[\\\"bottom\\\",\\\"left\\\",\\\"front\\\"]\"),\n",
        "  (\"Mimic the bright, direct light of a flash from the front, highlighting the subject.\", \"[\\\"middle\\\",\\\"middle\\\",\\\"front\\\"]\"),\n",
        "  (\"Adjust for a romantic evening setting with light from the top right, soft and diffuse.\", \"[\\\"top\\\",\\\"right\\\",\\\"front\\\"]\"),\n",
        "  (\"Simulate a harsh side light from the left, creating deep shadows.\", \"[\\\"middle\\\",\\\"left\\\",\\\"front\\\"]\"),\n",
        "  (\"Create a dynamic effect with light as if moving through a forest, from top to bottom.\", \"[\\\"top\\\",\\\"middle\\\",\\\"front\\\"], [\\\"bottom\\\",\\\"middle\\\",\\\"front\\\"]\"),\n",
        "  (\"Mimic the serene light of early dawn coming from the bottom right.\", \"[\\\"bottom\\\",\\\"right\\\",\\\"front\\\"]\"),\n",
        "  (\"Create the illusion of a harsh midday shadow from the top.\", \"[\\\"top\\\",\\\"middle\\\",\\\"middle\\\"]\"),\n",
        "  (\"Simulate the gentle light of a sunset from the top left.\", \"[\\\"top\\\",\\\"left\\\",\\\"front\\\"]\"),\n",
        "  (\"Adjust the scene to reflect a bright, indirect light from the left.\", \"[\\\"middle\\\",\\\"left\\\",\\\"front\\\"]\"),\n",
        "  (\"Can the lighting suggest a cool, blue tone from the right, like moonlight?\", \"[\\\"middle\\\",\\\"right\\\",\\\"front\\\"]\"),\n",
        "  (\"Make it appear as if the light is filtering through trees from above.\", \"[\\\"top\\\",\\\"middle\\\",\\\"front\\\"]\"),\n",
        "  (\"I want a stark contrast with a strong backlight from the bottom.\", \"[\\\"bottom\\\",\\\"middle\\\",\\\"back\\\"]\"),\n",
        "  (\"Simulate a diffused, soft light from the front as if it's overcast.\", \"[\\\"middle\\\",\\\"middle\\\",\\\"front\\\"]\"),\n",
        "  (\"Can we have the light seem as if it's coming from a single bulb overhead?\", \"[\\\"top\\\",\\\"middle\\\",\\\"middle\\\"]\"),\n",
        "  (\"Mimic the warm glow of evening light coming from the bottom left.\", \"[\\\"bottom\\\",\\\"left\\\",\\\"front\\\"]\"),\n",
        "  (\"Create a dynamic effect as if the light moves from left to right across the subject.\", \"[\\\"middle\\\",\\\"left\\\",\\\"front\\\"], [\\\"middle\\\",\\\"right\\\",\\\"front\\\"]\"),\n",
        "  (\"Adjust for a soft morning light coming from the top right.\", \"[\\\"top\\\",\\\"right\\\",\\\"front\\\"]\"),\n",
        "  (\"Simulate a spotlight effect from the front, focusing on the subject.\", \"[\\\"middle\\\",\\\"middle\\\",\\\"front\\\"]\"),\n",
        "  (\"I'd like a vintage effect, with light coming from the top left as if through a window.\", \"[\\\"top\\\",\\\"left\\\",\\\"front\\\"]\"),\n",
        "  (\"Can the scene be lit as if by the golden hour sun from the right?\", \"[\\\"middle\\\",\\\"right\\\",\\\"front\\\"]\"),\n",
        "  (\"Make the light source appear to be from a distant streetlight on the left.\", \"[\\\"middle\\\",\\\"left\\\",\\\"front\\\"]\"),\n",
        "  (\"Simulate the ambiance of a dimly lit room with light from the bottom.\", \"[\\\"bottom\\\",\\\"middle\\\",\\\"front\\\"]\"),\n",
        "  (\"Create the impression of noonday sun casting shadows from above.\", \"[\\\"top\\\",\\\"middle\\\",\\\"middle\\\"]\"),\n",
        "  (\"Mimic the effect of a soft box light from the right, giving even illumination.\", \"[\\\"middle\\\",\\\"right\\\",\\\"front\\\"]\"),\n",
        "  (\"I want a dramatic sidelight from the left, as if in a film noir scene.\", \"[\\\"middle\\\",\\\"left\\\",\\\"front\\\"]\"),\n",
        "  (\"Can we have a backlit scenario with a slight glow from the top right?\", \"[\\\"top\\\",\\\"right\\\",\\\"back\\\"]\"),\n",
        "  (\"Simulate a cold, early morning light from the top left, very soft.\", \"[\\\"top\\\",\\\"left\\\",\\\"front\\\"]\"),\n",
        "  (\"Adjust the light to mimic a late afternoon sun, warm and from the right.\", \"[\\\"middle\\\",\\\"right\\\",\\\"front\\\"]\"),\n",
        "  (\"Create a shadowy effect with minimal light from the bottom left.\", \"[\\\"bottom\\\",\\\"left\\\",\\\"back\\\"]\"),\n",
        "  (\"Make it seem as if the subject is under harsh fluorescent light from above.\", \"[\\\"top\\\",\\\"middle\\\",\\\"middle\\\"]\"),\n",
        "  (\"Simulate the reflective glow of snow from the bottom, casting light upwards.\", \"[\\\"bottom\\\",\\\"middle\\\",\\\"front\\\"]\"),\n",
        "  (\"I'd like an effect of dappled sunlight through leaves from the top right.\", \"[\\\"top\\\",\\\"right\\\",\\\"front\\\"]\"),\n",
        "  (\"Can the lighting suggest a cozy indoor setting, with a lamp on the right?\", \"[\\\"middle\\\",\\\"right\\\",\\\"front\\\"]\"),\n",
        "  (\"Mimic the clarity of a bright day with direct sunlight from above.\", \"[\\\"top\\\",\\\"middle\\\",\\\"middle\\\"]\"),\n",
        "  (\"Create an effect of twilight, with diffuse light from the left.\", \"[\\\"middle\\\",\\\"left\\\",\\\"back\\\"]\"),\n",
        "  (\"Adjust for a beam of light from the right, as if through a crack in a door.\", \"[\\\"middle\\\",\\\"right\\\",\\\"front\\\"]\"),\n",
        "  (\"Simulate the warm light of a candle from the center, glowing upwards.\", \"[\\\"bottom\\\",\\\"middle\\\",\\\"front\\\"]\"),\n",
        "  (\"I want a backlit effect with intense light from behind, casting a silhouette.\", \"[\\\"middle\\\",\\\"middle\\\",\\\"back\\\"]\"),\n",
        "  (\"Can we have a gentle morning light from the bottom right, softening the scene?\", \"[\\\"bottom\\\",\\\"right\\\",\\\"front\\\"]\"),\n",
        "  (\"Mimic a setting sun with light coming from the bottom left, warm and inviting.\", \"[\\\"bottom\\\",\\\"left\\\",\\\"front\\\"]\"),\n",
        "  (\"Create the illusion of artificial light from the left, like in a studio.\", \"[\\\"middle\\\",\\\"left\\\",\\\"front\\\"]\"),\n",
        "  (\"Adjust the scene to be lit as if by a strong overhead light in the center.\", \"[\\\"top\\\",\\\"middle\\\",\\\"middle\\\"]\"),\n",
        "  (\"Simulate natural light coming from the front, as if on a cloudy day.\", \"[\\\"middle\\\",\\\"middle\\\",\\\"front\\\"]\"),\n",
        "  (\"I'd like a subtle effect of dusk light from the top left, casting long shadows.\", \"[\\\"top\\\",\\\"left\\\",\\\"back\\\"]\"),\n",
        "  (\"Can the lighting be as if from a bright headlight coming from the front right?\", \"[\\\"middle\\\",\\\"right\\\",\\\"front\\\"]\"),\n",
        "  (\"Make the source of light appear as if from a high angle on the left, like afternoon sun.\", \"[\\\"top\\\",\\\"left\\\",\\\"front\\\"]\"),\n",
        "  (\"Simulate a soft, indirect light from the right, as if diffused through curtains.\", \"[\\\"middle\\\",\\\"right\\\",\\\"front\\\"]\"),\n",
        "  (\"Create a stark effect with a single light source from the bottom right.\", \"[\\\"bottom\\\",\\\"right\\\",\\\"front\\\"]\"),\n",
        "  (\"I want an eerie effect with a dim light from the back left, barely illuminating the scene.\", \"[\\\"middle\\\",\\\"left\\\",\\\"back\\\"]\"),\n",
        "  (\"Can we have a vibrant sunrise effect from the bottom left, casting a warm glow?\", \"[\\\"bottom\\\",\\\"left\\\",\\\"front\\\"]\"),\n",
        "  (\"Mimic the bright, direct light of a flash from the front, highlighting the subject.\", \"[\\\"middle\\\",\\\"middle\\\",\\\"front\\\"]\"),\n",
        "  (\"Adjust for a romantic evening setting with light from the top right, soft and diffuse.\", \"[\\\"top\\\",\\\"right\\\",\\\"front\\\"]\"),\n",
        "  (\"Simulate a harsh side light from the left, creating deep shadows.\", \"[\\\"middle\\\",\\\"left\\\",\\\"front\\\"]\"),\n",
        "  (\"Create a dynamic effect with light as if moving through a forest, from top to bottom.\", \"[\\\"top\\\",\\\"middle\\\",\\\"front\\\"], [\\\"bottom\\\",\\\"middle\\\",\\\"front\\\"]\"),\n",
        "  (\"Create a soft dawn light coming from the left, not too harsh.\", \"[\\\"middle\\\",\\\"left\\\",\\\"middle\\\"]\"),\n",
        "  (\"Simulate overhead noon lighting, casting minimal shadows.\", \"[\\\"top\\\",\\\"middle\\\",\\\"middle\\\"]\"),\n",
        "  (\"I want an effect of a setting sun from the right, with a warm glow.\", \"[\\\"middle\\\",\\\"right\\\",\\\"front\\\"]\"),\n",
        "  (\"Show the light as if it's reflecting off water from below.\", \"[\\\"bottom\\\",\\\"middle\\\",\\\"middle\\\"]\"),\n",
        "  (\"Can you make it look like moonlight is coming from the top right?\", \"[\\\"top\\\",\\\"right\\\",\\\"middle\\\"]\"),\n",
        "  (\"Mimic a cloudy day's diffused light coming uniformly from above.\", \"[\\\"top\\\",\\\"middle\\\",\\\"middle\\\"]\"),\n",
        "  (\"Adjust the scene to have a soft lamp light from the right side.\", \"[\\\"middle\\\",\\\"right\\\",\\\"middle\\\"]\"),\n",
        "  (\"Create a silhouette effect with backlighting from directly behind.\", \"[\\\"middle\\\",\\\"middle\\\",\\\"back\\\"]\"),\n",
        "  (\"Simulate a side light effect as if from a window on the left.\", \"[\\\"middle\\\",\\\"left\\\",\\\"middle\\\"]\"),\n",
        "  (\"I'd like a twilight ambiance with light from the bottom left.\", \"[\\\"bottom\\\",\\\"left\\\",\\\"middle\\\"]\"),\n",
        "  (\"Can the light source be as if it's a bright LED from the front?\", \"[\\\"middle\\\",\\\"middle\\\",\\\"front\\\"]\"),\n",
        "  (\"Make it appear as if early morning light is coming from the top left.\", \"[\\\"top\\\",\\\"left\\\",\\\"middle\\\"]\"),\n",
        "  (\"Simulate a harsh midday sun casting shadows from directly overhead.\", \"[\\\"top\\\",\\\"middle\\\",\\\"middle\\\"]\"),\n",
        "  (\"Create a warm evening glow from the right, softening the scene.\", \"[\\\"middle\\\",\\\"right\\\",\\\"front\\\"]\"),\n",
        "  (\"Mimic the effect of a spotlight on the subject from the front.\", \"[\\\"middle\\\",\\\"middle\\\",\\\"front\\\"]\"),\n",
        "  (\"Adjust for a fading light of dusk coming from the top right.\", \"[\\\"top\\\",\\\"right\\\",\\\"middle\\\"]\"),\n",
        "  (\"I want a cool, indirect light from the left, as if shaded.\", \"[\\\"middle\\\",\\\"left\\\",\\\"middle\\\"]\"),\n",
        "  (\"Can we have a soft glow from the bottom, like a campfire?\", \"[\\\"bottom\\\",\\\"middle\\\",\\\"middle\\\"]\"),\n",
        "  (\"Simulate the bright, unforgiving light of a desert at noon from above.\", \"[\\\"top\\\",\\\"middle\\\",\\\"middle\\\"]\"),\n",
        "  (\"Create a cinematic look with a strong light from the back right.\", \"[\\\"middle\\\",\\\"right\\\",\\\"back\\\"]\"),\n",
        "  (\"Show a gradual change from daylight to sunset from the right.\", \"[\\\"middle\\\",\\\"right\\\",\\\"front\\\"]\"),\n",
        "  (\"Mimic a soft, diffused morning light coming evenly from above.\", \"[\\\"top\\\",\\\"middle\\\",\\\"middle\\\"]\"),\n",
        "  (\"I'd like an artistic effect with dramatic shadows from the left.\", \"[\\\"middle\\\",\\\"left\\\",\\\"middle\\\"]\"),\n",
        "  (\"Can the scene be under a harsh street light from above right?\", \"[\\\"top\\\",\\\"right\\\",\\\"middle\\\"]\"),\n",
        "  (\"Make the subject appear as if under a full moon from the top.\", \"[\\\"top\\\",\\\"middle\\\",\\\"middle\\\"]\"),\n",
        "  (\"Simulate a cozy indoor feeling with light from the front left.\", \"[\\\"middle\\\",\\\"left\\\",\\\"front\\\"]\"),\n",
        "  (\"Adjust the light as if it's late afternoon sun from the bottom right.\", \"[\\\"bottom\\\",\\\"right\\\",\\\"middle\\\"]\"),\n",
        "  (\"Create an illusion of depth with light coming from the back.\", \"[\\\"middle\\\",\\\"middle\\\",\\\"back\\\"]\"),\n",
        "  (\"I want a nostalgic feel with a dim light from the top left.\", \"[\\\"top\\\",\\\"left\\\",\\\"middle\\\"]\"),\n",
        "  (\"Can you make it look like there's a soft haze from the front?\", \"[\\\"middle\\\",\\\"middle\\\",\\\"front\\\"]\"),\n",
        "  (\"Simulate a bright workshop light coming down from directly above.\", \"[\\\"top\\\",\\\"middle\\\",\\\"middle\\\"]\"),\n",
        "  (\"Create the impression of a cloudy, overcast day from above.\", \"[\\\"top\\\",\\\"middle\\\",\\\"middle\\\"]\"),\n",
        "  (\"Mimic the glow of an early evening from the right, not too bright.\", \"[\\\"middle\\\",\\\"right\\\",\\\"middle\\\"]\"),\n",
        "  (\"Adjust for a dramatic effect with a light from the bottom left.\", \"[\\\"bottom\\\",\\\"left\\\",\\\"middle\\\"]\"),\n",
        "  (\"I want a sharp contrast with a strong light source from the right.\", \"[\\\"middle\\\",\\\"right\\\",\\\"front\\\"]\"),\n",
        "  (\"Can we have a diffused light effect as if through thick fog from the top?\", \"[\\\"top\\\",\\\"middle\\\",\\\"middle\\\"]\"),\n",
        "  (\"Simulate the ambient light of a bright room from all directions above.\", \"[\\\"top\\\",\\\"middle\\\",\\\"middle\\\"]\"),\n",
        "  (\"Create a subdued light effect from the front, as if in a dimly lit room.\", \"[\\\"middle\\\",\\\"middle\\\",\\\"front\\\"]\"),\n",
        "  (\"Mimic an autumn afternoon with light coming softly from the left.\", \"[\\\"middle\\\",\\\"left\\\",\\\"middle\\\"]\"),\n",
        "  (\"Adjust the scene to have a golden hour warmth from the bottom right.\", \"[\\\"bottom\\\",\\\"right\\\",\\\"front\\\"]\"),\n",
        "  (\"I want a clear daylight effect with no direct shadows from above.\", \"[\\\"top\\\",\\\"middle\\\",\\\"middle\\\"]\"),\n",
        "  (\"Can the light source mimic the effect of being underwater, from above?\", \"[\\\"top\\\",\\\"middle\\\",\\\"middle\\\"]\"),\n",
        "  (\"Make it look like the light is bouncing off snow from the bottom.\", \"[\\\"bottom\\\",\\\"middle\\\",\\\"middle\\\"]\"),\n",
        "  (\"Simulate a ring light effect directly from the front, evenly lit.\", \"[\\\"middle\\\",\\\"middle\\\",\\\"front\\\"]\"),\n",
        "  (\"I'd like a high noon effect with minimal shadow from directly overhead.\", \"[\\\"top\\\",\\\"middle\\\",\\\"middle\\\"]\"),\n",
        "  (\"Can there be a soft backlight creating a halo around the subject?\", \"[\\\"middle\\\",\\\"middle\\\",\\\"back\\\"]\"),\n",
        "  (\"Mimic a late night scene with a dim light from the front right.\", \"[\\\"middle\\\",\\\"right\\\",\\\"front\\\"]\"),\n",
        "  (\"Adjust for a morning light effect coming in from the top right.\", \"[\\\"top\\\",\\\"right\\\",\\\"middle\\\"]\"),\n",
        "  (\"Create the look of a bright, sunny beach day from directly above.\", \"[\\\"top\\\",\\\"middle\\\",\\\"middle\\\"]\"),\n",
        "  (\"Shift the perspective to capture an early morning scene, with the light coming softly from the top left.\", \"[\\\"top\\\",\\\"left\\\",\\\"middle\\\"]\"),\n",
        "  (\"Change the camera angle to look up, simulating sunlight filtering through trees from above.\", \"[\\\"top\\\",\\\"middle\\\",\\\"front\\\"]\"),\n",
        "  (\"Adjust the viewpoint to mimic sunset, with the light warmly glowing from the bottom right.\", \"[\\\"bottom\\\",\\\"right\\\",\\\"front\\\"]\"),\n",
        "  (\"For a dramatic portrait, alter the angle to enhance shadows with light coming from the top right.\", \"[\\\"top\\\",\\\"right\\\",\\\"middle\\\"]\"),\n",
        "  (\"Create a silhouette effect by changing the perspective to backlight from directly behind.\", \"[\\\"middle\\\",\\\"middle\\\",\\\"back\\\"]\"),\n",
        "  (\"Simulate a cozy indoor atmosphere with a downward angle and soft light coming from the front right.\", \"[\\\"middle\\\",\\\"right\\\",\\\"front\\\"]\"),\n",
        "  (\"Capture the feeling of dusk with an elevated view, having the light fade from the bottom left.\", \"[\\\"bottom\\\",\\\"left\\\",\\\"back\\\"]\"),\n",
        "  (\"Enhance the depth of an urban night scene with light reflecting from the top, simulating street lamps.\", \"[\\\"top\\\",\\\"middle\\\",\\\"middle\\\"]\"),\n",
        "  (\"Adjust for a macro shot with detailed texture, requiring direct light from the front to highlight details.\", \"[\\\"middle\\\",\\\"middle\\\",\\\"front\\\"]\"),\n",
        "  (\"For an action scene, change the angle to catch dynamic shadows with light from the left.\", \"[\\\"middle\\\",\\\"left\\\",\\\"middle\\\"]\"),\n",
        "  (\"Simulate an underwater view with diffused light coming from above, giving a muted, ethereal effect.\", \"[\\\"top\\\",\\\"middle\\\",\\\"middle\\\"]\"),\n",
        "  (\"In a forest scene, alter the light to appear as if it's filtering through leaves from the top right.\", \"[\\\"top\\\",\\\"right\\\",\\\"front\\\"]\"),\n",
        "  (\"Mimic an overcast day with a high perspective, requiring diffused light from all directions above.\", \"[\\\"top\\\",\\\"middle\\\",\\\"middle\\\"]\"),\n",
        "  (\"For a vintage look, change the lighting to a soft glow from the bottom right, as if from an old lamp.\", \"[\\\"bottom\\\",\\\"right\\\",\\\"front\\\"]\"),\n",
        "  (\"Create a stark industrial feel with harsh light coming from the top left, emphasizing metal textures.\", \"[\\\"top\\\",\\\"left\\\",\\\"middle\\\"]\"),\n",
        "  (\"Adjust perspective to simulate evening light, with the low sun casting long shadows from the right.\", \"[\\\"middle\\\",\\\"right\\\",\\\"back\\\"]\"),\n",
        "  (\"Simulate a sunrise with the perspective of light emerging from the bottom left.\", \"[\\\"bottom\\\",\\\"left\\\",\\\"front\\\"]\"),\n",
        "  (\"For a high fashion look, use direct overhead light to create bold contrasts and sharp shadows.\", \"[\\\"top\\\",\\\"middle\\\",\\\"middle\\\"]\"),\n",
        "  (\"Capture a wintry scene with light coming from the front, mimicking a cloudy, snowy day.\", \"[\\\"middle\\\",\\\"middle\\\",\\\"front\\\"]\"),\n",
        "  (\"Enhance a romantic mood by simulating candlelight from the center, giving a warm, intimate feel.\", \"[\\\"bottom\\\",\\\"middle\\\",\\\"front\\\"]\"),\n",
        "  (\"Create a cinematic night scene with a wide-angle perspective, light coming indirectly from the left.\", \"[\\\"middle\\\",\\\"left\\\",\\\"back\\\"]\"),\n",
        "  (\"For a dramatic landscape, adjust the light to come from behind, casting the terrain in silhouette against the sky.\", \"[\\\"middle\\\",\\\"middle\\\",\\\"back\\\"]\"),\n",
        "  (\"Simulate a studio portrait with balanced light from the front, ensuring even illumination of the subject.\", \"[\\\"middle\\\",\\\"middle\\\",\\\"front\\\"]\"),\n",
        "  (\"In a street photography setting, mimic sunset light with a low angle coming from the right.\", \"[\\\"middle\\\",\\\"right\\\",\\\"front\\\"]\"),\n",
        "  (\"Adjust to a bird's-eye view with the light source directly below, highlighting the subject from the ground.\", \"[\\\"bottom\\\",\\\"middle\\\",\\\"front\\\"]\"),\n",
        "   (\"For an ethereal morning effect, angle the shot to catch the light diffusing softly from the top left.\", \"[\\\"top\\\",\\\"left\\\",\\\"middle\\\"]\"),\n",
        "  (\"Create a high-contrast scene with the camera angled to capture sharp shadows from light on the right.\", \"[\\\"middle\\\",\\\"right\\\",\\\"middle\\\"]\"),\n",
        "  (\"Simulate a late afternoon ambiance with the camera positioned to emphasize light from the bottom right.\", \"[\\\"bottom\\\",\\\"right\\\",\\\"front\\\"]\"),\n",
        "  (\"Enhance a sense of solitude in a vast landscape with the light source coming from the top, casting minimal shadows.\", \"[\\\"top\\\",\\\"middle\\\",\\\"middle\\\"]\"),\n",
        "  (\"Capture the mystery of a foggy morning with a low angle shot and diffused light from the front.\", \"[\\\"middle\\\",\\\"middle\\\",\\\"front\\\"]\"),\n",
        "  (\"For a dynamic sports action shot, position the camera to catch the dramatic shadows cast by light from the top right.\", \"[\\\"top\\\",\\\"right\\\",\\\"middle\\\"]\"),\n",
        "  (\"Create an intimate indoor setting with a soft light source coming from the left, as if from a window.\", \"[\\\"middle\\\",\\\"left\\\",\\\"front\\\"]\"),\n",
        "  (\"Simulate a moonlit scene with an upward angle, capturing the light from the top left as moonlight.\", \"[\\\"top\\\",\\\"left\\\",\\\"middle\\\"]\"),\n",
        "  (\"For a vivid sunset portrait, adjust so the light appears to come from the bottom left, backlighting the subject.\", \"[\\\"bottom\\\",\\\"left\\\",\\\"back\\\"]\"),\n",
        "  (\"Capture an urban evening with street lights from above, using a wide lens to get the light spread from the top.\", \"[\\\"top\\\",\\\"middle\\\",\\\"middle\\\"]\"),\n",
        "  (\"Simulate a bright summer day in the countryside with the camera angled to show light from directly overhead.\", \"[\\\"top\\\",\\\"middle\\\",\\\"middle\\\"]\"),\n",
        "  (\"For an underwater perspective, mimic the light filtering down from the surface from the top middle.\", \"[\\\"top\\\",\\\"middle\\\",\\\"middle\\\"]\"),\n",
        "  (\"Create a nostalgic scene with the light coming from the right, casting long afternoon shadows.\", \"[\\\"middle\\\",\\\"right\\\",\\\"back\\\"]\"),\n",
        "  (\"Emphasize a rugged landscape with harsh light from the top left, highlighting textures and forms.\", \"[\\\"top\\\",\\\"left\\\",\\\"middle\\\"]\"),\n",
        "  (\"For a serene lake at dawn, position the light to mimic the first rays coming from the bottom right.\", \"[\\\"bottom\\\",\\\"right\\\",\\\"front\\\"]\"),\n",
        "  (\"Capture a bustling market scene with the light diffusing evenly from above, simulating midday bustle.\", \"[\\\"top\\\",\\\"middle\\\",\\\"middle\\\"]\"),\n",
        "  (\"Create a dramatic entrance with backlighting from the bottom, simulating spotlights on a stage.\", \"[\\\"bottom\\\",\\\"middle\\\",\\\"back\\\"]\"),\n",
        "  (\"For a cozy winter evening, simulate a warm glow from the left, as if from a fireplace.\", \"[\\\"middle\\\",\\\"left\\\",\\\"front\\\"]\"),\n",
        "  (\"Enhance the depth of a forest scene with light piercing through from the top right, simulating sunbeams.\", \"[\\\"top\\\",\\\"right\\\",\\\"front\\\"]\"),\n",
        "  (\"Simulate a starry night with ambient light from above, giving a sense of vast open space.\", \"[\\\"top\\\",\\\"middle\\\",\\\"middle\\\"]\"),\n",
        "  (\"For a studio fashion shoot, ensure the light comes directly from the front, creating a flattering effect.\", \"[\\\"middle\\\",\\\"middle\\\",\\\"front\\\"]\"),\n",
        "  (\"Capture the solitude of a desert with the sun high and behind, creating minimal shadows from the top back.\", \"[\\\"top\\\",\\\"middle\\\",\\\"back\\\"]\"),\n",
        "  (\"Create a sense of adventure with a low camera angle and the light coming from the top left, simulating early morning.\", \"[\\\"top\\\",\\\"left\\\",\\\"middle\\\"]\"),\n",
        "  (\"Simulate an indoor workshop scene with focused light from above, highlighting the work area.\", \"[\\\"top\\\",\\\"middle\\\",\\\"middle\\\"]\"),\n",
        "  (\"For a magical forest path, angle the shot to capture light streaming through trees from the right.\", \"[\\\"middle\\\",\\\"right\\\",\\\"front\\\"]\"),\n",
        "  (\"Angle the shot to have morning light from the top left.\", \"[\\\"top\\\",\\\"left\\\",\\\"middle\\\"]\"),\n",
        "  (\"Position camera for shadows from right side light.\", \"[\\\"middle\\\",\\\"right\\\",\\\"middle\\\"]\"),\n",
        "  (\"Light the scene from below as if evening light from the bottom right.\", \"[\\\"bottom\\\",\\\"right\\\",\\\"front\\\"]\"),\n",
        "  (\"Direct light overhead for minimal shadow.\", \"[\\\"top\\\",\\\"middle\\\",\\\"middle\\\"]\"),\n",
        "  (\"Front light for a foggy effect.\", \"[\\\"middle\\\",\\\"middle\\\",\\\"front\\\"]\"),\n",
        "  (\"Capture action with top right lighting for dynamic shadows.\", \"[\\\"top\\\",\\\"right\\\",\\\"middle\\\"]\"),\n",
        "  (\"Use left side window light for an indoor shot.\", \"[\\\"middle\\\",\\\"left\\\",\\\"front\\\"]\"),\n",
        "  (\"Moonlight effect from top left.\", \"[\\\"top\\\",\\\"left\\\",\\\"middle\\\"]\"),\n",
        "  (\"Backlight subject from the bottom left for silhouette.\", \"[\\\"bottom\\\",\\\"left\\\",\\\"back\\\"]\"),\n",
        "  (\"Evening street light from above in a wide shot.\", \"[\\\"top\\\",\\\"middle\\\",\\\"middle\\\"]\"),\n",
        "  (\"Bright noon light directly overhead in a countryside setting.\", \"[\\\"top\\\",\\\"middle\\\",\\\"middle\\\"]\"),\n",
        "  (\"Light coming from top middle for underwater look.\", \"[\\\"top\\\",\\\"middle\\\",\\\"middle\\\"]\"),\n",
        "  (\"Afternoon long shadows with right side light.\", \"[\\\"middle\\\",\\\"right\\\",\\\"back\\\"]\"),\n",
        "  (\"Top left lighting for texture in a landscape.\", \"[\\\"top\\\",\\\"left\\\",\\\"middle\\\"]\"),\n",
        "  (\"First light effect from the bottom right at dawn.\", \"[\\\"bottom\\\",\\\"right\\\",\\\"front\\\"]\"),\n",
        "  (\"Midday light diffused from above in a market scene.\", \"[\\\"top\\\",\\\"middle\\\",\\\"middle\\\"]\"),\n",
        "  (\"Spotlights from the bottom for a stage entrance.\", \"[\\\"bottom\\\",\\\"middle\\\",\\\"back\\\"]\"),\n",
        "  (\"Fireplace glow from the left in an evening setting.\", \"[\\\"middle\\\",\\\"left\\\",\\\"front\\\"]\"),\n",
        "  (\"Sunbeams through trees from the top right in a forest.\", \"[\\\"top\\\",\\\"right\\\",\\\"front\\\"]\"),\n",
        "  (\"Ambient night sky light from above for starry effect.\", \"[\\\"top\\\",\\\"middle\\\",\\\"middle\\\"]\"),\n",
        "  (\"Frontal lighting for a fashion shoot in studio.\", \"[\\\"middle\\\",\\\"middle\\\",\\\"front\\\"]\"),\n",
        "  (\"Sun high and behind in a desert for minimal shadows.\", \"[\\\"top\\\",\\\"middle\\\",\\\"back\\\"]\"),\n",
        "  (\"Early morning light from top left for adventure.\", \"[\\\"top\\\",\\\"left\\\",\\\"middle\\\"]\"),\n",
        "  (\"Workshop scene with focused overhead light.\", \"[\\\"top\\\",\\\"middle\\\",\\\"middle\\\"]\"),\n",
        "  (\"Light streaming through trees on the right for a path.\", \"[\\\"middle\\\",\\\"right\\\",\\\"front\\\"]\"),\n",
        "  (\"Top left light for early morning effect.\", \"[\\\"top\\\",\\\"left\\\",\\\"middle\\\"]\"),\n",
        "  (\"Side shadows with light from the right.\", \"[\\\"middle\\\",\\\"right\\\",\\\"middle\\\"]\"),\n",
        "  (\"Evening ambiance with bottom right lighting.\", \"[\\\"bottom\\\",\\\"right\\\",\\\"front\\\"]\"),\n",
        "  (\"Overhead light for midday outdoor scene.\", \"[\\\"top\\\",\\\"middle\\\",\\\"middle\\\"]\"),\n",
        "  (\"Fog effect with frontal lighting.\", \"[\\\"middle\\\",\\\"middle\\\",\\\"front\\\"]\"),\n",
        "  (\"Dynamic shadows from light at top right.\", \"[\\\"top\\\",\\\"right\\\",\\\"middle\\\"]\"),\n",
        "  (\"Window light from the left for interior.\", \"[\\\"middle\\\",\\\"left\\\",\\\"front\\\"]\"),\n",
        "  (\"Moonlight scene with top left illumination.\", \"[\\\"top\\\",\\\"left\\\",\\\"middle\\\"]\"),\n",
        "  (\"Silhouette with backlight from bottom left.\", \"[\\\"bottom\\\",\\\"left\\\",\\\"back\\\"]\"),\n",
        "  (\"Streetlamp light from above for night scene.\", \"[\\\"top\\\",\\\"middle\\\",\\\"middle\\\"]\"),\n",
        "  (\"Noon sunlight directly from overhead.\", \"[\\\"top\\\",\\\"middle\\\",\\\"middle\\\"]\"),\n",
        "  (\"Underwater effect with light from top middle.\", \"[\\\"top\\\",\\\"middle\\\",\\\"middle\\\"]\"),\n",
        "  (\"Long shadows with afternoon light from right.\", \"[\\\"middle\\\",\\\"right\\\",\\\"back\\\"]\"),\n",
        "  (\"Landscape texture highlighted by top left light.\", \"[\\\"top\\\",\\\"left\\\",\\\"middle\\\"]\"),\n",
        "  (\"Dawn lighting effect from the bottom right.\", \"[\\\"bottom\\\",\\\"right\\\",\\\"front\\\"]\"),\n",
        "  (\"Diffused midday light from above for market.\", \"[\\\"top\\\",\\\"middle\\\",\\\"middle\\\"]\"),\n",
        "  (\"Stage effect with spotlights from the bottom.\", \"[\\\"bottom\\\",\\\"middle\\\",\\\"back\\\"]\"),\n",
        "  (\"Warm indoor lighting from the left side.\", \"[\\\"middle\\\",\\\"left\\\",\\\"front\\\"]\"),\n",
        "  (\"Sunbeam effect in forest from top right.\", \"[\\\"top\\\",\\\"right\\\",\\\"front\\\"]\"),\n",
        "  (\"Starry sky ambiance with overhead ambient light.\", \"[\\\"top\\\",\\\"middle\\\",\\\"middle\\\"]\"),\n",
        "  (\"Front lighting for studio fashion photography.\", \"[\\\"middle\\\",\\\"middle\\\",\\\"front\\\"]\"),\n",
        "  (\"Minimal shadow desert scene with backlight.\", \"[\\\"top\\\",\\\"middle\\\",\\\"back\\\"]\"),\n",
        "  (\"Adventure scene lit from the top left.\", \"[\\\"top\\\",\\\"left\\\",\\\"middle\\\"]\"),\n",
        "  (\"Focused light for workshop from above.\", \"[\\\"top\\\",\\\"middle\\\",\\\"middle\\\"]\"),\n",
        "  (\"Pathway lit with right side light through trees.\", \"[\\\"middle\\\",\\\"right\\\",\\\"front\\\"]\"),\n",
        "  (\"Change light angle to the top left corner.\", \"[\\\"top\\\",\\\"left\\\",\\\"middle\\\"]\"),\n",
        "  (\"Position the camera so we see the light coming from the bottom right.\", \"[\\\"bottom\\\",\\\"right\\\",\\\"middle\\\"]\"),\n",
        "  (\"Adjust light to shine directly from above.\", \"[\\\"top\\\",\\\"middle\\\",\\\"middle\\\"]\"),\n",
        "  (\"Make the light source come from directly behind the subject.\", \"[\\\"middle\\\",\\\"middle\\\",\\\"back\\\"]\"),\n",
        "  (\"Set the light to emulate early morning from the bottom left.\", \"[\\\"bottom\\\",\\\"left\\\",\\\"front\\\"]\"),\n",
        "  (\"Direct the light from the right to create evening shadows.\", \"[\\\"middle\\\",\\\"right\\\",\\\"back\\\"]\"),\n",
        "  (\"Illuminate from the top as if it's noon.\", \"[\\\"top\\\",\\\"middle\\\",\\\"middle\\\"]\"),\n",
        "  (\"Simulate moonlight coming from the top right.\", \"[\\\"top\\\",\\\"right\\\",\\\"middle\\\"]\"),\n",
        "  (\"Let the light flood in from the front, like a doorway opening.\", \"[\\\"middle\\\",\\\"middle\\\",\\\"front\\\"]\"),\n",
        "  (\"Backlight the subject with light from the bottom.\", \"[\\\"bottom\\\",\\\"middle\\\",\\\"back\\\"]\"),\n",
        "  (\"Highlight texture with light from the left side.\", \"[\\\"middle\\\",\\\"left\\\",\\\"middle\\\"]\"),\n",
        "  (\"Illuminate the scene as if underwater, with light from above.\", \"[\\\"top\\\",\\\"middle\\\",\\\"middle\\\"]\"),\n",
        "  (\"Create a sunset effect with light from the bottom right.\", \"[\\\"bottom\\\",\\\"right\\\",\\\"front\\\"]\"),\n",
        "  (\"Cast long shadows with light coming from the top right.\", \"[\\\"top\\\",\\\"right\\\",\\\"middle\\\"]\"),\n",
        "  (\"Mimic a cloudy day with diffuse light from the top.\", \"[\\\"top\\\",\\\"middle\\\",\\\"middle\\\"]\"),\n",
        "  (\"Generate a soft glow effect from the bottom left.\", \"[\\\"bottom\\\",\\\"left\\\",\\\"front\\\"]\"),\n",
        "  (\"Emphasize form with backlight from the top.\", \"[\\\"top\\\",\\\"middle\\\",\\\"back\\\"]\"),\n",
        "  (\"Capture a night scene with ambient light from the middle.\", \"[\\\"middle\\\",\\\"middle\\\",\\\"middle\\\"]\"),\n",
        "  (\"Show depth with a light source from the front right.\", \"[\\\"middle\\\",\\\"right\\\",\\\"front\\\"]\"),\n",
        "  (\"Create a dramatic angle with light from the left, hitting the subject.\", \"[\\\"middle\\\",\\\"left\\\",\\\"middle\\\"]\"),\n",
        "   (\"Angle the light from the top left to mimic morning light.\", \"[\\\"top\\\",\\\"left\\\",\\\"middle\\\"]\"),\n",
        "  (\"Direct light from above for a noon effect.\", \"[\\\"top\\\",\\\"middle\\\",\\\"middle\\\"]\"),\n",
        "  (\"Place the light behind the subject for a silhouette effect.\", \"[\\\"middle\\\",\\\"middle\\\",\\\"back\\\"]\"),\n",
        "  (\"Illuminate from the bottom right to simulate evening light.\", \"[\\\"bottom\\\",\\\"right\\\",\\\"front\\\"]\"),\n",
        "  (\"Set the lighting to come from the right side for shadows.\", \"[\\\"middle\\\",\\\"right\\\",\\\"middle\\\"]\"),\n",
        "  (\"Use top right lighting for a late afternoon shadow.\", \"[\\\"top\\\",\\\"right\\\",\\\"middle\\\"]\"),\n",
        "  (\"Position light from the front for a flat lighting effect.\", \"[\\\"middle\\\",\\\"middle\\\",\\\"front\\\"]\"),\n",
        "  (\"Simulate moonlight from the top left corner.\", \"[\\\"top\\\",\\\"left\\\",\\\"middle\\\"]\"),\n",
        "  (\"Create a sunset ambiance with bottom left lighting.\", \"[\\\"bottom\\\",\\\"left\\\",\\\"front\\\"]\"),\n",
        "  (\"Emulate an overcast day with light from directly above.\", \"[\\\"top\\\",\\\"middle\\\",\\\"middle\\\"]\"),\n",
        "  (\"Generate a soft glow from the front right, like sunrise.\", \"[\\\"middle\\\",\\\"right\\\",\\\"front\\\"]\"),\n",
        "  (\"Mimic a high noon sun with light from the top middle.\", \"[\\\"top\\\",\\\"middle\\\",\\\"middle\\\"]\"),\n",
        "  (\"Simulate twilight with light coming from the bottom.\", \"[\\\"bottom\\\",\\\"middle\\\",\\\"middle\\\"]\"),\n",
        "  (\"Cast dramatic shadows with light from the left side.\", \"[\\\"middle\\\",\\\"left\\\",\\\"middle\\\"]\"),\n",
        "  (\"Highlight textures with a direct light from above.\", \"[\\\"top\\\",\\\"middle\\\",\\\"middle\\\"]\"),\n",
        "  (\"Produce a night scene effect with ambient light from above.\", \"[\\\"top\\\",\\\"middle\\\",\\\"middle\\\"]\"),\n",
        "  (\"Simulate early dawn with bottom right light.\", \"[\\\"bottom\\\",\\\"right\\\",\\\"front\\\"]\"),\n",
        "  (\"Illuminate the scene from the bottom left for a soft effect.\", \"[\\\"bottom\\\",\\\"left\\\",\\\"front\\\"]\"),\n",
        "  (\"Show a high contrast effect with backlight from the top.\", \"[\\\"top\\\",\\\"middle\\\",\\\"back\\\"]\"),\n",
        "  (\"Create a dynamic scene with light from the right for motion.\", \"[\\\"middle\\\",\\\"right\\\",\\\"middle\\\"]\"),\n",
        "  (\"Mimic a studio look with frontal lighting.\", \"[\\\"middle\\\",\\\"middle\\\",\\\"front\\\"]\"),\n",
        "  (\"Simulate indirect light from the left for a natural look.\", \"[\\\"middle\\\",\\\"left\\\",\\\"middle\\\"]\"),\n",
        "  (\"Direct light from the bottom for an eerie effect.\", \"[\\\"bottom\\\",\\\"middle\\\",\\\"middle\\\"]\"),\n",
        "  (\"Cast a warm glow from the top right, like sunset.\", \"[\\\"top\\\",\\\"right\\\",\\\"front\\\"]\"),\n",
        "  (\"Use light from the top left to simulate a cloudy morning.\", \"[\\\"top\\\",\\\"left\\\",\\\"middle\\\"]\"),\n",
        "  (\"Position the light to mimic afternoon sun from the right.\", \"[\\\"middle\\\",\\\"right\\\",\\\"front\\\"]\"),\n",
        "  (\"Create a silhouette with light from directly behind.\", \"[\\\"middle\\\",\\\"middle\\\",\\\"back\\\"]\"),\n",
        "  (\"Illuminate with a soft front light for an intimate setting.\", \"[\\\"middle\\\",\\\"middle\\\",\\\"front\\\"]\"),\n",
        "  (\"Set a dramatic tone with sharp light from the left.\", \"[\\\"middle\\\",\\\"left\\\",\\\"middle\\\"]\"),\n",
        "  (\"Simulate a streetlight effect with overhead lighting.\", \"[\\\"top\\\",\\\"middle\\\",\\\"middle\\\"]\"),\n",
        "  (\"Mimic a candlelit scene with light from the bottom middle.\", \"[\\\"bottom\\\",\\\"middle\\\",\\\"front\\\"]\"),\n",
        "  (\"Highlight with a spotlight from the front right.\", \"[\\\"middle\\\",\\\"right\\\",\\\"front\\\"]\"),\n",
        "  (\"Generate a diffused lighting effect from the top for softness.\", \"[\\\"top\\\",\\\"middle\\\",\\\"middle\\\"]\"),\n",
        "  (\"Show depth with angled light from the top right.\", \"[\\\"top\\\",\\\"right\\\",\\\"middle\\\"]\"),\n",
        "  (\"Create a cozy atmosphere with bottom left lighting.\", \"[\\\"bottom\\\",\\\"left\\\",\\\"front\\\"]\"),\n",
        "  (\"Simulate a clear day with bright light from above.\", \"[\\\"top\\\",\\\"middle\\\",\\\"middle\\\"]\"),\n",
        "  (\"Emulate a sunset from the bottom right corner.\", \"[\\\"bottom\\\",\\\"right\\\",\\\"front\\\"]\"),\n",
        "  (\"Achieve a mysterious mood with backlighting.\", \"[\\\"middle\\\",\\\"middle\\\",\\\"back\\\"]\"),\n",
        "  (\"Illuminate for a morning look with light from the left.\", \"[\\\"middle\\\",\\\"left\\\",\\\"middle\\\"]\"),\n",
        "  (\"Set up for an evening effect with light from the bottom.\", \"[\\\"bottom\\\",\\\"middle\\\",\\\"middle\\\"]\"),\n",
        "  (\"Mimic a bright studio with light from the front.\", \"[\\\"middle\\\",\\\"middle\\\",\\\"front\\\"]\"),\n",
        "  (\"Create soft shadows with light from the right side.\", \"[\\\"middle\\\",\\\"right\\\",\\\"middle\\\"]\"),\n",
        "  (\"Use a backlight from the top for a halo effect.\", \"[\\\"top\\\",\\\"middle\\\",\\\"back\\\"]\"),\n",
        "  (\"Simulate an indoor scene with light from the left.\", \"[\\\"middle\\\",\\\"left\\\",\\\"front\\\"]\"),\n",
        "  (\"Achieve a natural morning effect with top left lighting.\", \"[\\\"top\\\",\\\"left\\\",\\\"middle\\\"]\"),\n",
        "  (\"Produce a soft evening ambiance with bottom right light.\", \"[\\\"bottom\\\",\\\"right\\\",\\\"front\\\"]\"),\n",
        "  (\"Direct light overhead for a midday summer look.\", \"[\\\"top\\\",\\\"middle\\\",\\\"middle\\\"]\"),\n",
        "  (\"Cast shadows for depth with light from the top right.\", \"[\\\"top\\\",\\\"right\\\",\\\"middle\\\"]\"),\n",
        "  (\"Illuminate from behind for a strong silhouette against the light.\", \"[\\\"middle\\\",\\\"middle\\\",\\\"back\\\"]\"),\n",
        "  (\"Emphasize form with side lighting from the left.\", \"[\\\"middle\\\",\\\"left\\\",\\\"middle\\\"]\"),\n",
        "  (\"Simulate a day-to-night transition with lighting starting from top middle to bottom left.\", \"[\\\"top\\\",\\\"middle\\\",\\\"middle\\\"], [\\\"bottom\\\",\\\"left\\\",\\\"front\\\"]\"),\n",
        "  (\"Capture the progression of a sunrise from the bottom right to directly above.\", \"[\\\"bottom\\\",\\\"right\\\",\\\"front\\\"], [\\\"top\\\",\\\"middle\\\",\\\"middle\\\"]\"),\n",
        "  (\"Show a moving shadow effect, with light shifting from the left side to the right side.\", \"[\\\"middle\\\",\\\"left\\\",\\\"middle\\\"], [\\\"middle\\\",\\\"right\\\",\\\"middle\\\"]\"),\n",
        "  (\"Mimic the effect of clouds passing over the sun, from diffused top lighting to direct top lighting.\", \"[\\\"top\\\",\\\"middle\\\",\\\"back\\\"], [\\\"top\\\",\\\"middle\\\",\\\"front\\\"]\"),\n",
        "  (\"Illustrate a car's headlights at night moving from front to back.\", \"[\\\"middle\\\",\\\"middle\\\",\\\"front\\\"], [\\\"middle\\\",\\\"middle\\\",\\\"back\\\"]\"),\n",
        "  (\"Simulate a flashlight search, starting from the bottom right and moving to the top left.\", \"[\\\"bottom\\\",\\\"right\\\",\\\"front\\\"], [\\\"top\\\",\\\"left\\\",\\\"middle\\\"]\"),\n",
        "  (\"Capture a flickering candle effect, alternating light from bottom middle to slightly higher.\", \"[\\\"bottom\\\",\\\"middle\\\",\\\"front\\\"], [\\\"middle\\\",\\\"middle\\\",\\\"front\\\"]\"),\n",
        "  (\"Show a thunderstorm effect with intermittent lighting from above to the front.\", \"[\\\"top\\\",\\\"middle\\\",\\\"back\\\"], [\\\"middle\\\",\\\"middle\\\",\\\"front\\\"], [\\\"top\\\",\\\"middle\\\",\\\"back\\\"]\"),\n",
        "  (\"Mimic a moving sun from morning to noon, starting from the top left to directly above.\", \"[\\\"top\\\",\\\"left\\\",\\\"front\\\"], [\\\"top\\\",\\\"middle\\\",\\\"middle\\\"]\"),\n",
        "  (\"Simulate stage lighting for a performance, moving from front right to back left.\", \"[\\\"middle\\\",\\\"right\\\",\\\"front\\\"], [\\\"middle\\\",\\\"left\\\",\\\"back\\\"]\"),\n",
        "  (\"Illustrate a walk through a forest with light moving from top right to top left.\", \"[\\\"top\\\",\\\"right\\\",\\\"front\\\"], [\\\"top\\\",\\\"left\\\",\\\"front\\\"]\"),\n",
        "  (\"Showcase a room brightening as the day progresses, from dim top left to bright top middle.\", \"[\\\"top\\\",\\\"left\\\",\\\"back\\\"], [\\\"top\\\",\\\"middle\\\",\\\"front\\\"]\"),\n",
        "  (\"Capture the transition from indoor to outdoor lighting, starting from soft front to bright top.\", \"[\\\"middle\\\",\\\"middle\\\",\\\"front\\\"], [\\\"top\\\",\\\"middle\\\",\\\"middle\\\"]\"),\n",
        "  (\"Mimic the light from a TV screen flickering, alternating rapidly from front to slightly dim.\", \"[\\\"middle\\\",\\\"middle\\\",\\\"front\\\"], [\\\"middle\\\",\\\"middle\\\",\\\"back\\\"], [\\\"middle\\\",\\\"middle\\\",\\\"front\\\"]\"),\n",
        "  (\"Simulate a sunset to night transition, with light going from bottom right to top and fading.\", \"[\\\"bottom\\\",\\\"right\\\",\\\"front\\\"], [\\\"top\\\",\\\"middle\\\",\\\"back\\\"]\"),\n",
        "  (\"Transition from dawn to full daylight, starting from the bottom left to top middle.\", \"[\\\"bottom\\\",\\\"left\\\",\\\"front\\\"], [\\\"top\\\",\\\"middle\\\",\\\"middle\\\"]\"),\n",
        "  (\"Show the effect of walking under streetlights from front right to back left.\", \"[\\\"middle\\\",\\\"right\\\",\\\"front\\\"], [\\\"middle\\\",\\\"left\\\",\\\"back\\\"]\"),\n",
        "  (\"Illustrate the moon rising, moving from the right side to the top right.\", \"[\\\"middle\\\",\\\"right\\\",\\\"middle\\\"], [\\\"top\\\",\\\"right\\\",\\\"middle\\\"]\"),\n",
        "  (\"Capture the flicker of a campfire, with light alternating from bottom middle to bottom right.\", \"[\\\"bottom\\\",\\\"middle\\\",\\\"front\\\"], [\\\"bottom\\\",\\\"right\\\",\\\"front\\\"]\"),\n",
        "  (\"Simulate a lighthouse beam, sweeping from left across to right and back.\", \"[\\\"middle\\\",\\\"left\\\",\\\"front\\\"], [\\\"middle\\\",\\\"right\\\",\\\"front\\\"], [\\\"middle\\\",\\\"left\\\",\\\"front\\\"]\"),\n",
        "  (\"Demonstrate a cloud shadow moving across a landscape, from top middle to top left.\", \"[\\\"top\\\",\\\"middle\\\",\\\"middle\\\"], [\\\"top\\\",\\\"left\\\",\\\"back\\\"]\"),\n",
        "  (\"Show a gradual room lighting from early morning to noon, bottom left to top.\", \"[\\\"bottom\\\",\\\"left\\\",\\\"front\\\"], [\\\"top\\\",\\\"middle\\\",\\\"middle\\\"]\"),\n",
        "  (\"Mimic sunlight passing through a window, moving from left to right across the room.\", \"[\\\"middle\\\",\\\"left\\\",\\\"front\\\"], [\\\"middle\\\",\\\"right\\\",\\\"front\\\"]\"),\n",
        "  (\"Illustrate a spotlight following a performer on stage, from front left to front right.\", \"[\\\"middle\\\",\\\"left\\\",\\\"front\\\"], [\\\"middle\\\",\\\"right\\\",\\\"front\\\"]\"),\n",
        "  (\"Capture the dynamic shadows of clouds on a mountain, from top right to top left.\", \"[\\\"top\\\",\\\"right\\\",\\\"middle\\\"], [\\\"top\\\",\\\"left\\\",\\\"middle\\\"]\"),\n",
        "  (\"Show the light change during an eclipse, from bright top middle to dim and back.\", \"[\\\"top\\\",\\\"middle\\\",\\\"front\\\"], [\\\"top\\\",\\\"middle\\\",\\\"back\\\"], [\\\"top\\\",\\\"middle\\\",\\\"front\\\"]\"),\n",
        "  (\"Simulate the shifting of car headlights in a tunnel, from front to back and front again.\", \"[\\\"middle\\\",\\\"middle\\\",\\\"front\\\"], [\\\"middle\\\",\\\"middle\\\",\\\"back\\\"], [\\\"middle\\\",\\\"middle\\\",\\\"front\\\"]\"),\n",
        "  (\"Demonstrate a neon sign flickering on and off, alternating light from the front.\", \"[\\\"middle\\\",\\\"middle\\\",\\\"front\\\"], [\\\"middle\\\",\\\"middle\\\",\\\"back\\\"], [\\\"middle\\\",\\\"middle\\\",\\\"front\\\"]\"),\n",
        "  (\"Illustrate the transition from artificial light to natural light in a room, from left to top.\", \"[\\\"middle\\\",\\\"left\\\",\\\"front\\\"], [\\\"top\\\",\\\"middle\\\",\\\"middle\\\"]\"),\n",
        "  (\"Showcase the reflection of water waves on a ceiling, moving light from bottom to top.\", \"[\\\"bottom\\\",\\\"middle\\\",\\\"front\\\"], [\\\"top\\\",\\\"middle\\\",\\\"front\\\"]\"),\n",
        "  (\"Capture a lightning storm with sudden flashes from above to front.\", \"[\\\"top\\\",\\\"middle\\\",\\\"back\\\"], [\\\"middle\\\",\\\"middle\\\",\\\"front\\\"]\"),\n",
        "  (\"Mimic the effect of sunrise on a beach, from bottom right to top middle, then to top left.\", \"[\\\"bottom\\\",\\\"right\\\",\\\"front\\\"], [\\\"top\\\",\\\"middle\\\",\\\"middle\\\"], [\\\"top\\\",\\\"left\\\",\\\"middle\\\"]\"),\n",
        "  (\"Illustrate changing stage lights during a concert, from bright front to colorful top.\", \"[\\\"middle\\\",\\\"middle\\\",\\\"front\\\"], [\\\"top\\\",\\\"middle\\\",\\\"front\\\"], [\\\"top\\\",\\\"left\\\",\\\"front\\\"]\"),\n",
        "  (\"Show a day's end at a cafe, with sunlight from the right shifting to interior lights from the top.\", \"[\\\"middle\\\",\\\"right\\\",\\\"front\\\"], [\\\"top\\\",\\\"middle\\\",\\\"middle\\\"]\"),\n",
        "  (\"Demonstrate a flashlight search across a dark room, from right to left then down.\", \"[\\\"middle\\\",\\\"right\\\",\\\"front\\\"], [\\\"middle\\\",\\\"left\\\",\\\"front\\\"], [\\\"bottom\\\",\\\"middle\\\",\\\"front\\\"]\"),\n",
        "  (\"Capture the glow of a city at night from a high vantage, lights coming from below to the middle.\", \"[\\\"bottom\\\",\\\"middle\\\",\\\"front\\\"], [\\\"middle\\\",\\\"middle\\\",\\\"front\\\"]\"),\n",
        "  (\"Mimic the opening of a door in a dark room, light from front increasing to full brightness.\", \"[\\\"middle\\\",\\\"middle\\\",\\\"back\\\"], [\\\"middle\\\",\\\"middle\\\",\\\"front\\\"]\"),\n",
        "  (\"Illustrate a camera flash effect, from dim to bright front light and back to dim.\", \"[\\\"middle\\\",\\\"middle\\\",\\\"back\\\"], [\\\"middle\\\",\\\"middle\\\",\\\"front\\\"], [\\\"middle\\\",\\\"middle\\\",\\\"back\\\"]\"),\n",
        "  (\"Show the effect of a passing train at night, with light streaks moving from left to right.\", \"[\\\"middle\\\",\\\"left\\\",\\\"front\\\"], [\\\"middle\\\",\\\"right\\\",\\\"front\\\"]\"),\n",
        "  (\"Simulate the rise and fall of stage lighting, from dim front to bright top, then dimming.\", \"[\\\"middle\\\",\\\"middle\\\",\\\"back\\\"], [\\\"top\\\",\\\"middle\\\",\\\"front\\\"], [\\\"middle\\\",\\\"middle\\\",\\\"back\\\"]\"),\n",
        "  (\"Capture a sequence of a candle being blown out, from bright bottom to sudden darkness.\", \"[\\\"bottom\\\",\\\"middle\\\",\\\"front\\\"], [\\\"middle\\\",\\\"middle\\\",\\\"back\\\"]\"),\n",
        "  (\"Demonstrate the changing light within a forest from sunrise to full daylight, bottom to top.\", \"[\\\"bottom\\\",\\\"middle\\\",\\\"front\\\"], [\\\"top\\\",\\\"middle\\\",\\\"front\\\"]\"),\n",
        "  (\"Show the transition of indoor lighting from evening to night, from soft right to overhead.\", \"[\\\"middle\\\",\\\"right\\\",\\\"front\\\"], [\\\"top\\\",\\\"middle\\\",\\\"middle\\\"]\"),\n",
        "  (\"Mimic the effect of walking from shadow into sunlight, from dark front to bright top.\", \"[\\\"middle\\\",\\\"middle\\\",\\\"back\\\"], [\\\"top\\\",\\\"middle\\\",\\\"front\\\"]\"),\n",
        "  (\"Illustrate the blinking of a neon sign, alternating rapidly from front to slightly dim and back.\", \"[\\\"middle\\\",\\\"middle\\\",\\\"front\\\"], [\\\"middle\\\",\\\"middle\\\",\\\"back\\\"], [\\\"middle\\\",\\\"middle\\\",\\\"front\\\"]\")\n",
        "                   ]\n",
        "\n",
        "\n",
        "for sample in light_instruction:\n",
        "\n",
        "    training_sequence = format_to_llama2_chat(\n",
        "        \"you are a helpful image assistant\",\n",
        "        [sample]\n",
        "    )\n",
        "\n",
        "    data_list.append({\n",
        "        \"text\":training_sequence\n",
        "    })\n",
        "\n",
        "# for sample in legal_dataset['train']:\n",
        "\n",
        "#     instruction_input_separator = random.choice([\":\", \": \", \"\\n\", \"\\n\\n\", \" \"])\n",
        "#     input = sample['input'] if sample['input'] is not None else \"\"\n",
        "#     instruction = sample['instruction'] if sample['instruction'] is not None else \"\"\n",
        "\n",
        "#     training_sequence = format_to_llama2_chat(\n",
        "#         \"you are a helpful legal assistant\",\n",
        "#         [(instruction+instruction_input_separator+input,sample['output'])]\n",
        "#     )\n",
        "\n",
        "#     data_list.append({\n",
        "#         \"text\":training_sequence\n",
        "#     })\n",
        "\n",
        "print(len(data_list))\n",
        "print(data_list[600])"
      ]
    },
    {
      "cell_type": "code",
      "source": [
        "data_list = []\n",
        "for sample in legal_dataset['train']:\n",
        "\n",
        "    instruction_input_separator = random.choice([\":\", \": \", \"\\n\", \"\\n\\n\", \" \"])\n",
        "    input = sample['input'] if sample['input'] is not None else \"\"\n",
        "    instruction = sample['instruction'] if sample['instruction'] is not None else \"\"\n",
        "\n",
        "    training_sequence = format_to_llama2_chat(\n",
        "        \"you are a helpful legal assistant\",\n",
        "        [(instruction+instruction_input_separator+input,sample['output'])]\n",
        "    )\n",
        "\n",
        "    data_list.append({\n",
        "        \"text\":training_sequence\n",
        "    })\n",
        "print(len(data_list))\n",
        "print(data_list[0])\n",
        "together.Files.save_jsonl(data_list, \"legal_dataset.jsonl\")"
      ],
      "metadata": {
        "colab": {
          "base_uri": "https://localhost:8080/"
        },
        "id": "717L2v-WNOYm",
        "outputId": "301457b6-da10-404d-ebda-61ddd7f3ea0f"
      },
      "execution_count": null,
      "outputs": [
        {
          "output_type": "stream",
          "name": "stdout",
          "text": [
            "4394\n",
            "{'text': \"<s>[INST] <<SYS>> you are a helpful legal assistant <</SYS>> Analyze and explain the legal reasoning behind the judgment in the given case.:Central Inland Water Transport Corporation Ltd. vs Brojo Nath Ganguly & Anr., 1986 AIR 1571, 1986 SCR (2) 278 [/INST] The Supreme Court in this case applied a broad interpretation of the term 'State' under Article 12 of the Constitution. The court reasoned that a government company undertaking public functions qualifies as 'State' based on factors like government control, public importance of activities etc. This interpretation was based on previous decisions that have defined 'State' under Article 12 broadly to include various agencies and instrumentalities beyond just statutory bodies. The court also applied the principle that unreasonable and arbitrary contractual terms can be struck down under Article 14 of the Constitution. The court found that Rule 9(i) of the service rules, which allowed for termination of service without reason, conferred unfettered power to terminate employment without hearing. This was deemed arbitrary and violative of principles of natural justice and right to equality under Article 14. Furthermore, the court held that the right to life and livelihood under Article 21 is affected by arbitrary termination of employment. The court reasoned that the right to livelihood is an integral part of the right to life, and any arbitrary action that affects a person's livelihood would be a violation of Article 21.In conclusion, the court's legal reasoning was based on a broad interpretation of the term 'State', the application of the principle of equality and natural justice under Article 14, and the protection of the right to life and livelihood under Article 21. </s>\"}\n",
            "Wrote 4394 records to legal_dataset.jsonl\n"
          ]
        }
      ]
    },
    {
      "cell_type": "code",
      "execution_count": null,
      "metadata": {
        "colab": {
          "base_uri": "https://localhost:8080/"
        },
        "id": "kpiHp384pxKO",
        "outputId": "1f2af3d8-4ba0-454b-c83f-5d93f44820cf"
      },
      "outputs": [
        {
          "output_type": "stream",
          "name": "stdout",
          "text": [
            "Wrote 621 records to light_instruction.jsonl\n"
          ]
        }
      ],
      "source": [
        "# save the reformatted dataset locally\n",
        "together.Files.save_jsonl(data_list, \"light_instruction.jsonl\")"
      ]
    },
    {
      "cell_type": "code",
      "execution_count": null,
      "metadata": {
        "colab": {
          "base_uri": "https://localhost:8080/"
        },
        "id": "VM-Miyytp3bt",
        "outputId": "a61e5dc5-2be1-4a20-a09b-590abdb14fb2"
      },
      "outputs": [
        {
          "output_type": "stream",
          "name": "stdout",
          "text": [
            "{'is_check_passed': True, 'model_special_tokens': 'we are not yet checking end of sentence tokens for this model', 'file_present': 'File found', 'file_size': 'File size 0.0 GB', 'num_samples': 621}\n"
          ]
        }
      ],
      "source": [
        "# check your data with your base model prompting type before uploading\n",
        "# resp = together.Files.check(file=\"legal_dataset.jsonl\")\n",
        "resp = together.Files.check(file=\"light_instruction.jsonl\")\n",
        "print(resp)"
      ]
    },
    {
      "cell_type": "code",
      "source": [
        "resp = together.Files.list()\n",
        "print(resp)"
      ],
      "metadata": {
        "colab": {
          "base_uri": "https://localhost:8080/"
        },
        "id": "6tykt9VcsSwo",
        "outputId": "2894e05a-105a-4bae-e0d5-7862c6022396"
      },
      "execution_count": null,
      "outputs": [
        {
          "output_type": "stream",
          "name": "stdout",
          "text": [
            "{'data': [{'filename': 'light_instruction.jsonl', 'bytes': 122959, 'created_at': 1708201421, 'id': 'file-0fba97e3-60f0-4344-8df3-864406d3e1dd', 'purpose': 'fine-tune', 'object': 'file', 'LineCount': 0, 'Processed': True}], 'object': 'list'}\n"
          ]
        }
      ]
    },
    {
      "cell_type": "code",
      "execution_count": null,
      "metadata": {
        "id": "X6jO__J3p6cl",
        "colab": {
          "base_uri": "https://localhost:8080/"
        },
        "outputId": "af125aef-2ebe-4b4e-914a-71cac63a56ac"
      },
      "outputs": [
        {
          "output_type": "stream",
          "name": "stderr",
          "text": [
            "Uploading light_instruction.jsonl: 100%|██████████| 120k/120k [00:01<00:00, 93.3kB/s]"
          ]
        },
        {
          "output_type": "stream",
          "name": "stdout",
          "text": [
            "{'filename': 'light_instruction.jsonl', 'id': 'file-b79db231-affa-4662-ba78-fd981a737131', 'object': 'file', 'report_dict': {'is_check_passed': True, 'model_special_tokens': 'we are not yet checking end of sentence tokens for this model', 'file_present': 'File found', 'file_size': 'File size 0.0 GB', 'num_samples': 621}}\n"
          ]
        },
        {
          "output_type": "stream",
          "name": "stderr",
          "text": [
            "\n"
          ]
        }
      ],
      "source": [
        "# upload your dataset file to together and save the file-id, youll need it to start your finetuning run\n",
        "file_resp = together.Files.upload(file=\"light_instruction.jsonl\")\n",
        "file_id = file_resp[\"id\"]\n",
        "print(file_resp)"
      ]
    },
    {
      "cell_type": "markdown",
      "source": [
        "Expected output: ```{'filename': 'legal_dataset.jsonl', 'id': 'file-69649a68-6a36-41ad-8420-1750e99c26a7', 'object': 'file', 'report_dict': {'is_check_passed': True, 'model_special_tokens': 'we are not yet checking end of sentence tokens for this model', 'file_present': 'File found', 'file_size': 'File siz```\n",
        "\n",
        "### Finetuning the base model on the new dataset to create the new finetuned model\n",
        "\n",
        "depending on the size of the model and dataset this could take a few minutes to hours"
      ],
      "metadata": {
        "id": "nkQL1NEoZw5F"
      }
    },
    {
      "cell_type": "code",
      "execution_count": null,
      "metadata": {
        "colab": {
          "base_uri": "https://localhost:8080/"
        },
        "id": "cj-36LXip9tA",
        "outputId": "c7732908-13dd-4304-9561-ce92428991dc"
      },
      "outputs": [
        {
          "output_type": "stream",
          "name": "stdout",
          "text": [
            "{'training_file': 'file-b79db231-affa-4662-ba78-fd981a737131', 'validation_file': '', 'model_output_name': 'leelandzhang2026@u.northwestern.edu/Nous-Hermes-2-Mixtral-8x7B-DPO-lighting-2024-02-17-20-55-29', 'model_output_path': 's3://together-dev/finetune/65d0fa1e90ef1a37ebb8e62e/leelandzhang2026@u.northwestern.edu/Nous-Hermes-2-Mixtral-8x7B-DPO-lighting-2024-02-17-20-55-29/ft-e2c1bda9-3cc1-4185-a5ef-165165160b4a', 'Suffix': 'lighting', 'model': 'NousResearch/Nous-Hermes-2-Mixtral-8x7B-DPO', 'n_epochs': 20, 'n_checkpoints': 1, 'batch_size': 16, 'learning_rate': 5e-05, 'eval_steps': 0, 'user_id': '65d0fa1e90ef1a37ebb8e62e', 'lora': False, 'lora_r': 8, 'lora_alpha': 8, 'lora_dropout': 0, 'staring_epoch': 0, 'training_offset': 0, 'checkspoint_path': '', 'random_seed': '', 'created_at': '2024-02-17T20:55:29.645Z', 'updated_at': '2024-02-17T20:55:29.645Z', 'status': 'pending', 'owner_address': '0x08d0919b954c7bdabefc839e174de273d991d1ba', 'id': 'ft-e2c1bda9-3cc1-4185-a5ef-165165160b4a', 'job_id': '', 'token_count': 0, 'param_count': 0, 'total_price': 0, 'epochs_completed': 0, 'events': [{'object': 'fine-tune-event', 'created_at': '2024-02-17T20:55:29.645Z', 'level': '', 'message': 'Fine tune request created', 'type': 'JOB_PENDING', 'param_count': 0, 'token_count': 0, 'wandb_url': '', 'checkpoint_path': '', 'model_path': '', 'training_offset': 0, 'hash': ''}], 'queue_depth': 0, 'wandb_key': '', 'wandb_project_name': '', 'wandb_url': '', 'enable_checkpoints': False, 'internal_flags': '', 'UsedModelName': '', 'TrainingFileNumLines': 0, 'TrainingFileSize': 122959, 'job_stats': {'FtUserTime': '', 'FtSysTime': '', 'FtMaxRss': 0, 'FtMinPgFlt': 0, 'FtMajPgFlt': 0, 'FtInBlock': 0, 'FtOutBlock': 0, 'FtNvCsw': 0, 'FtNivCsw': 0}}\n"
          ]
        }
      ],
      "source": [
        "# Submit your finetune job\n",
        "ft_resp = together.Finetune.create(\n",
        "  training_file = file_id ,\n",
        "  model = base_model_name,\n",
        "  n_epochs = 20,\n",
        "  batch_size = 4,\n",
        "  n_checkpoints = 1,\n",
        "  learning_rate = 5e-5,\n",
        "  wandb_api_key = WANDB_API_KEY,\n",
        "  #estimate_price = True,\n",
        "  suffix = 'lighting',\n",
        ")\n",
        "\n",
        "fine_tune_id = ft_resp['id']\n",
        "print(ft_resp)"
      ]
    },
    {
      "cell_type": "markdown",
      "source": [
        "Expected output:\n",
        "```{'training_file': 'file-69649a68-6a36-41ad-8420-1750e99c26a7', 'model_output_name': 'carson/llama-2-7b-chat-law-2023-09-22-20-37-12', 'model_output_path': 's3://together-dev/finetune/64c4302a5cb247a0c80a3ddb/carson/llama-2-7b-chat-law-2023-09-22-20-37-12/ft-2aaecf7b-ff6f-4341-813a-45d84ae2b1bf', 'Suffix': 'law', 'model': 'togethercomputer/llama-2-7b-chat', 'n_epochs': 2, 'n_checkpoints': 1, 'batch_size': 4, 'learning_rate': 0.0001, 'user_id': '64c4302a5cb247a0c80a3ddb', 'staring_epoch': 0, 'training_offset': 0, 'checkspoint_path': '', 'random_seed': '', 'created_at': '2023-09-22T20:37:12.007Z', 'updated_at': '2023-09-22T20:37:12.007Z', 'status': 'pending', 'owner_address': '0xef5286fc0a1ac5bc4d4221cf3d51f1d97c45eaf7', 'id': 'ft-2aaecf7b-ff6f-4341-813a-45d84ae2b1bf', 'job_id': '', 'token_count': 0, 'param_count': 0, 'total_price': 0, 'epochs_completed': 0, 'events': [{'object': 'fine-tune-event', 'created_at': '2023-09-22T20:37:12.007Z', 'level': '', 'message': 'Fine tune request created', 'type': 'JOB_PENDING', 'param_count': 0, 'token_count': 0, 'checkpoint_path': '', 'model_path': '', 'training_offset': 0, 'hash': ''}], 'queue_depth': 0, 'wandb_key': '', 'wandb_project_name': '', 'enable_checkpoints': False}```"
      ],
      "metadata": {
        "id": "HUCVE-vHZ5y2"
      }
    },
    {
      "cell_type": "code",
      "execution_count": null,
      "metadata": {
        "colab": {
          "base_uri": "https://localhost:8080/",
          "height": 211
        },
        "id": "sjUfusXGqD2d",
        "outputId": "f35c8146-1d8b-4032-953e-163610b7e761"
      },
      "outputs": [
        {
          "output_type": "error",
          "ename": "NameError",
          "evalue": "name 'together' is not defined",
          "traceback": [
            "\u001b[0;31m---------------------------------------------------------------------------\u001b[0m",
            "\u001b[0;31mNameError\u001b[0m                                 Traceback (most recent call last)",
            "\u001b[0;32m<ipython-input-1-d7006a2bc09a>\u001b[0m in \u001b[0;36m<cell line: 2>\u001b[0;34m()\u001b[0m\n\u001b[1;32m      1\u001b[0m \u001b[0;31m# run this from time to time to check on the status of your job\u001b[0m\u001b[0;34m\u001b[0m\u001b[0;34m\u001b[0m\u001b[0m\n\u001b[0;32m----> 2\u001b[0;31m \u001b[0mprint\u001b[0m\u001b[0;34m(\u001b[0m\u001b[0mtogether\u001b[0m\u001b[0;34m.\u001b[0m\u001b[0mFinetune\u001b[0m\u001b[0;34m.\u001b[0m\u001b[0mretrieve\u001b[0m\u001b[0;34m(\u001b[0m\u001b[0mfine_tune_id\u001b[0m\u001b[0;34m=\u001b[0m\u001b[0mfine_tune_id\u001b[0m\u001b[0;34m)\u001b[0m\u001b[0;34m)\u001b[0m \u001b[0;31m# retrieves information on finetune event\u001b[0m\u001b[0;34m\u001b[0m\u001b[0;34m\u001b[0m\u001b[0m\n\u001b[0m\u001b[1;32m      3\u001b[0m \u001b[0mprint\u001b[0m\u001b[0;34m(\u001b[0m\u001b[0;34m\"-\"\u001b[0m\u001b[0;34m*\u001b[0m\u001b[0;36m50\u001b[0m\u001b[0;34m)\u001b[0m\u001b[0;34m\u001b[0m\u001b[0;34m\u001b[0m\u001b[0m\n\u001b[1;32m      4\u001b[0m \u001b[0mprint\u001b[0m\u001b[0;34m(\u001b[0m\u001b[0mtogether\u001b[0m\u001b[0;34m.\u001b[0m\u001b[0mFinetune\u001b[0m\u001b[0;34m.\u001b[0m\u001b[0mget_job_status\u001b[0m\u001b[0;34m(\u001b[0m\u001b[0mfine_tune_id\u001b[0m\u001b[0;34m=\u001b[0m\u001b[0mfine_tune_id\u001b[0m\u001b[0;34m)\u001b[0m\u001b[0;34m)\u001b[0m \u001b[0;31m# pending, running, completed\u001b[0m\u001b[0;34m\u001b[0m\u001b[0;34m\u001b[0m\u001b[0m\n\u001b[1;32m      5\u001b[0m \u001b[0mprint\u001b[0m\u001b[0;34m(\u001b[0m\u001b[0mtogether\u001b[0m\u001b[0;34m.\u001b[0m\u001b[0mFinetune\u001b[0m\u001b[0;34m.\u001b[0m\u001b[0mis_final_model_available\u001b[0m\u001b[0;34m(\u001b[0m\u001b[0mfine_tune_id\u001b[0m\u001b[0;34m=\u001b[0m\u001b[0mfine_tune_id\u001b[0m\u001b[0;34m)\u001b[0m\u001b[0;34m)\u001b[0m \u001b[0;31m# True, False\u001b[0m\u001b[0;34m\u001b[0m\u001b[0;34m\u001b[0m\u001b[0m\n",
            "\u001b[0;31mNameError\u001b[0m: name 'together' is not defined"
          ]
        }
      ],
      "source": [
        "# run this from time to time to check on the status of your job\n",
        "print(together.Finetune.retrieve(fine_tune_id=fine_tune_id)) # retrieves information on finetune event\n",
        "print(\"-\"*50)\n",
        "print(together.Finetune.get_job_status(fine_tune_id=fine_tune_id)) # pending, running, completed\n",
        "print(together.Finetune.is_final_model_available(fine_tune_id=fine_tune_id)) # True, False\n",
        "print(together.Finetune.get_checkpoints(fine_tune_id=fine_tune_id)) # list of checkpoints"
      ]
    },
    {
      "cell_type": "markdown",
      "source": [
        "Monitor your training/finetuning progress using weights and biases. Below we verify that our model is learning and our training loss is decreasing.\n",
        "\n",
        "<center><img src=\"https://raw.githubusercontent.com/clam004/together-examples/main/files/wandb.jpg\" height=300 width=600> </center>\n"
      ],
      "metadata": {
        "id": "mV1CK0C3hWQ0"
      }
    },
    {
      "cell_type": "code",
      "source": [
        "print(together.Finetune.get_job_status(fine_tune_id=fine_tune_id)) # pending, running, completed"
      ],
      "metadata": {
        "colab": {
          "base_uri": "https://localhost:8080/"
        },
        "id": "UHJEQ7ywg1va",
        "outputId": "b0c75543-f0df-4d18-e248-4d93cf0086aa"
      },
      "execution_count": null,
      "outputs": [
        {
          "output_type": "stream",
          "name": "stdout",
          "text": [
            "completed\n"
          ]
        }
      ]
    },
    {
      "cell_type": "markdown",
      "source": [
        "get_job_status will transition from `pending`, `queued`, `running`, to `complete`.\n",
        "\n",
        "when the job is finished, you should see:\n",
        "```\n",
        "{'training_file': 'file-69649a68-6a36-41ad-8420-1750e99c26a7', 'model_output_name': 'carson/llama-2-7b-chat-law-2023-09-22-20-37-12', 'model_output_path': 's3://together-dev/finetune/64c4302a5cb247a0c80a3ddb/carson/llama-2-7b-chat-law-2023-09-22-20-37-12/ft-2aaecf7b-ff6f-4341-813a-45d84ae2b1bf-2023-09-22-13-47-25', 'Suffix': 'law', 'model': 'togethercomputer/llama-2-7b-chat', 'n_epochs': 2, 'n_checkpoints': 1, 'batch_size': 4, 'learning_rate': 0.0001, 'user_id': '64c4302a5cb247a0c80a3ddb', 'staring_epoch': 0, 'training_offset': 0, 'checkspoint_path': '', 'random_seed': '', 'created_at': '2023-09-22T20:37:12.007Z', 'updated_at': '2023-09-22T20:52:52.675Z', 'status': 'completed', 'owner_address': '0xef5286fc0a1ac5bc4d4221cf3d51f1d97c45eaf7', 'id': 'ft-2aaecf7b-ff6f-4341-813a-45d84ae2b1bf', 'job_id': '1509', 'token_count': 1676524, 'param_count': 6738415616, 'total_price': 5000000000, 'epochs_completed': 2, 'events': [{'object': 'fine-tune-event', 'created_at': '2023-09-22T20:37:12.007Z .....\n",
        "\n",
        "completed\n",
        "\n",
        "True\n",
        "[]\n",
        "```"
      ],
      "metadata": {
        "id": "YC0_BePQaJx7"
      }
    },
    {
      "cell_type": "markdown",
      "source": [
        "The name of your finetuned model will show up in your list of models, but before you can start using it, you need to start it and it needs to finish deploying.\n",
        "\n",
        "You can also find the name of your new model, start it and stop it, at https://api.together.xyz/playground\n",
        "\n",
        "under `Models` > `My Model Instances`\n",
        "\n",
        "<center><img src=\"https://raw.githubusercontent.com/clam004/together-examples/main/files/mymodels.jpg\" height=300 width=600></center>"
      ],
      "metadata": {
        "id": "yufmqUI-azNy"
      }
    },
    {
      "cell_type": "code",
      "execution_count": null,
      "metadata": {
        "id": "xpPklOK-q1DM",
        "colab": {
          "base_uri": "https://localhost:8080/"
        },
        "outputId": "77d30aaf-7af0-47e6-f251-b1bd2a2fdecb"
      },
      "outputs": [
        {
          "output_type": "stream",
          "name": "stdout",
          "text": [
            "164 models available\n"
          ]
        },
        {
          "output_type": "execute_result",
          "data": {
            "text/plain": [
              "True"
            ]
          },
          "metadata": {},
          "execution_count": 123
        }
      ],
      "source": [
        "# replace this name with the name of your newly finetuned model\n",
        "new_model_name = 'leelandzhang@gmail.com/OpenHermes-2p5-Mistral-7B-lighting-2024-02-17-09-59-53'\n",
        "\n",
        "model_list = together.Models.list()\n",
        "\n",
        "print(f\"{len(model_list)} models available\")\n",
        "\n",
        "available_model_names = [model_dict['name'] for model_dict in model_list]\n",
        "\n",
        "new_model_name in available_model_names"
      ]
    },
    {
      "cell_type": "code",
      "execution_count": null,
      "metadata": {
        "colab": {
          "base_uri": "https://localhost:8080/"
        },
        "id": "Ct-R3HF2wP4h",
        "outputId": "3f963907-c58b-4cb1-ad1d-32a5805717db"
      },
      "outputs": [
        {
          "output_type": "execute_result",
          "data": {
            "text/plain": [
              "{'success': True,\n",
              " 'value': 'b1d0e64eb80028e90687dc1701ea834cd8da2cec734c5720156866b39fe8bfc1-3bbeaf0d2671caa81aa289c6876b658905e9d104528257bd337ca5731f20e71e'}"
            ]
          },
          "metadata": {},
          "execution_count": 124
        }
      ],
      "source": [
        "# deploy your newly finetuned model\n",
        "together.Models.start(new_model_name)"
      ]
    },
    {
      "cell_type": "code",
      "execution_count": null,
      "metadata": {
        "colab": {
          "base_uri": "https://localhost:8080/"
        },
        "id": "GTeqwrSwspWs",
        "outputId": "a50c4891-6304-4ee6-bd50-943b3f3ddbe8"
      },
      "outputs": [
        {
          "output_type": "execute_result",
          "data": {
            "text/plain": [
              "[{'modelInstanceConfig': {'appearsIn': [], 'order': 0},\n",
              "  '_id': '65d087f2a40a7b4cc787eadd',\n",
              "  'name': 'leelandzhang@gmail.com/OpenHermes-2p5-Mistral-7B-lighting-2024-02-17-09-59-53',\n",
              "  'display_type': 'chat',\n",
              "  'description': 'Continuation of OpenHermes 2 Mistral model trained on additional code datasets',\n",
              "  'creator_organization': 'leelandzhang@gmail.com',\n",
              "  'hardware_label': 'L40',\n",
              "  'num_parameters': 7241732096,\n",
              "  'release_date': '2024-02-17T10:18:26.668Z',\n",
              "  'show_in_playground': True,\n",
              "  'owner': 'leelandzhang@gmail.com',\n",
              "  'owner_address': '0x11ff8254faa86ec5f5067a4c4da6b6a94dbf17f0',\n",
              "  'owner_userid': '65d02832e27fee63c4251617',\n",
              "  'parent': 'teknium/OpenHermes-2p5-Mistral-7B',\n",
              "  'base': 'teknium/OpenHermes-2p5-Mistral-7B',\n",
              "  'path': 'r2://together-dev/finetune/65d02832e27fee63c4251617/leelandzhang@gmail.com/OpenHermes-2p5-Mistral-7B-lighting-2024-02-17-09-59-53/ft-b13183f2-3ac1-4e68-be3e-6cc9b840a6b4-2024-02-17-02-13-58',\n",
              "  'files': [{'filename': 'added_tokens.json',\n",
              "    'size': 51,\n",
              "    'hash': '2dbbc1b62f58c6cbc9a0e098790268d',\n",
              "    'modified': '2024-02-17T10:14:02.037Z'},\n",
              "   {'filename': 'config.json',\n",
              "    'size': 646,\n",
              "    'hash': '3dea9f2116bf53946aa0a2f75c073ea',\n",
              "    'modified': '2024-02-17T10:14:02.266Z'},\n",
              "   {'filename': 'generation_config.json',\n",
              "    'size': 137,\n",
              "    'hash': 'd28e15de37c8aa9553211591e12b332',\n",
              "    'modified': '2024-02-17T10:14:02.151Z'},\n",
              "   {'filename': 'model-00001-of-00003.safetensors',\n",
              "    'size': 4943178624,\n",
              "    'hash': '899d0a41cee1baf305a8a7d3ce386442-59',\n",
              "    'modified': '2024-02-17T10:16:13.111Z'},\n",
              "   {'filename': 'model-00002-of-00003.safetensors',\n",
              "    'size': 4999819232,\n",
              "    'hash': 'c9808adcc0e4d5a99b6090f08f298a1b-59',\n",
              "    'modified': '2024-02-17T10:16:09.587Z'},\n",
              "   {'filename': 'model-00003-of-00003.safetensors',\n",
              "    'size': 4540532640,\n",
              "    'hash': '6a8b1977d6b3f702c7737436c0a2e956-54',\n",
              "    'modified': '2024-02-17T10:15:50.088Z'},\n",
              "   {'filename': 'model.safetensors.index.json',\n",
              "    'size': 23950,\n",
              "    'hash': '35d2eb8947137a4223d79bf8c0d797e',\n",
              "    'modified': '2024-02-17T10:14:02.226Z'},\n",
              "   {'filename': 'special_tokens_map.json',\n",
              "    'size': 420,\n",
              "    'hash': '1be4129a04ff40c61f95cc31c7c39d5',\n",
              "    'modified': '2024-02-17T10:14:02.025Z'},\n",
              "   {'filename': 'tokenizer.model',\n",
              "    'size': 493443,\n",
              "    'hash': '37974873eb68a7ab30c4912fc36264a',\n",
              "    'modified': '2024-02-17T10:14:02.456Z'},\n",
              "   {'filename': 'tokenizer_config.json',\n",
              "    'size': 1598,\n",
              "    'hash': '10a0bcae789220abc9e70d3ae17c21b',\n",
              "    'modified': '2024-02-17T10:14:02.412Z'}],\n",
              "  'config': {'stop': ['<|im_end|>', '<|im_start|>'],\n",
              "   'prompt_format': '<|im_start|>user\\n{prompt}<|im_end|>\\n<|im_start|>assistant\\n',\n",
              "   'add_generation_prompt': True,\n",
              "   'chat_template_name': 'default'},\n",
              "  'worker_config': None,\n",
              "  'worker_template': None,\n",
              "  'pricing': {'hourly': 1400000000,\n",
              "   'input': 0,\n",
              "   'output': 0,\n",
              "   'finetune': 0,\n",
              "   'base': 0},\n",
              "  'created_at': '2024-02-17T10:18:26.833Z',\n",
              "  'update_at': '2024-02-17T10:18:26.833Z',\n",
              "  'autopilot_pool': None,\n",
              "  'has_wandb_telemetry': False,\n",
              "  'wandb_url': '',\n",
              "  'ready': True}]"
            ]
          },
          "metadata": {},
          "execution_count": 129
        }
      ],
      "source": [
        "# check if your model is finished deploying, if this returns {\"ready\": true}, you model is ready for inference\n",
        "together.Models.ready(new_model_name)"
      ]
    },
    {
      "cell_type": "code",
      "execution_count": null,
      "metadata": {
        "colab": {
          "base_uri": "https://localhost:8080/"
        },
        "id": "Q4wXuwruwVRa",
        "outputId": "2bb70385-1276-4933-fca2-d3c840a68c44"
      },
      "outputs": [
        {
          "output_type": "stream",
          "name": "stdout",
          "text": [
            "leelandzhang@gmail.com/OpenHermes-2p5-Mistral-7B-lighting-2024-02-17-09-59-53\n",
            "<s>[INST] <<SYS>> you are a helpful assistant <</SYS>> I want to change the lighting of the image so that it shines from left and above [/INST] -> frontrighttop light\"] if [\"leftbottom\",\" bottom[\"back top fronts right\"],light],\"just** back as ]]> with effect like ]\",frontright day>>] coming </\n"
          ]
        }
      ],
      "source": [
        "# use the inference API to generate text / create completion / chat\n",
        "print(new_model_name)\n",
        "\n",
        "output = together.Complete.create(\n",
        "  prompt = test_chat_prompt,\n",
        "  model = new_model_name,\n",
        "  max_tokens = 256,\n",
        "  temperature = 0.5,\n",
        "  top_k = 90,\n",
        "  top_p = 0.8,\n",
        "  repetition_penalty = 2.1,\n",
        "  stop = ['</s>']\n",
        ")\n",
        "\n",
        "# print generated text\n",
        "print(output['prompt'][0]+\" -> \"+output['output']['choices'][0]['text'])"
      ]
    },
    {
      "cell_type": "code",
      "source": [
        "print(\"[\\\"top\\\", \\\"left\\\", \\\"middle\\\"]\")"
      ],
      "metadata": {
        "colab": {
          "base_uri": "https://localhost:8080/"
        },
        "id": "PFHFMgBDWa8Z",
        "outputId": "5e6b401b-1c1f-4b88-dcc8-68f83b0b330a"
      },
      "execution_count": null,
      "outputs": [
        {
          "output_type": "stream",
          "name": "stdout",
          "text": [
            "[\"top\", \"left\", \"middle\"]\n"
          ]
        }
      ]
    },
    {
      "cell_type": "markdown",
      "source": [
        "[\"top\", \"left\", \"middle\"]"
      ],
      "metadata": {
        "id": "bl9NfcSEWJEi"
      }
    },
    {
      "cell_type": "markdown",
      "metadata": {
        "id": "pQwlh60s2x-6"
      },
      "source": [
        "#### Example input separated from generated output by the ` -> ` sequence:\n",
        "\n",
        "\n",
        "`<s>[INST] <<SYS>> you are a helpful legal assistant <</SYS>> Analyze and explain the legal reasoning behind the judgment in the given case.\\n\\nCentral Inland Water Transport Corporation Ltd. vs Brojo Nath Ganguly & Anr., 1986 AIR 1571, 1986 SCR (2) 278 [/INST]`\n",
        "\n",
        " ` -> `\n",
        "\n",
        " `The Supreme Court's decision in Central Inland Water Transport Corporation Ltd. vs Brojo Nath Ganguly & Anr. was based on several key legal principles and reasoning. Firstly, the court held that Article 14 of the Indian Constitution, which guarantees the right to equality, can apply to contractual terms between State entities and private parties if found arbitrary. This means that even though the employees were not government servants under the definition provided under Article 12, their service conditions could still be subject to constitutional scrutiny. Secondly, the court emphasized that Article 14 does not require proof of malice or mala fides for a termination to be deemed arbitrary. Instead, it is enough to show that the termination violates the principle of reasonableness and non-arbitrariness. Thirdly, the court rejected the doctrine of 'State instrumentality' as a valid defense against writ jurisdiction, stating that an entity will be considered 'State' only if there is deep and pervasive governmental control in its functioning and financing. Lastly, the court clarified that the right to livelihood under Article 21 is affected by arbitrary termination of employment. Therefore, .....`\n",
        "  `</s>`\n",
        "\n",
        "##### *the stop token is `</s>`*"
      ]
    },
    {
      "cell_type": "code",
      "execution_count": null,
      "metadata": {
        "colab": {
          "base_uri": "https://localhost:8080/"
        },
        "id": "tS3F7CQ62voL",
        "outputId": "d8e702f2-f6e6-4281-96ee-392bd0be55b3"
      },
      "outputs": [
        {
          "output_type": "execute_result",
          "data": {
            "text/plain": [
              "{'success': True}"
            ]
          },
          "metadata": {},
          "execution_count": 139
        }
      ],
      "source": [
        "# stop your model and you will no longer be paying for it\n",
        "together.Models.stop(new_model_name)"
      ]
    }
  ],
  "metadata": {
    "colab": {
      "provenance": []
    },
    "kernelspec": {
      "display_name": "Python 3",
      "name": "python3"
    },
    "language_info": {
      "name": "python"
    },
    "widgets": {
      "application/vnd.jupyter.widget-state+json": {
        "74f91fe29fb64cf4aac37a5d2867f9bc": {
          "model_module": "@jupyter-widgets/controls",
          "model_name": "HBoxModel",
          "model_module_version": "1.5.0",
          "state": {
            "_dom_classes": [],
            "_model_module": "@jupyter-widgets/controls",
            "_model_module_version": "1.5.0",
            "_model_name": "HBoxModel",
            "_view_count": null,
            "_view_module": "@jupyter-widgets/controls",
            "_view_module_version": "1.5.0",
            "_view_name": "HBoxView",
            "box_style": "",
            "children": [
              "IPY_MODEL_0b08f8b1c24b4ebfa16aa838293bccb2",
              "IPY_MODEL_ac1ff7a4a92f4fcc90fe6b3d8b1a1e0a",
              "IPY_MODEL_025e8f862adc44b8abe97b6cbb572463"
            ],
            "layout": "IPY_MODEL_11394979d1674988927654e8ecfe0219"
          }
        },
        "0b08f8b1c24b4ebfa16aa838293bccb2": {
          "model_module": "@jupyter-widgets/controls",
          "model_name": "HTMLModel",
          "model_module_version": "1.5.0",
          "state": {
            "_dom_classes": [],
            "_model_module": "@jupyter-widgets/controls",
            "_model_module_version": "1.5.0",
            "_model_name": "HTMLModel",
            "_view_count": null,
            "_view_module": "@jupyter-widgets/controls",
            "_view_module_version": "1.5.0",
            "_view_name": "HTMLView",
            "description": "",
            "description_tooltip": null,
            "layout": "IPY_MODEL_a64067784dac484fa4a665d7038a51ce",
            "placeholder": "​",
            "style": "IPY_MODEL_c82060ff59c24f29bc50e927692a9fd5",
            "value": "Downloading readme: 100%"
          }
        },
        "ac1ff7a4a92f4fcc90fe6b3d8b1a1e0a": {
          "model_module": "@jupyter-widgets/controls",
          "model_name": "FloatProgressModel",
          "model_module_version": "1.5.0",
          "state": {
            "_dom_classes": [],
            "_model_module": "@jupyter-widgets/controls",
            "_model_module_version": "1.5.0",
            "_model_name": "FloatProgressModel",
            "_view_count": null,
            "_view_module": "@jupyter-widgets/controls",
            "_view_module_version": "1.5.0",
            "_view_name": "ProgressView",
            "bar_style": "success",
            "description": "",
            "description_tooltip": null,
            "layout": "IPY_MODEL_d38087c474ed4af6b4e56e2dad43e858",
            "max": 28,
            "min": 0,
            "orientation": "horizontal",
            "style": "IPY_MODEL_7bf8fd26b9024fd9b645be28e35a6049",
            "value": 28
          }
        },
        "025e8f862adc44b8abe97b6cbb572463": {
          "model_module": "@jupyter-widgets/controls",
          "model_name": "HTMLModel",
          "model_module_version": "1.5.0",
          "state": {
            "_dom_classes": [],
            "_model_module": "@jupyter-widgets/controls",
            "_model_module_version": "1.5.0",
            "_model_name": "HTMLModel",
            "_view_count": null,
            "_view_module": "@jupyter-widgets/controls",
            "_view_module_version": "1.5.0",
            "_view_name": "HTMLView",
            "description": "",
            "description_tooltip": null,
            "layout": "IPY_MODEL_79de2b4e24784f5699eea88ef1dd85e4",
            "placeholder": "​",
            "style": "IPY_MODEL_ca8dda356a744a769d20d3925e321d62",
            "value": " 28.0/28.0 [00:00&lt;00:00, 984B/s]"
          }
        },
        "11394979d1674988927654e8ecfe0219": {
          "model_module": "@jupyter-widgets/base",
          "model_name": "LayoutModel",
          "model_module_version": "1.2.0",
          "state": {
            "_model_module": "@jupyter-widgets/base",
            "_model_module_version": "1.2.0",
            "_model_name": "LayoutModel",
            "_view_count": null,
            "_view_module": "@jupyter-widgets/base",
            "_view_module_version": "1.2.0",
            "_view_name": "LayoutView",
            "align_content": null,
            "align_items": null,
            "align_self": null,
            "border": null,
            "bottom": null,
            "display": null,
            "flex": null,
            "flex_flow": null,
            "grid_area": null,
            "grid_auto_columns": null,
            "grid_auto_flow": null,
            "grid_auto_rows": null,
            "grid_column": null,
            "grid_gap": null,
            "grid_row": null,
            "grid_template_areas": null,
            "grid_template_columns": null,
            "grid_template_rows": null,
            "height": null,
            "justify_content": null,
            "justify_items": null,
            "left": null,
            "margin": null,
            "max_height": null,
            "max_width": null,
            "min_height": null,
            "min_width": null,
            "object_fit": null,
            "object_position": null,
            "order": null,
            "overflow": null,
            "overflow_x": null,
            "overflow_y": null,
            "padding": null,
            "right": null,
            "top": null,
            "visibility": null,
            "width": null
          }
        },
        "a64067784dac484fa4a665d7038a51ce": {
          "model_module": "@jupyter-widgets/base",
          "model_name": "LayoutModel",
          "model_module_version": "1.2.0",
          "state": {
            "_model_module": "@jupyter-widgets/base",
            "_model_module_version": "1.2.0",
            "_model_name": "LayoutModel",
            "_view_count": null,
            "_view_module": "@jupyter-widgets/base",
            "_view_module_version": "1.2.0",
            "_view_name": "LayoutView",
            "align_content": null,
            "align_items": null,
            "align_self": null,
            "border": null,
            "bottom": null,
            "display": null,
            "flex": null,
            "flex_flow": null,
            "grid_area": null,
            "grid_auto_columns": null,
            "grid_auto_flow": null,
            "grid_auto_rows": null,
            "grid_column": null,
            "grid_gap": null,
            "grid_row": null,
            "grid_template_areas": null,
            "grid_template_columns": null,
            "grid_template_rows": null,
            "height": null,
            "justify_content": null,
            "justify_items": null,
            "left": null,
            "margin": null,
            "max_height": null,
            "max_width": null,
            "min_height": null,
            "min_width": null,
            "object_fit": null,
            "object_position": null,
            "order": null,
            "overflow": null,
            "overflow_x": null,
            "overflow_y": null,
            "padding": null,
            "right": null,
            "top": null,
            "visibility": null,
            "width": null
          }
        },
        "c82060ff59c24f29bc50e927692a9fd5": {
          "model_module": "@jupyter-widgets/controls",
          "model_name": "DescriptionStyleModel",
          "model_module_version": "1.5.0",
          "state": {
            "_model_module": "@jupyter-widgets/controls",
            "_model_module_version": "1.5.0",
            "_model_name": "DescriptionStyleModel",
            "_view_count": null,
            "_view_module": "@jupyter-widgets/base",
            "_view_module_version": "1.2.0",
            "_view_name": "StyleView",
            "description_width": ""
          }
        },
        "d38087c474ed4af6b4e56e2dad43e858": {
          "model_module": "@jupyter-widgets/base",
          "model_name": "LayoutModel",
          "model_module_version": "1.2.0",
          "state": {
            "_model_module": "@jupyter-widgets/base",
            "_model_module_version": "1.2.0",
            "_model_name": "LayoutModel",
            "_view_count": null,
            "_view_module": "@jupyter-widgets/base",
            "_view_module_version": "1.2.0",
            "_view_name": "LayoutView",
            "align_content": null,
            "align_items": null,
            "align_self": null,
            "border": null,
            "bottom": null,
            "display": null,
            "flex": null,
            "flex_flow": null,
            "grid_area": null,
            "grid_auto_columns": null,
            "grid_auto_flow": null,
            "grid_auto_rows": null,
            "grid_column": null,
            "grid_gap": null,
            "grid_row": null,
            "grid_template_areas": null,
            "grid_template_columns": null,
            "grid_template_rows": null,
            "height": null,
            "justify_content": null,
            "justify_items": null,
            "left": null,
            "margin": null,
            "max_height": null,
            "max_width": null,
            "min_height": null,
            "min_width": null,
            "object_fit": null,
            "object_position": null,
            "order": null,
            "overflow": null,
            "overflow_x": null,
            "overflow_y": null,
            "padding": null,
            "right": null,
            "top": null,
            "visibility": null,
            "width": null
          }
        },
        "7bf8fd26b9024fd9b645be28e35a6049": {
          "model_module": "@jupyter-widgets/controls",
          "model_name": "ProgressStyleModel",
          "model_module_version": "1.5.0",
          "state": {
            "_model_module": "@jupyter-widgets/controls",
            "_model_module_version": "1.5.0",
            "_model_name": "ProgressStyleModel",
            "_view_count": null,
            "_view_module": "@jupyter-widgets/base",
            "_view_module_version": "1.2.0",
            "_view_name": "StyleView",
            "bar_color": null,
            "description_width": ""
          }
        },
        "79de2b4e24784f5699eea88ef1dd85e4": {
          "model_module": "@jupyter-widgets/base",
          "model_name": "LayoutModel",
          "model_module_version": "1.2.0",
          "state": {
            "_model_module": "@jupyter-widgets/base",
            "_model_module_version": "1.2.0",
            "_model_name": "LayoutModel",
            "_view_count": null,
            "_view_module": "@jupyter-widgets/base",
            "_view_module_version": "1.2.0",
            "_view_name": "LayoutView",
            "align_content": null,
            "align_items": null,
            "align_self": null,
            "border": null,
            "bottom": null,
            "display": null,
            "flex": null,
            "flex_flow": null,
            "grid_area": null,
            "grid_auto_columns": null,
            "grid_auto_flow": null,
            "grid_auto_rows": null,
            "grid_column": null,
            "grid_gap": null,
            "grid_row": null,
            "grid_template_areas": null,
            "grid_template_columns": null,
            "grid_template_rows": null,
            "height": null,
            "justify_content": null,
            "justify_items": null,
            "left": null,
            "margin": null,
            "max_height": null,
            "max_width": null,
            "min_height": null,
            "min_width": null,
            "object_fit": null,
            "object_position": null,
            "order": null,
            "overflow": null,
            "overflow_x": null,
            "overflow_y": null,
            "padding": null,
            "right": null,
            "top": null,
            "visibility": null,
            "width": null
          }
        },
        "ca8dda356a744a769d20d3925e321d62": {
          "model_module": "@jupyter-widgets/controls",
          "model_name": "DescriptionStyleModel",
          "model_module_version": "1.5.0",
          "state": {
            "_model_module": "@jupyter-widgets/controls",
            "_model_module_version": "1.5.0",
            "_model_name": "DescriptionStyleModel",
            "_view_count": null,
            "_view_module": "@jupyter-widgets/base",
            "_view_module_version": "1.2.0",
            "_view_name": "StyleView",
            "description_width": ""
          }
        },
        "0c947f38d39340ee822d6b5eb8b2ebb2": {
          "model_module": "@jupyter-widgets/controls",
          "model_name": "HBoxModel",
          "model_module_version": "1.5.0",
          "state": {
            "_dom_classes": [],
            "_model_module": "@jupyter-widgets/controls",
            "_model_module_version": "1.5.0",
            "_model_name": "HBoxModel",
            "_view_count": null,
            "_view_module": "@jupyter-widgets/controls",
            "_view_module_version": "1.5.0",
            "_view_name": "HBoxView",
            "box_style": "",
            "children": [
              "IPY_MODEL_82242f4f931f45428d4d9bc18c3f0453",
              "IPY_MODEL_8906f69da5fd4363b8296f25e3e0ba5d",
              "IPY_MODEL_706c73a5d77d49128d3a364607448d95"
            ],
            "layout": "IPY_MODEL_e787f9297585480b9b671f00e7e69a51"
          }
        },
        "82242f4f931f45428d4d9bc18c3f0453": {
          "model_module": "@jupyter-widgets/controls",
          "model_name": "HTMLModel",
          "model_module_version": "1.5.0",
          "state": {
            "_dom_classes": [],
            "_model_module": "@jupyter-widgets/controls",
            "_model_module_version": "1.5.0",
            "_model_name": "HTMLModel",
            "_view_count": null,
            "_view_module": "@jupyter-widgets/controls",
            "_view_module_version": "1.5.0",
            "_view_name": "HTMLView",
            "description": "",
            "description_tooltip": null,
            "layout": "IPY_MODEL_be665ad84723492fa34ef7c0338e0572",
            "placeholder": "​",
            "style": "IPY_MODEL_6d51de69b1af4606a55e9f1069ef9921",
            "value": "Downloading data: 100%"
          }
        },
        "8906f69da5fd4363b8296f25e3e0ba5d": {
          "model_module": "@jupyter-widgets/controls",
          "model_name": "FloatProgressModel",
          "model_module_version": "1.5.0",
          "state": {
            "_dom_classes": [],
            "_model_module": "@jupyter-widgets/controls",
            "_model_module_version": "1.5.0",
            "_model_name": "FloatProgressModel",
            "_view_count": null,
            "_view_module": "@jupyter-widgets/controls",
            "_view_module_version": "1.5.0",
            "_view_name": "ProgressView",
            "bar_style": "success",
            "description": "",
            "description_tooltip": null,
            "layout": "IPY_MODEL_c8f9de49366e44cd8123013300c57748",
            "max": 16933503,
            "min": 0,
            "orientation": "horizontal",
            "style": "IPY_MODEL_320fb76591204915b415ab1fd0b2ba4b",
            "value": 16933503
          }
        },
        "706c73a5d77d49128d3a364607448d95": {
          "model_module": "@jupyter-widgets/controls",
          "model_name": "HTMLModel",
          "model_module_version": "1.5.0",
          "state": {
            "_dom_classes": [],
            "_model_module": "@jupyter-widgets/controls",
            "_model_module_version": "1.5.0",
            "_model_name": "HTMLModel",
            "_view_count": null,
            "_view_module": "@jupyter-widgets/controls",
            "_view_module_version": "1.5.0",
            "_view_name": "HTMLView",
            "description": "",
            "description_tooltip": null,
            "layout": "IPY_MODEL_be5b9d7b8e74454caa9d03b3442d2b60",
            "placeholder": "​",
            "style": "IPY_MODEL_f7af12d7575b425285bed7437457c14c",
            "value": " 16.9M/16.9M [00:07&lt;00:00, 1.69MB/s]"
          }
        },
        "e787f9297585480b9b671f00e7e69a51": {
          "model_module": "@jupyter-widgets/base",
          "model_name": "LayoutModel",
          "model_module_version": "1.2.0",
          "state": {
            "_model_module": "@jupyter-widgets/base",
            "_model_module_version": "1.2.0",
            "_model_name": "LayoutModel",
            "_view_count": null,
            "_view_module": "@jupyter-widgets/base",
            "_view_module_version": "1.2.0",
            "_view_name": "LayoutView",
            "align_content": null,
            "align_items": null,
            "align_self": null,
            "border": null,
            "bottom": null,
            "display": null,
            "flex": null,
            "flex_flow": null,
            "grid_area": null,
            "grid_auto_columns": null,
            "grid_auto_flow": null,
            "grid_auto_rows": null,
            "grid_column": null,
            "grid_gap": null,
            "grid_row": null,
            "grid_template_areas": null,
            "grid_template_columns": null,
            "grid_template_rows": null,
            "height": null,
            "justify_content": null,
            "justify_items": null,
            "left": null,
            "margin": null,
            "max_height": null,
            "max_width": null,
            "min_height": null,
            "min_width": null,
            "object_fit": null,
            "object_position": null,
            "order": null,
            "overflow": null,
            "overflow_x": null,
            "overflow_y": null,
            "padding": null,
            "right": null,
            "top": null,
            "visibility": null,
            "width": null
          }
        },
        "be665ad84723492fa34ef7c0338e0572": {
          "model_module": "@jupyter-widgets/base",
          "model_name": "LayoutModel",
          "model_module_version": "1.2.0",
          "state": {
            "_model_module": "@jupyter-widgets/base",
            "_model_module_version": "1.2.0",
            "_model_name": "LayoutModel",
            "_view_count": null,
            "_view_module": "@jupyter-widgets/base",
            "_view_module_version": "1.2.0",
            "_view_name": "LayoutView",
            "align_content": null,
            "align_items": null,
            "align_self": null,
            "border": null,
            "bottom": null,
            "display": null,
            "flex": null,
            "flex_flow": null,
            "grid_area": null,
            "grid_auto_columns": null,
            "grid_auto_flow": null,
            "grid_auto_rows": null,
            "grid_column": null,
            "grid_gap": null,
            "grid_row": null,
            "grid_template_areas": null,
            "grid_template_columns": null,
            "grid_template_rows": null,
            "height": null,
            "justify_content": null,
            "justify_items": null,
            "left": null,
            "margin": null,
            "max_height": null,
            "max_width": null,
            "min_height": null,
            "min_width": null,
            "object_fit": null,
            "object_position": null,
            "order": null,
            "overflow": null,
            "overflow_x": null,
            "overflow_y": null,
            "padding": null,
            "right": null,
            "top": null,
            "visibility": null,
            "width": null
          }
        },
        "6d51de69b1af4606a55e9f1069ef9921": {
          "model_module": "@jupyter-widgets/controls",
          "model_name": "DescriptionStyleModel",
          "model_module_version": "1.5.0",
          "state": {
            "_model_module": "@jupyter-widgets/controls",
            "_model_module_version": "1.5.0",
            "_model_name": "DescriptionStyleModel",
            "_view_count": null,
            "_view_module": "@jupyter-widgets/base",
            "_view_module_version": "1.2.0",
            "_view_name": "StyleView",
            "description_width": ""
          }
        },
        "c8f9de49366e44cd8123013300c57748": {
          "model_module": "@jupyter-widgets/base",
          "model_name": "LayoutModel",
          "model_module_version": "1.2.0",
          "state": {
            "_model_module": "@jupyter-widgets/base",
            "_model_module_version": "1.2.0",
            "_model_name": "LayoutModel",
            "_view_count": null,
            "_view_module": "@jupyter-widgets/base",
            "_view_module_version": "1.2.0",
            "_view_name": "LayoutView",
            "align_content": null,
            "align_items": null,
            "align_self": null,
            "border": null,
            "bottom": null,
            "display": null,
            "flex": null,
            "flex_flow": null,
            "grid_area": null,
            "grid_auto_columns": null,
            "grid_auto_flow": null,
            "grid_auto_rows": null,
            "grid_column": null,
            "grid_gap": null,
            "grid_row": null,
            "grid_template_areas": null,
            "grid_template_columns": null,
            "grid_template_rows": null,
            "height": null,
            "justify_content": null,
            "justify_items": null,
            "left": null,
            "margin": null,
            "max_height": null,
            "max_width": null,
            "min_height": null,
            "min_width": null,
            "object_fit": null,
            "object_position": null,
            "order": null,
            "overflow": null,
            "overflow_x": null,
            "overflow_y": null,
            "padding": null,
            "right": null,
            "top": null,
            "visibility": null,
            "width": null
          }
        },
        "320fb76591204915b415ab1fd0b2ba4b": {
          "model_module": "@jupyter-widgets/controls",
          "model_name": "ProgressStyleModel",
          "model_module_version": "1.5.0",
          "state": {
            "_model_module": "@jupyter-widgets/controls",
            "_model_module_version": "1.5.0",
            "_model_name": "ProgressStyleModel",
            "_view_count": null,
            "_view_module": "@jupyter-widgets/base",
            "_view_module_version": "1.2.0",
            "_view_name": "StyleView",
            "bar_color": null,
            "description_width": ""
          }
        },
        "be5b9d7b8e74454caa9d03b3442d2b60": {
          "model_module": "@jupyter-widgets/base",
          "model_name": "LayoutModel",
          "model_module_version": "1.2.0",
          "state": {
            "_model_module": "@jupyter-widgets/base",
            "_model_module_version": "1.2.0",
            "_model_name": "LayoutModel",
            "_view_count": null,
            "_view_module": "@jupyter-widgets/base",
            "_view_module_version": "1.2.0",
            "_view_name": "LayoutView",
            "align_content": null,
            "align_items": null,
            "align_self": null,
            "border": null,
            "bottom": null,
            "display": null,
            "flex": null,
            "flex_flow": null,
            "grid_area": null,
            "grid_auto_columns": null,
            "grid_auto_flow": null,
            "grid_auto_rows": null,
            "grid_column": null,
            "grid_gap": null,
            "grid_row": null,
            "grid_template_areas": null,
            "grid_template_columns": null,
            "grid_template_rows": null,
            "height": null,
            "justify_content": null,
            "justify_items": null,
            "left": null,
            "margin": null,
            "max_height": null,
            "max_width": null,
            "min_height": null,
            "min_width": null,
            "object_fit": null,
            "object_position": null,
            "order": null,
            "overflow": null,
            "overflow_x": null,
            "overflow_y": null,
            "padding": null,
            "right": null,
            "top": null,
            "visibility": null,
            "width": null
          }
        },
        "f7af12d7575b425285bed7437457c14c": {
          "model_module": "@jupyter-widgets/controls",
          "model_name": "DescriptionStyleModel",
          "model_module_version": "1.5.0",
          "state": {
            "_model_module": "@jupyter-widgets/controls",
            "_model_module_version": "1.5.0",
            "_model_name": "DescriptionStyleModel",
            "_view_count": null,
            "_view_module": "@jupyter-widgets/base",
            "_view_module_version": "1.2.0",
            "_view_name": "StyleView",
            "description_width": ""
          }
        },
        "5b82c8c203524a3e8d25fdf9ea575dd9": {
          "model_module": "@jupyter-widgets/controls",
          "model_name": "HBoxModel",
          "model_module_version": "1.5.0",
          "state": {
            "_dom_classes": [],
            "_model_module": "@jupyter-widgets/controls",
            "_model_module_version": "1.5.0",
            "_model_name": "HBoxModel",
            "_view_count": null,
            "_view_module": "@jupyter-widgets/controls",
            "_view_module_version": "1.5.0",
            "_view_name": "HBoxView",
            "box_style": "",
            "children": [
              "IPY_MODEL_e373b7ba1d2843b2b78122c42914d767",
              "IPY_MODEL_bffcc1a4a4984407b0c894bea8790f74",
              "IPY_MODEL_5b4a714190fb40498346e7ee65b16f79"
            ],
            "layout": "IPY_MODEL_a8a5414e05474053a6205710757a1a7e"
          }
        },
        "e373b7ba1d2843b2b78122c42914d767": {
          "model_module": "@jupyter-widgets/controls",
          "model_name": "HTMLModel",
          "model_module_version": "1.5.0",
          "state": {
            "_dom_classes": [],
            "_model_module": "@jupyter-widgets/controls",
            "_model_module_version": "1.5.0",
            "_model_name": "HTMLModel",
            "_view_count": null,
            "_view_module": "@jupyter-widgets/controls",
            "_view_module_version": "1.5.0",
            "_view_name": "HTMLView",
            "description": "",
            "description_tooltip": null,
            "layout": "IPY_MODEL_a62555c1eebe4496a9c06f798bd4e461",
            "placeholder": "​",
            "style": "IPY_MODEL_b0701e8e3a7e4b0d84864bbd4dafd31a",
            "value": "Generating train split: "
          }
        },
        "bffcc1a4a4984407b0c894bea8790f74": {
          "model_module": "@jupyter-widgets/controls",
          "model_name": "FloatProgressModel",
          "model_module_version": "1.5.0",
          "state": {
            "_dom_classes": [],
            "_model_module": "@jupyter-widgets/controls",
            "_model_module_version": "1.5.0",
            "_model_name": "FloatProgressModel",
            "_view_count": null,
            "_view_module": "@jupyter-widgets/controls",
            "_view_module_version": "1.5.0",
            "_view_name": "ProgressView",
            "bar_style": "success",
            "description": "",
            "description_tooltip": null,
            "layout": "IPY_MODEL_38ecc1869b5d48e685ac64ec1d26310d",
            "max": 1,
            "min": 0,
            "orientation": "horizontal",
            "style": "IPY_MODEL_7668bb1ba1964cdface4a7884b21e411",
            "value": 1
          }
        },
        "5b4a714190fb40498346e7ee65b16f79": {
          "model_module": "@jupyter-widgets/controls",
          "model_name": "HTMLModel",
          "model_module_version": "1.5.0",
          "state": {
            "_dom_classes": [],
            "_model_module": "@jupyter-widgets/controls",
            "_model_module_version": "1.5.0",
            "_model_name": "HTMLModel",
            "_view_count": null,
            "_view_module": "@jupyter-widgets/controls",
            "_view_module_version": "1.5.0",
            "_view_name": "HTMLView",
            "description": "",
            "description_tooltip": null,
            "layout": "IPY_MODEL_4b9d555bb5024b3585d856be63302340",
            "placeholder": "​",
            "style": "IPY_MODEL_e1b0e7e3641a4057b23e4c2b2ed019f9",
            "value": " 4394/0 [00:00&lt;00:00, 8720.50 examples/s]"
          }
        },
        "a8a5414e05474053a6205710757a1a7e": {
          "model_module": "@jupyter-widgets/base",
          "model_name": "LayoutModel",
          "model_module_version": "1.2.0",
          "state": {
            "_model_module": "@jupyter-widgets/base",
            "_model_module_version": "1.2.0",
            "_model_name": "LayoutModel",
            "_view_count": null,
            "_view_module": "@jupyter-widgets/base",
            "_view_module_version": "1.2.0",
            "_view_name": "LayoutView",
            "align_content": null,
            "align_items": null,
            "align_self": null,
            "border": null,
            "bottom": null,
            "display": null,
            "flex": null,
            "flex_flow": null,
            "grid_area": null,
            "grid_auto_columns": null,
            "grid_auto_flow": null,
            "grid_auto_rows": null,
            "grid_column": null,
            "grid_gap": null,
            "grid_row": null,
            "grid_template_areas": null,
            "grid_template_columns": null,
            "grid_template_rows": null,
            "height": null,
            "justify_content": null,
            "justify_items": null,
            "left": null,
            "margin": null,
            "max_height": null,
            "max_width": null,
            "min_height": null,
            "min_width": null,
            "object_fit": null,
            "object_position": null,
            "order": null,
            "overflow": null,
            "overflow_x": null,
            "overflow_y": null,
            "padding": null,
            "right": null,
            "top": null,
            "visibility": null,
            "width": null
          }
        },
        "a62555c1eebe4496a9c06f798bd4e461": {
          "model_module": "@jupyter-widgets/base",
          "model_name": "LayoutModel",
          "model_module_version": "1.2.0",
          "state": {
            "_model_module": "@jupyter-widgets/base",
            "_model_module_version": "1.2.0",
            "_model_name": "LayoutModel",
            "_view_count": null,
            "_view_module": "@jupyter-widgets/base",
            "_view_module_version": "1.2.0",
            "_view_name": "LayoutView",
            "align_content": null,
            "align_items": null,
            "align_self": null,
            "border": null,
            "bottom": null,
            "display": null,
            "flex": null,
            "flex_flow": null,
            "grid_area": null,
            "grid_auto_columns": null,
            "grid_auto_flow": null,
            "grid_auto_rows": null,
            "grid_column": null,
            "grid_gap": null,
            "grid_row": null,
            "grid_template_areas": null,
            "grid_template_columns": null,
            "grid_template_rows": null,
            "height": null,
            "justify_content": null,
            "justify_items": null,
            "left": null,
            "margin": null,
            "max_height": null,
            "max_width": null,
            "min_height": null,
            "min_width": null,
            "object_fit": null,
            "object_position": null,
            "order": null,
            "overflow": null,
            "overflow_x": null,
            "overflow_y": null,
            "padding": null,
            "right": null,
            "top": null,
            "visibility": null,
            "width": null
          }
        },
        "b0701e8e3a7e4b0d84864bbd4dafd31a": {
          "model_module": "@jupyter-widgets/controls",
          "model_name": "DescriptionStyleModel",
          "model_module_version": "1.5.0",
          "state": {
            "_model_module": "@jupyter-widgets/controls",
            "_model_module_version": "1.5.0",
            "_model_name": "DescriptionStyleModel",
            "_view_count": null,
            "_view_module": "@jupyter-widgets/base",
            "_view_module_version": "1.2.0",
            "_view_name": "StyleView",
            "description_width": ""
          }
        },
        "38ecc1869b5d48e685ac64ec1d26310d": {
          "model_module": "@jupyter-widgets/base",
          "model_name": "LayoutModel",
          "model_module_version": "1.2.0",
          "state": {
            "_model_module": "@jupyter-widgets/base",
            "_model_module_version": "1.2.0",
            "_model_name": "LayoutModel",
            "_view_count": null,
            "_view_module": "@jupyter-widgets/base",
            "_view_module_version": "1.2.0",
            "_view_name": "LayoutView",
            "align_content": null,
            "align_items": null,
            "align_self": null,
            "border": null,
            "bottom": null,
            "display": null,
            "flex": null,
            "flex_flow": null,
            "grid_area": null,
            "grid_auto_columns": null,
            "grid_auto_flow": null,
            "grid_auto_rows": null,
            "grid_column": null,
            "grid_gap": null,
            "grid_row": null,
            "grid_template_areas": null,
            "grid_template_columns": null,
            "grid_template_rows": null,
            "height": null,
            "justify_content": null,
            "justify_items": null,
            "left": null,
            "margin": null,
            "max_height": null,
            "max_width": null,
            "min_height": null,
            "min_width": null,
            "object_fit": null,
            "object_position": null,
            "order": null,
            "overflow": null,
            "overflow_x": null,
            "overflow_y": null,
            "padding": null,
            "right": null,
            "top": null,
            "visibility": null,
            "width": "20px"
          }
        },
        "7668bb1ba1964cdface4a7884b21e411": {
          "model_module": "@jupyter-widgets/controls",
          "model_name": "ProgressStyleModel",
          "model_module_version": "1.5.0",
          "state": {
            "_model_module": "@jupyter-widgets/controls",
            "_model_module_version": "1.5.0",
            "_model_name": "ProgressStyleModel",
            "_view_count": null,
            "_view_module": "@jupyter-widgets/base",
            "_view_module_version": "1.2.0",
            "_view_name": "StyleView",
            "bar_color": null,
            "description_width": ""
          }
        },
        "4b9d555bb5024b3585d856be63302340": {
          "model_module": "@jupyter-widgets/base",
          "model_name": "LayoutModel",
          "model_module_version": "1.2.0",
          "state": {
            "_model_module": "@jupyter-widgets/base",
            "_model_module_version": "1.2.0",
            "_model_name": "LayoutModel",
            "_view_count": null,
            "_view_module": "@jupyter-widgets/base",
            "_view_module_version": "1.2.0",
            "_view_name": "LayoutView",
            "align_content": null,
            "align_items": null,
            "align_self": null,
            "border": null,
            "bottom": null,
            "display": null,
            "flex": null,
            "flex_flow": null,
            "grid_area": null,
            "grid_auto_columns": null,
            "grid_auto_flow": null,
            "grid_auto_rows": null,
            "grid_column": null,
            "grid_gap": null,
            "grid_row": null,
            "grid_template_areas": null,
            "grid_template_columns": null,
            "grid_template_rows": null,
            "height": null,
            "justify_content": null,
            "justify_items": null,
            "left": null,
            "margin": null,
            "max_height": null,
            "max_width": null,
            "min_height": null,
            "min_width": null,
            "object_fit": null,
            "object_position": null,
            "order": null,
            "overflow": null,
            "overflow_x": null,
            "overflow_y": null,
            "padding": null,
            "right": null,
            "top": null,
            "visibility": null,
            "width": null
          }
        },
        "e1b0e7e3641a4057b23e4c2b2ed019f9": {
          "model_module": "@jupyter-widgets/controls",
          "model_name": "DescriptionStyleModel",
          "model_module_version": "1.5.0",
          "state": {
            "_model_module": "@jupyter-widgets/controls",
            "_model_module_version": "1.5.0",
            "_model_name": "DescriptionStyleModel",
            "_view_count": null,
            "_view_module": "@jupyter-widgets/base",
            "_view_module_version": "1.2.0",
            "_view_name": "StyleView",
            "description_width": ""
          }
        }
      }
    }
  },
  "nbformat": 4,
  "nbformat_minor": 0
}